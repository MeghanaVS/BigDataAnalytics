{
 "cells": [
  {
   "cell_type": "code",
   "execution_count": 1,
   "metadata": {},
   "outputs": [],
   "source": [
    "%matplotlib inline"
   ]
  },
  {
   "cell_type": "code",
   "execution_count": 2,
   "metadata": {},
   "outputs": [],
   "source": [
    "import pandas as pd\n",
    "import numpy as np\n",
    "import matplotlib.pyplot as plt\n",
    "import seaborn as sns"
   ]
  },
  {
   "cell_type": "code",
   "execution_count": 3,
   "metadata": {},
   "outputs": [],
   "source": [
    "from IPython.core.interactiveshell import InteractiveShell\n",
    "InteractiveShell.ast_node_interactivity = \"all\"\n",
    "import warnings\n",
    "warnings.filterwarnings('ignore')\n",
    "warnings.filterwarnings(action='ignore', category=DeprecationWarning)"
   ]
  },
  {
   "cell_type": "code",
   "execution_count": 4,
   "metadata": {},
   "outputs": [],
   "source": [
    "from IPython.display import display\n",
    "pd.set_option('display.max_columns', None)\n",
    "pd.set_option('display.max_rows', None)"
   ]
  },
  {
   "cell_type": "code",
   "execution_count": 5,
   "metadata": {},
   "outputs": [],
   "source": [
    "df = pd.read_csv('Churn_Modelling.csv')"
   ]
  },
  {
   "cell_type": "code",
   "execution_count": 6,
   "metadata": {},
   "outputs": [
    {
     "data": {
      "text/plain": [
       "(10000, 14)"
      ]
     },
     "execution_count": 6,
     "metadata": {},
     "output_type": "execute_result"
    }
   ],
   "source": [
    "df.shape"
   ]
  },
  {
   "cell_type": "code",
   "execution_count": 7,
   "metadata": {
    "scrolled": true
   },
   "outputs": [
    {
     "data": {
      "text/html": [
       "<div>\n",
       "<style scoped>\n",
       "    .dataframe tbody tr th:only-of-type {\n",
       "        vertical-align: middle;\n",
       "    }\n",
       "\n",
       "    .dataframe tbody tr th {\n",
       "        vertical-align: top;\n",
       "    }\n",
       "\n",
       "    .dataframe thead th {\n",
       "        text-align: right;\n",
       "    }\n",
       "</style>\n",
       "<table border=\"1\" class=\"dataframe\">\n",
       "  <thead>\n",
       "    <tr style=\"text-align: right;\">\n",
       "      <th></th>\n",
       "      <th>RowNumber</th>\n",
       "      <th>CustomerId</th>\n",
       "      <th>Surname</th>\n",
       "      <th>CreditScore</th>\n",
       "      <th>Geography</th>\n",
       "      <th>Gender</th>\n",
       "      <th>Age</th>\n",
       "      <th>Tenure</th>\n",
       "      <th>Balance</th>\n",
       "      <th>NumOfProducts</th>\n",
       "      <th>HasCrCard</th>\n",
       "      <th>IsActiveMember</th>\n",
       "      <th>EstimatedSalary</th>\n",
       "      <th>Exited</th>\n",
       "    </tr>\n",
       "  </thead>\n",
       "  <tbody>\n",
       "    <tr>\n",
       "      <th>0</th>\n",
       "      <td>1</td>\n",
       "      <td>15634602</td>\n",
       "      <td>Hargrave</td>\n",
       "      <td>619</td>\n",
       "      <td>France</td>\n",
       "      <td>Female</td>\n",
       "      <td>42</td>\n",
       "      <td>2</td>\n",
       "      <td>0.00</td>\n",
       "      <td>1</td>\n",
       "      <td>1</td>\n",
       "      <td>1</td>\n",
       "      <td>101348.88</td>\n",
       "      <td>1</td>\n",
       "    </tr>\n",
       "    <tr>\n",
       "      <th>1</th>\n",
       "      <td>2</td>\n",
       "      <td>15647311</td>\n",
       "      <td>Hill</td>\n",
       "      <td>608</td>\n",
       "      <td>Spain</td>\n",
       "      <td>Female</td>\n",
       "      <td>41</td>\n",
       "      <td>1</td>\n",
       "      <td>83807.86</td>\n",
       "      <td>1</td>\n",
       "      <td>0</td>\n",
       "      <td>1</td>\n",
       "      <td>112542.58</td>\n",
       "      <td>0</td>\n",
       "    </tr>\n",
       "    <tr>\n",
       "      <th>2</th>\n",
       "      <td>3</td>\n",
       "      <td>15619304</td>\n",
       "      <td>Onio</td>\n",
       "      <td>502</td>\n",
       "      <td>France</td>\n",
       "      <td>Female</td>\n",
       "      <td>42</td>\n",
       "      <td>8</td>\n",
       "      <td>159660.80</td>\n",
       "      <td>3</td>\n",
       "      <td>1</td>\n",
       "      <td>0</td>\n",
       "      <td>113931.57</td>\n",
       "      <td>1</td>\n",
       "    </tr>\n",
       "    <tr>\n",
       "      <th>3</th>\n",
       "      <td>4</td>\n",
       "      <td>15701354</td>\n",
       "      <td>Boni</td>\n",
       "      <td>699</td>\n",
       "      <td>France</td>\n",
       "      <td>Female</td>\n",
       "      <td>39</td>\n",
       "      <td>1</td>\n",
       "      <td>0.00</td>\n",
       "      <td>2</td>\n",
       "      <td>0</td>\n",
       "      <td>0</td>\n",
       "      <td>93826.63</td>\n",
       "      <td>0</td>\n",
       "    </tr>\n",
       "    <tr>\n",
       "      <th>4</th>\n",
       "      <td>5</td>\n",
       "      <td>15737888</td>\n",
       "      <td>Mitchell</td>\n",
       "      <td>850</td>\n",
       "      <td>Spain</td>\n",
       "      <td>Female</td>\n",
       "      <td>43</td>\n",
       "      <td>2</td>\n",
       "      <td>125510.82</td>\n",
       "      <td>1</td>\n",
       "      <td>1</td>\n",
       "      <td>1</td>\n",
       "      <td>79084.10</td>\n",
       "      <td>0</td>\n",
       "    </tr>\n",
       "    <tr>\n",
       "      <th>5</th>\n",
       "      <td>6</td>\n",
       "      <td>15574012</td>\n",
       "      <td>Chu</td>\n",
       "      <td>645</td>\n",
       "      <td>Spain</td>\n",
       "      <td>Male</td>\n",
       "      <td>44</td>\n",
       "      <td>8</td>\n",
       "      <td>113755.78</td>\n",
       "      <td>2</td>\n",
       "      <td>1</td>\n",
       "      <td>0</td>\n",
       "      <td>149756.71</td>\n",
       "      <td>1</td>\n",
       "    </tr>\n",
       "    <tr>\n",
       "      <th>6</th>\n",
       "      <td>7</td>\n",
       "      <td>15592531</td>\n",
       "      <td>Bartlett</td>\n",
       "      <td>822</td>\n",
       "      <td>France</td>\n",
       "      <td>Male</td>\n",
       "      <td>50</td>\n",
       "      <td>7</td>\n",
       "      <td>0.00</td>\n",
       "      <td>2</td>\n",
       "      <td>1</td>\n",
       "      <td>1</td>\n",
       "      <td>10062.80</td>\n",
       "      <td>0</td>\n",
       "    </tr>\n",
       "    <tr>\n",
       "      <th>7</th>\n",
       "      <td>8</td>\n",
       "      <td>15656148</td>\n",
       "      <td>Obinna</td>\n",
       "      <td>376</td>\n",
       "      <td>Germany</td>\n",
       "      <td>Female</td>\n",
       "      <td>29</td>\n",
       "      <td>4</td>\n",
       "      <td>115046.74</td>\n",
       "      <td>4</td>\n",
       "      <td>1</td>\n",
       "      <td>0</td>\n",
       "      <td>119346.88</td>\n",
       "      <td>1</td>\n",
       "    </tr>\n",
       "    <tr>\n",
       "      <th>8</th>\n",
       "      <td>9</td>\n",
       "      <td>15792365</td>\n",
       "      <td>He</td>\n",
       "      <td>501</td>\n",
       "      <td>France</td>\n",
       "      <td>Male</td>\n",
       "      <td>44</td>\n",
       "      <td>4</td>\n",
       "      <td>142051.07</td>\n",
       "      <td>2</td>\n",
       "      <td>0</td>\n",
       "      <td>1</td>\n",
       "      <td>74940.50</td>\n",
       "      <td>0</td>\n",
       "    </tr>\n",
       "    <tr>\n",
       "      <th>9</th>\n",
       "      <td>10</td>\n",
       "      <td>15592389</td>\n",
       "      <td>H?</td>\n",
       "      <td>684</td>\n",
       "      <td>France</td>\n",
       "      <td>Male</td>\n",
       "      <td>27</td>\n",
       "      <td>2</td>\n",
       "      <td>134603.88</td>\n",
       "      <td>1</td>\n",
       "      <td>1</td>\n",
       "      <td>1</td>\n",
       "      <td>71725.73</td>\n",
       "      <td>0</td>\n",
       "    </tr>\n",
       "  </tbody>\n",
       "</table>\n",
       "</div>"
      ],
      "text/plain": [
       "   RowNumber  CustomerId   Surname  CreditScore Geography  Gender  Age  \\\n",
       "0          1    15634602  Hargrave          619    France  Female   42   \n",
       "1          2    15647311      Hill          608     Spain  Female   41   \n",
       "2          3    15619304      Onio          502    France  Female   42   \n",
       "3          4    15701354      Boni          699    France  Female   39   \n",
       "4          5    15737888  Mitchell          850     Spain  Female   43   \n",
       "5          6    15574012       Chu          645     Spain    Male   44   \n",
       "6          7    15592531  Bartlett          822    France    Male   50   \n",
       "7          8    15656148    Obinna          376   Germany  Female   29   \n",
       "8          9    15792365        He          501    France    Male   44   \n",
       "9         10    15592389        H?          684    France    Male   27   \n",
       "\n",
       "   Tenure    Balance  NumOfProducts  HasCrCard  IsActiveMember  \\\n",
       "0       2       0.00              1          1               1   \n",
       "1       1   83807.86              1          0               1   \n",
       "2       8  159660.80              3          1               0   \n",
       "3       1       0.00              2          0               0   \n",
       "4       2  125510.82              1          1               1   \n",
       "5       8  113755.78              2          1               0   \n",
       "6       7       0.00              2          1               1   \n",
       "7       4  115046.74              4          1               0   \n",
       "8       4  142051.07              2          0               1   \n",
       "9       2  134603.88              1          1               1   \n",
       "\n",
       "   EstimatedSalary  Exited  \n",
       "0        101348.88       1  \n",
       "1        112542.58       0  \n",
       "2        113931.57       1  \n",
       "3         93826.63       0  \n",
       "4         79084.10       0  \n",
       "5        149756.71       1  \n",
       "6         10062.80       0  \n",
       "7        119346.88       1  \n",
       "8         74940.50       0  \n",
       "9         71725.73       0  "
      ]
     },
     "execution_count": 7,
     "metadata": {},
     "output_type": "execute_result"
    }
   ],
   "source": [
    "df.head(10)"
   ]
  },
  {
   "cell_type": "code",
   "execution_count": 8,
   "metadata": {
    "scrolled": true
   },
   "outputs": [
    {
     "data": {
      "text/plain": [
       "RowNumber            int64\n",
       "CustomerId           int64\n",
       "Surname             object\n",
       "CreditScore          int64\n",
       "Geography           object\n",
       "Gender              object\n",
       "Age                  int64\n",
       "Tenure               int64\n",
       "Balance            float64\n",
       "NumOfProducts        int64\n",
       "HasCrCard            int64\n",
       "IsActiveMember       int64\n",
       "EstimatedSalary    float64\n",
       "Exited               int64\n",
       "dtype: object"
      ]
     },
     "execution_count": 8,
     "metadata": {},
     "output_type": "execute_result"
    }
   ],
   "source": [
    "df.dtypes"
   ]
  },
  {
   "cell_type": "code",
   "execution_count": 9,
   "metadata": {},
   "outputs": [
    {
     "data": {
      "text/plain": [
       "<AxesSubplot:>"
      ]
     },
     "execution_count": 9,
     "metadata": {},
     "output_type": "execute_result"
    },
    {
     "data": {
      "image/png": "[encoded data removed]",
      "text/plain": [
       "<Figure size 432x288 with 1 Axes>"
      ]
     },
     "metadata": {
      "needs_background": "light"
     },
     "output_type": "display_data"
    }
   ],
   "source": [
    "df['Exited'].hist()"
   ]
  },
  {
   "cell_type": "markdown",
   "metadata": {},
   "source": [
    "### Basic EDA"
   ]
  },
  {
   "cell_type": "code",
   "execution_count": 10,
   "metadata": {},
   "outputs": [
    {
     "data": {
      "text/html": [
       "<div>\n",
       "<style scoped>\n",
       "    .dataframe tbody tr th:only-of-type {\n",
       "        vertical-align: middle;\n",
       "    }\n",
       "\n",
       "    .dataframe tbody tr th {\n",
       "        vertical-align: top;\n",
       "    }\n",
       "\n",
       "    .dataframe thead th {\n",
       "        text-align: right;\n",
       "    }\n",
       "</style>\n",
       "<table border=\"1\" class=\"dataframe\">\n",
       "  <thead>\n",
       "    <tr style=\"text-align: right;\">\n",
       "      <th></th>\n",
       "      <th>RowNumber</th>\n",
       "      <th>CustomerId</th>\n",
       "      <th>CreditScore</th>\n",
       "      <th>Age</th>\n",
       "      <th>Tenure</th>\n",
       "      <th>Balance</th>\n",
       "      <th>NumOfProducts</th>\n",
       "      <th>HasCrCard</th>\n",
       "      <th>IsActiveMember</th>\n",
       "      <th>EstimatedSalary</th>\n",
       "      <th>Exited</th>\n",
       "    </tr>\n",
       "  </thead>\n",
       "  <tbody>\n",
       "    <tr>\n",
       "      <th>count</th>\n",
       "      <td>10000.00000</td>\n",
       "      <td>1.000000e+04</td>\n",
       "      <td>10000.000000</td>\n",
       "      <td>10000.000000</td>\n",
       "      <td>10000.000000</td>\n",
       "      <td>10000.000000</td>\n",
       "      <td>10000.000000</td>\n",
       "      <td>10000.00000</td>\n",
       "      <td>10000.000000</td>\n",
       "      <td>10000.000000</td>\n",
       "      <td>10000.000000</td>\n",
       "    </tr>\n",
       "    <tr>\n",
       "      <th>mean</th>\n",
       "      <td>5000.50000</td>\n",
       "      <td>1.569094e+07</td>\n",
       "      <td>650.528800</td>\n",
       "      <td>38.921800</td>\n",
       "      <td>5.012800</td>\n",
       "      <td>76485.889288</td>\n",
       "      <td>1.530200</td>\n",
       "      <td>0.70550</td>\n",
       "      <td>0.515100</td>\n",
       "      <td>100090.239881</td>\n",
       "      <td>0.203700</td>\n",
       "    </tr>\n",
       "    <tr>\n",
       "      <th>std</th>\n",
       "      <td>2886.89568</td>\n",
       "      <td>7.193619e+04</td>\n",
       "      <td>96.653299</td>\n",
       "      <td>10.487806</td>\n",
       "      <td>2.892174</td>\n",
       "      <td>62397.405202</td>\n",
       "      <td>0.581654</td>\n",
       "      <td>0.45584</td>\n",
       "      <td>0.499797</td>\n",
       "      <td>57510.492818</td>\n",
       "      <td>0.402769</td>\n",
       "    </tr>\n",
       "    <tr>\n",
       "      <th>min</th>\n",
       "      <td>1.00000</td>\n",
       "      <td>1.556570e+07</td>\n",
       "      <td>350.000000</td>\n",
       "      <td>18.000000</td>\n",
       "      <td>0.000000</td>\n",
       "      <td>0.000000</td>\n",
       "      <td>1.000000</td>\n",
       "      <td>0.00000</td>\n",
       "      <td>0.000000</td>\n",
       "      <td>11.580000</td>\n",
       "      <td>0.000000</td>\n",
       "    </tr>\n",
       "    <tr>\n",
       "      <th>25%</th>\n",
       "      <td>2500.75000</td>\n",
       "      <td>1.562853e+07</td>\n",
       "      <td>584.000000</td>\n",
       "      <td>32.000000</td>\n",
       "      <td>3.000000</td>\n",
       "      <td>0.000000</td>\n",
       "      <td>1.000000</td>\n",
       "      <td>0.00000</td>\n",
       "      <td>0.000000</td>\n",
       "      <td>51002.110000</td>\n",
       "      <td>0.000000</td>\n",
       "    </tr>\n",
       "    <tr>\n",
       "      <th>50%</th>\n",
       "      <td>5000.50000</td>\n",
       "      <td>1.569074e+07</td>\n",
       "      <td>652.000000</td>\n",
       "      <td>37.000000</td>\n",
       "      <td>5.000000</td>\n",
       "      <td>97198.540000</td>\n",
       "      <td>1.000000</td>\n",
       "      <td>1.00000</td>\n",
       "      <td>1.000000</td>\n",
       "      <td>100193.915000</td>\n",
       "      <td>0.000000</td>\n",
       "    </tr>\n",
       "    <tr>\n",
       "      <th>75%</th>\n",
       "      <td>7500.25000</td>\n",
       "      <td>1.575323e+07</td>\n",
       "      <td>718.000000</td>\n",
       "      <td>44.000000</td>\n",
       "      <td>7.000000</td>\n",
       "      <td>127644.240000</td>\n",
       "      <td>2.000000</td>\n",
       "      <td>1.00000</td>\n",
       "      <td>1.000000</td>\n",
       "      <td>149388.247500</td>\n",
       "      <td>0.000000</td>\n",
       "    </tr>\n",
       "    <tr>\n",
       "      <th>max</th>\n",
       "      <td>10000.00000</td>\n",
       "      <td>1.581569e+07</td>\n",
       "      <td>850.000000</td>\n",
       "      <td>92.000000</td>\n",
       "      <td>10.000000</td>\n",
       "      <td>250898.090000</td>\n",
       "      <td>4.000000</td>\n",
       "      <td>1.00000</td>\n",
       "      <td>1.000000</td>\n",
       "      <td>199992.480000</td>\n",
       "      <td>1.000000</td>\n",
       "    </tr>\n",
       "  </tbody>\n",
       "</table>\n",
       "</div>"
      ],
      "text/plain": [
       "         RowNumber    CustomerId   CreditScore           Age        Tenure  \\\n",
       "count  10000.00000  1.000000e+04  10000.000000  10000.000000  10000.000000   \n",
       "mean    5000.50000  1.569094e+07    650.528800     38.921800      5.012800   \n",
       "std     2886.89568  7.193619e+04     96.653299     10.487806      2.892174   \n",
       "min        1.00000  1.556570e+07    350.000000     18.000000      0.000000   \n",
       "25%     2500.75000  1.562853e+07    584.000000     32.000000      3.000000   \n",
       "50%     5000.50000  1.569074e+07    652.000000     37.000000      5.000000   \n",
       "75%     7500.25000  1.575323e+07    718.000000     44.000000      7.000000   \n",
       "max    10000.00000  1.581569e+07    850.000000     92.000000     10.000000   \n",
       "\n",
       "             Balance  NumOfProducts    HasCrCard  IsActiveMember  \\\n",
       "count   10000.000000   10000.000000  10000.00000    10000.000000   \n",
       "mean    76485.889288       1.530200      0.70550        0.515100   \n",
       "std     62397.405202       0.581654      0.45584        0.499797   \n",
       "min         0.000000       1.000000      0.00000        0.000000   \n",
       "25%         0.000000       1.000000      0.00000        0.000000   \n",
       "50%     97198.540000       1.000000      1.00000        1.000000   \n",
       "75%    127644.240000       2.000000      1.00000        1.000000   \n",
       "max    250898.090000       4.000000      1.00000        1.000000   \n",
       "\n",
       "       EstimatedSalary        Exited  \n",
       "count     10000.000000  10000.000000  \n",
       "mean     100090.239881      0.203700  \n",
       "std       57510.492818      0.402769  \n",
       "min          11.580000      0.000000  \n",
       "25%       51002.110000      0.000000  \n",
       "50%      100193.915000      0.000000  \n",
       "75%      149388.247500      0.000000  \n",
       "max      199992.480000      1.000000  "
      ]
     },
     "execution_count": 10,
     "metadata": {},
     "output_type": "execute_result"
    },
    {
     "data": {
      "text/html": [
       "<div>\n",
       "<style scoped>\n",
       "    .dataframe tbody tr th:only-of-type {\n",
       "        vertical-align: middle;\n",
       "    }\n",
       "\n",
       "    .dataframe tbody tr th {\n",
       "        vertical-align: top;\n",
       "    }\n",
       "\n",
       "    .dataframe thead th {\n",
       "        text-align: right;\n",
       "    }\n",
       "</style>\n",
       "<table border=\"1\" class=\"dataframe\">\n",
       "  <thead>\n",
       "    <tr style=\"text-align: right;\">\n",
       "      <th></th>\n",
       "      <th>Surname</th>\n",
       "      <th>Geography</th>\n",
       "      <th>Gender</th>\n",
       "    </tr>\n",
       "  </thead>\n",
       "  <tbody>\n",
       "    <tr>\n",
       "      <th>count</th>\n",
       "      <td>10000</td>\n",
       "      <td>10000</td>\n",
       "      <td>10000</td>\n",
       "    </tr>\n",
       "    <tr>\n",
       "      <th>unique</th>\n",
       "      <td>2932</td>\n",
       "      <td>3</td>\n",
       "      <td>2</td>\n",
       "    </tr>\n",
       "    <tr>\n",
       "      <th>top</th>\n",
       "      <td>Smith</td>\n",
       "      <td>France</td>\n",
       "      <td>Male</td>\n",
       "    </tr>\n",
       "    <tr>\n",
       "      <th>freq</th>\n",
       "      <td>32</td>\n",
       "      <td>5014</td>\n",
       "      <td>5457</td>\n",
       "    </tr>\n",
       "  </tbody>\n",
       "</table>\n",
       "</div>"
      ],
      "text/plain": [
       "       Surname Geography Gender\n",
       "count    10000     10000  10000\n",
       "unique    2932         3      2\n",
       "top      Smith    France   Male\n",
       "freq        32      5014   5457"
      ]
     },
     "execution_count": 10,
     "metadata": {},
     "output_type": "execute_result"
    }
   ],
   "source": [
    "df.describe() \n",
    "df.describe(include = ['O'])"
   ]
  },
  {
   "cell_type": "code",
   "execution_count": 11,
   "metadata": {},
   "outputs": [
    {
     "data": {
      "text/plain": [
       "(10000, 10000)"
      ]
     },
     "execution_count": 11,
     "metadata": {},
     "output_type": "execute_result"
    }
   ],
   "source": [
    "df.shape[0], df.CustomerId.nunique()"
   ]
  },
  {
   "cell_type": "code",
   "execution_count": 12,
   "metadata": {},
   "outputs": [
    {
     "data": {
      "text/html": [
       "<div>\n",
       "<style scoped>\n",
       "    .dataframe tbody tr th:only-of-type {\n",
       "        vertical-align: middle;\n",
       "    }\n",
       "\n",
       "    .dataframe tbody tr th {\n",
       "        vertical-align: top;\n",
       "    }\n",
       "\n",
       "    .dataframe thead th {\n",
       "        text-align: right;\n",
       "    }\n",
       "</style>\n",
       "<table border=\"1\" class=\"dataframe\">\n",
       "  <thead>\n",
       "    <tr style=\"text-align: right;\">\n",
       "      <th></th>\n",
       "      <th>RowNumber</th>\n",
       "      <th>CustomerId</th>\n",
       "      <th>Surname</th>\n",
       "      <th>CreditScore</th>\n",
       "      <th>Geography</th>\n",
       "      <th>Gender</th>\n",
       "      <th>Age</th>\n",
       "      <th>Tenure</th>\n",
       "      <th>Balance</th>\n",
       "      <th>NumOfProducts</th>\n",
       "      <th>HasCrCard</th>\n",
       "      <th>IsActiveMember</th>\n",
       "      <th>EstimatedSalary</th>\n",
       "      <th>Exited</th>\n",
       "    </tr>\n",
       "  </thead>\n",
       "  <tbody>\n",
       "    <tr>\n",
       "      <th>0</th>\n",
       "      <td>1</td>\n",
       "      <td>15634602</td>\n",
       "      <td>Hargrave</td>\n",
       "      <td>619</td>\n",
       "      <td>France</td>\n",
       "      <td>Female</td>\n",
       "      <td>42</td>\n",
       "      <td>2</td>\n",
       "      <td>0.00</td>\n",
       "      <td>1</td>\n",
       "      <td>1</td>\n",
       "      <td>1</td>\n",
       "      <td>101348.88</td>\n",
       "      <td>1</td>\n",
       "    </tr>\n",
       "    <tr>\n",
       "      <th>1</th>\n",
       "      <td>2</td>\n",
       "      <td>15647311</td>\n",
       "      <td>Hill</td>\n",
       "      <td>608</td>\n",
       "      <td>Spain</td>\n",
       "      <td>Female</td>\n",
       "      <td>41</td>\n",
       "      <td>1</td>\n",
       "      <td>83807.86</td>\n",
       "      <td>1</td>\n",
       "      <td>0</td>\n",
       "      <td>1</td>\n",
       "      <td>112542.58</td>\n",
       "      <td>0</td>\n",
       "    </tr>\n",
       "    <tr>\n",
       "      <th>2</th>\n",
       "      <td>3</td>\n",
       "      <td>15619304</td>\n",
       "      <td>Onio</td>\n",
       "      <td>502</td>\n",
       "      <td>France</td>\n",
       "      <td>Female</td>\n",
       "      <td>42</td>\n",
       "      <td>8</td>\n",
       "      <td>159660.80</td>\n",
       "      <td>3</td>\n",
       "      <td>1</td>\n",
       "      <td>0</td>\n",
       "      <td>113931.57</td>\n",
       "      <td>1</td>\n",
       "    </tr>\n",
       "    <tr>\n",
       "      <th>3</th>\n",
       "      <td>4</td>\n",
       "      <td>15701354</td>\n",
       "      <td>Boni</td>\n",
       "      <td>699</td>\n",
       "      <td>France</td>\n",
       "      <td>Female</td>\n",
       "      <td>39</td>\n",
       "      <td>1</td>\n",
       "      <td>0.00</td>\n",
       "      <td>2</td>\n",
       "      <td>0</td>\n",
       "      <td>0</td>\n",
       "      <td>93826.63</td>\n",
       "      <td>0</td>\n",
       "    </tr>\n",
       "    <tr>\n",
       "      <th>4</th>\n",
       "      <td>5</td>\n",
       "      <td>15737888</td>\n",
       "      <td>Mitchell</td>\n",
       "      <td>850</td>\n",
       "      <td>Spain</td>\n",
       "      <td>Female</td>\n",
       "      <td>43</td>\n",
       "      <td>2</td>\n",
       "      <td>125510.82</td>\n",
       "      <td>1</td>\n",
       "      <td>1</td>\n",
       "      <td>1</td>\n",
       "      <td>79084.10</td>\n",
       "      <td>0</td>\n",
       "    </tr>\n",
       "  </tbody>\n",
       "</table>\n",
       "</div>"
      ],
      "text/plain": [
       "   RowNumber  CustomerId   Surname  CreditScore Geography  Gender  Age  \\\n",
       "0          1    15634602  Hargrave          619    France  Female   42   \n",
       "1          2    15647311      Hill          608     Spain  Female   41   \n",
       "2          3    15619304      Onio          502    France  Female   42   \n",
       "3          4    15701354      Boni          699    France  Female   39   \n",
       "4          5    15737888  Mitchell          850     Spain  Female   43   \n",
       "\n",
       "   Tenure    Balance  NumOfProducts  HasCrCard  IsActiveMember  \\\n",
       "0       2       0.00              1          1               1   \n",
       "1       1   83807.86              1          0               1   \n",
       "2       8  159660.80              3          1               0   \n",
       "3       1       0.00              2          0               0   \n",
       "4       2  125510.82              1          1               1   \n",
       "\n",
       "   EstimatedSalary  Exited  \n",
       "0        101348.88       1  \n",
       "1        112542.58       0  \n",
       "2        113931.57       1  \n",
       "3         93826.63       0  \n",
       "4         79084.10       0  "
      ]
     },
     "execution_count": 12,
     "metadata": {},
     "output_type": "execute_result"
    }
   ],
   "source": [
    "df.head()"
   ]
  },
  {
   "cell_type": "code",
   "execution_count": 13,
   "metadata": {},
   "outputs": [],
   "source": [
    "df_t = df.groupby(['Surname']).agg({'RowNumber':'count', 'Exited':'mean'}\n",
    "                                  ).reset_index().sort_values(by='RowNumber', ascending=False)"
   ]
  },
  {
   "cell_type": "code",
   "execution_count": 14,
   "metadata": {},
   "outputs": [
    {
     "data": {
      "text/html": [
       "<div>\n",
       "<style scoped>\n",
       "    .dataframe tbody tr th:only-of-type {\n",
       "        vertical-align: middle;\n",
       "    }\n",
       "\n",
       "    .dataframe tbody tr th {\n",
       "        vertical-align: top;\n",
       "    }\n",
       "\n",
       "    .dataframe thead th {\n",
       "        text-align: right;\n",
       "    }\n",
       "</style>\n",
       "<table border=\"1\" class=\"dataframe\">\n",
       "  <thead>\n",
       "    <tr style=\"text-align: right;\">\n",
       "      <th></th>\n",
       "      <th>Surname</th>\n",
       "      <th>RowNumber</th>\n",
       "      <th>Exited</th>\n",
       "    </tr>\n",
       "  </thead>\n",
       "  <tbody>\n",
       "    <tr>\n",
       "      <th>2473</th>\n",
       "      <td>Smith</td>\n",
       "      <td>32</td>\n",
       "      <td>0.281250</td>\n",
       "    </tr>\n",
       "    <tr>\n",
       "      <th>1689</th>\n",
       "      <td>Martin</td>\n",
       "      <td>29</td>\n",
       "      <td>0.310345</td>\n",
       "    </tr>\n",
       "    <tr>\n",
       "      <th>2389</th>\n",
       "      <td>Scott</td>\n",
       "      <td>29</td>\n",
       "      <td>0.103448</td>\n",
       "    </tr>\n",
       "    <tr>\n",
       "      <th>2751</th>\n",
       "      <td>Walker</td>\n",
       "      <td>28</td>\n",
       "      <td>0.142857</td>\n",
       "    </tr>\n",
       "    <tr>\n",
       "      <th>336</th>\n",
       "      <td>Brown</td>\n",
       "      <td>26</td>\n",
       "      <td>0.192308</td>\n",
       "    </tr>\n",
       "  </tbody>\n",
       "</table>\n",
       "</div>"
      ],
      "text/plain": [
       "     Surname  RowNumber    Exited\n",
       "2473   Smith         32  0.281250\n",
       "1689  Martin         29  0.310345\n",
       "2389   Scott         29  0.103448\n",
       "2751  Walker         28  0.142857\n",
       "336    Brown         26  0.192308"
      ]
     },
     "execution_count": 14,
     "metadata": {},
     "output_type": "execute_result"
    }
   ],
   "source": [
    "df_t.head()"
   ]
  },
  {
   "cell_type": "code",
   "execution_count": 15,
   "metadata": {},
   "outputs": [
    {
     "data": {
      "text/plain": [
       "France     0.5014\n",
       "Germany    0.2509\n",
       "Spain      0.2477\n",
       "Name: Geography, dtype: float64"
      ]
     },
     "execution_count": 15,
     "metadata": {},
     "output_type": "execute_result"
    }
   ],
   "source": [
    "df.Geography.value_counts(normalize=True)"
   ]
  },
  {
   "cell_type": "code",
   "execution_count": 16,
   "metadata": {},
   "outputs": [],
   "source": [
    "target_var = ['Exited']\n",
    "cols_to_remove = ['RowNumber', 'CustomerId']\n",
    "num_feats = ['CreditScore', 'Age', 'Tenure', 'Balance', 'NumOfProducts', 'EstimatedSalary']\n",
    "cat_feats = ['Surname', 'Geography', 'Gender', 'HasCrCard', 'IsActiveMember']"
   ]
  },
  {
   "cell_type": "markdown",
   "metadata": {},
   "source": [
    "Among these, Tenure and NumOfProducts are ordinal variables. HasCrCard and IsActiveMember are actually binary categorical variables."
   ]
  },
  {
   "cell_type": "code",
   "execution_count": 17,
   "metadata": {},
   "outputs": [],
   "source": [
    "y = df[target_var].values\n",
    "df.drop(cols_to_remove, axis=1, inplace=True)"
   ]
  },
  {
   "cell_type": "code",
   "execution_count": 18,
   "metadata": {},
   "outputs": [
    {
     "name": "stdout",
     "output_type": "stream",
     "text": [
      "[[1]\n",
      " [0]\n",
      " [1]\n",
      " ...\n",
      " [1]\n",
      " [1]\n",
      " [0]]\n"
     ]
    }
   ],
   "source": [
    "print(y)"
   ]
  },
  {
   "cell_type": "code",
   "execution_count": 19,
   "metadata": {},
   "outputs": [],
   "source": [
    "from sklearn.model_selection import train_test_split"
   ]
  },
  {
   "cell_type": "code",
   "execution_count": 20,
   "metadata": {},
   "outputs": [],
   "source": [
    "df_train_val, df_test, y_train_val, y_test = train_test_split(df, y.ravel(), test_size = 0.1, random_state = 42)\n",
    "\n",
    "df_train, df_val, y_train, y_val = train_test_split(df_train_val, y_train_val, test_size = 0.12, random_state = 42)"
   ]
  },
  {
   "cell_type": "code",
   "execution_count": 21,
   "metadata": {},
   "outputs": [
    {
     "data": {
      "text/plain": [
       "((7920, 12), (1080, 12), (1000, 12), (7920,), (1080,), (1000,))"
      ]
     },
     "execution_count": 21,
     "metadata": {},
     "output_type": "execute_result"
    },
    {
     "data": {
      "text/plain": [
       "(0.20303030303030303, 0.22037037037037038, 0.191)"
      ]
     },
     "execution_count": 21,
     "metadata": {},
     "output_type": "execute_result"
    }
   ],
   "source": [
    "df_train.shape, df_val.shape, df_test.shape, y_train.shape, y_val.shape, y_test.shape\n",
    "np.mean(y_train), np.mean(y_val), np.mean(y_test)"
   ]
  },
  {
   "cell_type": "markdown",
   "metadata": {},
   "source": [
    "### Univariate plots of numerical variables in training set"
   ]
  },
  {
   "cell_type": "code",
   "execution_count": 22,
   "metadata": {
    "scrolled": true
   },
   "outputs": [
    {
     "data": {
      "text/plain": [
       "<AxesSubplot:ylabel='CreditScore'>"
      ]
     },
     "execution_count": 22,
     "metadata": {},
     "output_type": "execute_result"
    },
    {
     "data": {
      "image/png": "[encoded data removed]",
      "text/plain": [
       "<Figure size 432x288 with 1 Axes>"
      ]
     },
     "metadata": {},
     "output_type": "display_data"
    }
   ],
   "source": [
    "sns.set(style=\"whitegrid\")\n",
    "sns.boxplot(y = df_train['CreditScore'])"
   ]
  },
  {
   "cell_type": "code",
   "execution_count": 23,
   "metadata": {},
   "outputs": [
    {
     "data": {
      "text/plain": [
       "<AxesSubplot:ylabel='Age'>"
      ]
     },
     "execution_count": 23,
     "metadata": {},
     "output_type": "execute_result"
    },
    {
     "data": {
      "image/png": "[encoded data removed]",
      "text/plain": [
       "<Figure size 432x288 with 1 Axes>"
      ]
     },
     "metadata": {},
     "output_type": "display_data"
    }
   ],
   "source": [
    "sns.boxplot(y = df_train['Age'])"
   ]
  },
  {
   "cell_type": "code",
   "execution_count": 24,
   "metadata": {},
   "outputs": [
    {
     "data": {
      "text/plain": [
       "<AxesSubplot:ylabel='Tenure'>"
      ]
     },
     "execution_count": 24,
     "metadata": {},
     "output_type": "execute_result"
    },
    {
     "data": {
      "image/png": "[encoded data removed]",
      "text/plain": [
       "<Figure size 432x288 with 1 Axes>"
      ]
     },
     "metadata": {},
     "output_type": "display_data"
    }
   ],
   "source": [
    "sns.violinplot(y = df_train.Tenure)"
   ]
  },
  {
   "cell_type": "code",
   "execution_count": 25,
   "metadata": {},
   "outputs": [
    {
     "data": {
      "text/plain": [
       "<AxesSubplot:ylabel='Balance'>"
      ]
     },
     "execution_count": 25,
     "metadata": {},
     "output_type": "execute_result"
    },
    {
     "data": {
      "image/png": "[encoded data removed]",
      "text/plain": [
       "<Figure size 432x288 with 1 Axes>"
      ]
     },
     "metadata": {},
     "output_type": "display_data"
    }
   ],
   "source": [
    "sns.violinplot(y = df_train['Balance'])"
   ]
  },
  {
   "cell_type": "code",
   "execution_count": 26,
   "metadata": {},
   "outputs": [
    {
     "data": {
      "text/plain": [
       "<AxesSubplot:xlabel='NumOfProducts'>"
      ]
     },
     "execution_count": 26,
     "metadata": {},
     "output_type": "execute_result"
    },
    {
     "data": {
      "image/png": "[encoded data removed]",
      "text/plain": [
       "<Figure size 432x288 with 1 Axes>"
      ]
     },
     "metadata": {},
     "output_type": "display_data"
    }
   ],
   "source": [
    "sns.set(style = 'ticks')\n",
    "sns.distplot(df_train.NumOfProducts, hist=True, kde=False)"
   ]
  },
  {
   "cell_type": "code",
   "execution_count": 27,
   "metadata": {
    "scrolled": true
   },
   "outputs": [
    {
     "data": {
      "text/plain": [
       "<AxesSubplot:xlabel='EstimatedSalary', ylabel='Density'>"
      ]
     },
     "execution_count": 27,
     "metadata": {},
     "output_type": "execute_result"
    },
    {
     "data": {
      "image/png": "[encoded data removed]",
      "text/plain": [
       "<Figure size 432x288 with 1 Axes>"
      ]
     },
     "metadata": {},
     "output_type": "display_data"
    }
   ],
   "source": [
    "sns.kdeplot(df_train.EstimatedSalary)"
   ]
  },
  {
   "cell_type": "markdown",
   "metadata": {},
   "source": [
    "### Missing values and outlier treatment"
   ]
  },
  {
   "cell_type": "code",
   "execution_count": 28,
   "metadata": {},
   "outputs": [
    {
     "data": {
      "text/plain": [
       "Surname            0\n",
       "CreditScore        0\n",
       "Geography          0\n",
       "Gender             0\n",
       "Age                0\n",
       "Tenure             0\n",
       "Balance            0\n",
       "NumOfProducts      0\n",
       "HasCrCard          0\n",
       "IsActiveMember     0\n",
       "EstimatedSalary    0\n",
       "Exited             0\n",
       "dtype: int64"
      ]
     },
     "execution_count": 28,
     "metadata": {},
     "output_type": "execute_result"
    }
   ],
   "source": [
    "df_train.isnull().sum()"
   ]
  },
  {
   "cell_type": "code",
   "execution_count": 29,
   "metadata": {},
   "outputs": [],
   "source": [
    "df_missing = df_train.copy()"
   ]
  },
  {
   "cell_type": "code",
   "execution_count": 30,
   "metadata": {},
   "outputs": [],
   "source": [
    "na_idx = df_missing.sample(frac = 0.1).index\n",
    "df_missing.loc[na_idx, 'Age'] = np.NaN\n",
    "\n",
    "na_idx = df_missing.sample(frac = 0.3).index\n",
    "df_missing.loc[na_idx, 'Geography'] = np.NaN\n",
    "\n",
    "na_idx = df_missing.sample(frac = 0.05).index\n",
    "df_missing.loc[na_idx, 'HasCrCard'] = np.NaN"
   ]
  },
  {
   "cell_type": "code",
   "execution_count": 31,
   "metadata": {},
   "outputs": [
    {
     "data": {
      "text/plain": [
       "Surname            0.00\n",
       "CreditScore        0.00\n",
       "Geography          0.30\n",
       "Gender             0.00\n",
       "Age                0.10\n",
       "Tenure             0.00\n",
       "Balance            0.00\n",
       "NumOfProducts      0.00\n",
       "HasCrCard          0.05\n",
       "IsActiveMember     0.00\n",
       "EstimatedSalary    0.00\n",
       "Exited             0.00\n",
       "dtype: float64"
      ]
     },
     "execution_count": 31,
     "metadata": {},
     "output_type": "execute_result"
    }
   ],
   "source": [
    "df_missing.isnull().sum()/df_missing.shape[0]"
   ]
  },
  {
   "cell_type": "code",
   "execution_count": 32,
   "metadata": {},
   "outputs": [],
   "source": [
    "age_mean = df_missing.Age.mean()"
   ]
  },
  {
   "cell_type": "code",
   "execution_count": 33,
   "metadata": {},
   "outputs": [
    {
     "data": {
      "text/plain": [
       "38.90011223344557"
      ]
     },
     "execution_count": 33,
     "metadata": {},
     "output_type": "execute_result"
    }
   ],
   "source": [
    "age_mean"
   ]
  },
  {
   "cell_type": "code",
   "execution_count": 34,
   "metadata": {},
   "outputs": [],
   "source": [
    "df_missing['Age'] = df_missing.Age.apply(lambda x: int(np.random.normal(age_mean,3)) if np.isnan(x) else x)"
   ]
  },
  {
   "cell_type": "code",
   "execution_count": 35,
   "metadata": {},
   "outputs": [
    {
     "data": {
      "text/plain": [
       "<AxesSubplot:xlabel='Age', ylabel='Density'>"
      ]
     },
     "execution_count": 35,
     "metadata": {},
     "output_type": "execute_result"
    },
    {
     "data": {
      "image/png": "[encoded data removed]",
      "text/plain": [
       "<Figure size 432x288 with 1 Axes>"
      ]
     },
     "metadata": {},
     "output_type": "display_data"
    }
   ],
   "source": [
    "sns.distplot(df_train.Age)"
   ]
  },
  {
   "cell_type": "code",
   "execution_count": 36,
   "metadata": {},
   "outputs": [
    {
     "data": {
      "text/plain": [
       "<AxesSubplot:xlabel='Age', ylabel='Density'>"
      ]
     },
     "execution_count": 36,
     "metadata": {},
     "output_type": "execute_result"
    },
    {
     "data": {
      "image/png": "[encoded data removed]",
      "text/plain": [
       "<Figure size 432x288 with 1 Axes>"
      ]
     },
     "metadata": {},
     "output_type": "display_data"
    }
   ],
   "source": [
    "sns.distplot(df_missing.Age)"
   ]
  },
  {
   "cell_type": "code",
   "execution_count": 37,
   "metadata": {},
   "outputs": [],
   "source": [
    "geog_fill_value = 'UNK'\n",
    "df_missing.Geography.fillna(geog_fill_value, inplace=True)\n",
    "\n",
    "df_missing.HasCrCard.fillna(0, inplace=True)"
   ]
  },
  {
   "cell_type": "code",
   "execution_count": 38,
   "metadata": {},
   "outputs": [
    {
     "data": {
      "text/plain": [
       "France     0.348611\n",
       "UNK        0.300000\n",
       "Spain      0.178535\n",
       "Germany    0.172854\n",
       "Name: Geography, dtype: float64"
      ]
     },
     "execution_count": 38,
     "metadata": {},
     "output_type": "execute_result"
    }
   ],
   "source": [
    "df_missing.Geography.value_counts(normalize=True)"
   ]
  },
  {
   "cell_type": "code",
   "execution_count": 39,
   "metadata": {},
   "outputs": [
    {
     "data": {
      "text/plain": [
       "Surname            0.0\n",
       "CreditScore        0.0\n",
       "Geography          0.0\n",
       "Gender             0.0\n",
       "Age                0.0\n",
       "Tenure             0.0\n",
       "Balance            0.0\n",
       "NumOfProducts      0.0\n",
       "HasCrCard          0.0\n",
       "IsActiveMember     0.0\n",
       "EstimatedSalary    0.0\n",
       "Exited             0.0\n",
       "dtype: float64"
      ]
     },
     "execution_count": 39,
     "metadata": {},
     "output_type": "execute_result"
    }
   ],
   "source": [
    "df_missing.isnull().sum()/df_missing.shape[0]"
   ]
  },
  {
   "cell_type": "markdown",
   "metadata": {},
   "source": [
    "#### Label Encoding for binary variables"
   ]
  },
  {
   "cell_type": "code",
   "execution_count": 40,
   "metadata": {},
   "outputs": [],
   "source": [
    "df_train['Gender_cat'] = df_train.Gender.astype('category').cat.codes"
   ]
  },
  {
   "cell_type": "code",
   "execution_count": 41,
   "metadata": {},
   "outputs": [
    {
     "data": {
      "text/html": [
       "<div>\n",
       "<style scoped>\n",
       "    .dataframe tbody tr th:only-of-type {\n",
       "        vertical-align: middle;\n",
       "    }\n",
       "\n",
       "    .dataframe tbody tr th {\n",
       "        vertical-align: top;\n",
       "    }\n",
       "\n",
       "    .dataframe thead th {\n",
       "        text-align: right;\n",
       "    }\n",
       "</style>\n",
       "<table border=\"1\" class=\"dataframe\">\n",
       "  <thead>\n",
       "    <tr style=\"text-align: right;\">\n",
       "      <th></th>\n",
       "      <th>Surname</th>\n",
       "      <th>CreditScore</th>\n",
       "      <th>Geography</th>\n",
       "      <th>Gender</th>\n",
       "      <th>Age</th>\n",
       "      <th>Tenure</th>\n",
       "      <th>Balance</th>\n",
       "      <th>NumOfProducts</th>\n",
       "      <th>HasCrCard</th>\n",
       "      <th>IsActiveMember</th>\n",
       "      <th>EstimatedSalary</th>\n",
       "      <th>Exited</th>\n",
       "      <th>Gender_cat</th>\n",
       "    </tr>\n",
       "  </thead>\n",
       "  <tbody>\n",
       "    <tr>\n",
       "      <th>6183</th>\n",
       "      <td>Holmes</td>\n",
       "      <td>611</td>\n",
       "      <td>France</td>\n",
       "      <td>Male</td>\n",
       "      <td>53</td>\n",
       "      <td>3</td>\n",
       "      <td>83568.26</td>\n",
       "      <td>1</td>\n",
       "      <td>0</td>\n",
       "      <td>0</td>\n",
       "      <td>1235.49</td>\n",
       "      <td>0</td>\n",
       "      <td>1</td>\n",
       "    </tr>\n",
       "    <tr>\n",
       "      <th>5878</th>\n",
       "      <td>Hsing</td>\n",
       "      <td>604</td>\n",
       "      <td>Germany</td>\n",
       "      <td>Male</td>\n",
       "      <td>36</td>\n",
       "      <td>10</td>\n",
       "      <td>113546.30</td>\n",
       "      <td>1</td>\n",
       "      <td>1</td>\n",
       "      <td>1</td>\n",
       "      <td>134875.37</td>\n",
       "      <td>0</td>\n",
       "      <td>1</td>\n",
       "    </tr>\n",
       "    <tr>\n",
       "      <th>1060</th>\n",
       "      <td>Ma</td>\n",
       "      <td>490</td>\n",
       "      <td>Spain</td>\n",
       "      <td>Female</td>\n",
       "      <td>48</td>\n",
       "      <td>8</td>\n",
       "      <td>155413.06</td>\n",
       "      <td>1</td>\n",
       "      <td>1</td>\n",
       "      <td>0</td>\n",
       "      <td>187921.30</td>\n",
       "      <td>0</td>\n",
       "      <td>0</td>\n",
       "    </tr>\n",
       "    <tr>\n",
       "      <th>3716</th>\n",
       "      <td>Lorenzo</td>\n",
       "      <td>665</td>\n",
       "      <td>Germany</td>\n",
       "      <td>Female</td>\n",
       "      <td>27</td>\n",
       "      <td>2</td>\n",
       "      <td>147435.96</td>\n",
       "      <td>1</td>\n",
       "      <td>0</td>\n",
       "      <td>0</td>\n",
       "      <td>187508.06</td>\n",
       "      <td>0</td>\n",
       "      <td>0</td>\n",
       "    </tr>\n",
       "    <tr>\n",
       "      <th>1079</th>\n",
       "      <td>Liang</td>\n",
       "      <td>664</td>\n",
       "      <td>France</td>\n",
       "      <td>Male</td>\n",
       "      <td>32</td>\n",
       "      <td>10</td>\n",
       "      <td>107209.73</td>\n",
       "      <td>1</td>\n",
       "      <td>1</td>\n",
       "      <td>1</td>\n",
       "      <td>112340.20</td>\n",
       "      <td>0</td>\n",
       "      <td>1</td>\n",
       "    </tr>\n",
       "    <tr>\n",
       "      <th>3072</th>\n",
       "      <td>Scott</td>\n",
       "      <td>740</td>\n",
       "      <td>France</td>\n",
       "      <td>Female</td>\n",
       "      <td>30</td>\n",
       "      <td>8</td>\n",
       "      <td>105209.54</td>\n",
       "      <td>1</td>\n",
       "      <td>1</td>\n",
       "      <td>0</td>\n",
       "      <td>1852.58</td>\n",
       "      <td>0</td>\n",
       "      <td>0</td>\n",
       "    </tr>\n",
       "    <tr>\n",
       "      <th>4590</th>\n",
       "      <td>Thomson</td>\n",
       "      <td>635</td>\n",
       "      <td>France</td>\n",
       "      <td>Female</td>\n",
       "      <td>78</td>\n",
       "      <td>6</td>\n",
       "      <td>47536.40</td>\n",
       "      <td>1</td>\n",
       "      <td>1</td>\n",
       "      <td>1</td>\n",
       "      <td>119400.08</td>\n",
       "      <td>0</td>\n",
       "      <td>0</td>\n",
       "    </tr>\n",
       "    <tr>\n",
       "      <th>7871</th>\n",
       "      <td>Lowrie</td>\n",
       "      <td>676</td>\n",
       "      <td>France</td>\n",
       "      <td>Female</td>\n",
       "      <td>36</td>\n",
       "      <td>3</td>\n",
       "      <td>91711.59</td>\n",
       "      <td>1</td>\n",
       "      <td>1</td>\n",
       "      <td>1</td>\n",
       "      <td>95393.43</td>\n",
       "      <td>0</td>\n",
       "      <td>0</td>\n",
       "    </tr>\n",
       "    <tr>\n",
       "      <th>4179</th>\n",
       "      <td>Todd</td>\n",
       "      <td>716</td>\n",
       "      <td>Spain</td>\n",
       "      <td>Male</td>\n",
       "      <td>33</td>\n",
       "      <td>2</td>\n",
       "      <td>0.00</td>\n",
       "      <td>2</td>\n",
       "      <td>1</td>\n",
       "      <td>1</td>\n",
       "      <td>92916.53</td>\n",
       "      <td>0</td>\n",
       "      <td>1</td>\n",
       "    </tr>\n",
       "    <tr>\n",
       "      <th>1289</th>\n",
       "      <td>Amechi</td>\n",
       "      <td>672</td>\n",
       "      <td>Germany</td>\n",
       "      <td>Male</td>\n",
       "      <td>40</td>\n",
       "      <td>10</td>\n",
       "      <td>102980.44</td>\n",
       "      <td>1</td>\n",
       "      <td>1</td>\n",
       "      <td>0</td>\n",
       "      <td>1285.81</td>\n",
       "      <td>1</td>\n",
       "      <td>1</td>\n",
       "    </tr>\n",
       "  </tbody>\n",
       "</table>\n",
       "</div>"
      ],
      "text/plain": [
       "      Surname  CreditScore Geography  Gender  Age  Tenure    Balance  \\\n",
       "6183   Holmes          611    France    Male   53       3   83568.26   \n",
       "5878    Hsing          604   Germany    Male   36      10  113546.30   \n",
       "1060       Ma          490     Spain  Female   48       8  155413.06   \n",
       "3716  Lorenzo          665   Germany  Female   27       2  147435.96   \n",
       "1079    Liang          664    France    Male   32      10  107209.73   \n",
       "3072    Scott          740    France  Female   30       8  105209.54   \n",
       "4590  Thomson          635    France  Female   78       6   47536.40   \n",
       "7871   Lowrie          676    France  Female   36       3   91711.59   \n",
       "4179     Todd          716     Spain    Male   33       2       0.00   \n",
       "1289   Amechi          672   Germany    Male   40      10  102980.44   \n",
       "\n",
       "      NumOfProducts  HasCrCard  IsActiveMember  EstimatedSalary  Exited  \\\n",
       "6183              1          0               0          1235.49       0   \n",
       "5878              1          1               1        134875.37       0   \n",
       "1060              1          1               0        187921.30       0   \n",
       "3716              1          0               0        187508.06       0   \n",
       "1079              1          1               1        112340.20       0   \n",
       "3072              1          1               0          1852.58       0   \n",
       "4590              1          1               1        119400.08       0   \n",
       "7871              1          1               1         95393.43       0   \n",
       "4179              2          1               1         92916.53       0   \n",
       "1289              1          1               0          1285.81       1   \n",
       "\n",
       "      Gender_cat  \n",
       "6183           1  \n",
       "5878           1  \n",
       "1060           0  \n",
       "3716           0  \n",
       "1079           1  \n",
       "3072           0  \n",
       "4590           0  \n",
       "7871           0  \n",
       "4179           1  \n",
       "1289           1  "
      ]
     },
     "execution_count": 41,
     "metadata": {},
     "output_type": "execute_result"
    }
   ],
   "source": [
    "df_train.sample(10)"
   ]
  },
  {
   "cell_type": "code",
   "execution_count": 42,
   "metadata": {},
   "outputs": [],
   "source": [
    "df_train.drop('Gender_cat', axis=1, inplace = True)"
   ]
  },
  {
   "cell_type": "code",
   "execution_count": 43,
   "metadata": {},
   "outputs": [],
   "source": [
    "from sklearn.preprocessing import LabelEncoder"
   ]
  },
  {
   "cell_type": "code",
   "execution_count": 44,
   "metadata": {},
   "outputs": [],
   "source": [
    "le = LabelEncoder()"
   ]
  },
  {
   "cell_type": "code",
   "execution_count": 45,
   "metadata": {},
   "outputs": [],
   "source": [
    "df_train['Gender'] = le.fit_transform(df_train['Gender'])"
   ]
  },
  {
   "cell_type": "code",
   "execution_count": 46,
   "metadata": {},
   "outputs": [
    {
     "data": {
      "text/plain": [
       "{'Female': 0, 'Male': 1}"
      ]
     },
     "execution_count": 46,
     "metadata": {},
     "output_type": "execute_result"
    }
   ],
   "source": [
    "le_name_mapping = dict(zip(le.classes_, le.transform(le.classes_)))\n",
    "le_name_mapping"
   ]
  },
  {
   "cell_type": "code",
   "execution_count": 47,
   "metadata": {},
   "outputs": [
    {
     "data": {
      "text/plain": [
       "array([1])"
      ]
     },
     "execution_count": 47,
     "metadata": {},
     "output_type": "execute_result"
    }
   ],
   "source": [
    "le.transform([['Male']])"
   ]
  },
  {
   "cell_type": "code",
   "execution_count": 48,
   "metadata": {},
   "outputs": [
    {
     "data": {
      "text/plain": [
       "0   NaN\n",
       "dtype: float64"
      ]
     },
     "execution_count": 48,
     "metadata": {},
     "output_type": "execute_result"
    }
   ],
   "source": [
    "pd.Series(['ABC']).map(le_name_mapping)"
   ]
  },
  {
   "cell_type": "code",
   "execution_count": 49,
   "metadata": {},
   "outputs": [],
   "source": [
    "df_val['Gender'] = df_val.Gender.map(le_name_mapping)\n",
    "df_test['Gender'] = df_test.Gender.map(le_name_mapping)\n",
    "\n",
    "df_val['Gender'].fillna(-1, inplace=True)\n",
    "df_test['Gender'].fillna(-1, inplace=True)"
   ]
  },
  {
   "cell_type": "code",
   "execution_count": 50,
   "metadata": {},
   "outputs": [
    {
     "data": {
      "text/plain": [
       "(array([1, 0]), array([1, 0]), array([1, 0]))"
      ]
     },
     "execution_count": 50,
     "metadata": {},
     "output_type": "execute_result"
    }
   ],
   "source": [
    "df_train.Gender.unique(), df_val.Gender.unique(), df_test.Gender.unique()"
   ]
  },
  {
   "cell_type": "markdown",
   "metadata": {},
   "source": [
    "#### One-Hot encoding for categorical variables with multiple levels"
   ]
  },
  {
   "cell_type": "code",
   "execution_count": 51,
   "metadata": {},
   "outputs": [
    {
     "data": {
      "text/html": [
       "<div>\n",
       "<style scoped>\n",
       "    .dataframe tbody tr th:only-of-type {\n",
       "        vertical-align: middle;\n",
       "    }\n",
       "\n",
       "    .dataframe tbody tr th {\n",
       "        vertical-align: top;\n",
       "    }\n",
       "\n",
       "    .dataframe thead th {\n",
       "        text-align: right;\n",
       "    }\n",
       "</style>\n",
       "<table border=\"1\" class=\"dataframe\">\n",
       "  <thead>\n",
       "    <tr style=\"text-align: right;\">\n",
       "      <th></th>\n",
       "      <th>Surname</th>\n",
       "      <th>CreditScore</th>\n",
       "      <th>Gender</th>\n",
       "      <th>Age</th>\n",
       "      <th>Tenure</th>\n",
       "      <th>Balance</th>\n",
       "      <th>NumOfProducts</th>\n",
       "      <th>HasCrCard</th>\n",
       "      <th>IsActiveMember</th>\n",
       "      <th>EstimatedSalary</th>\n",
       "      <th>Exited</th>\n",
       "      <th>Geography_France</th>\n",
       "      <th>Geography_Germany</th>\n",
       "      <th>Geography_Spain</th>\n",
       "    </tr>\n",
       "  </thead>\n",
       "  <tbody>\n",
       "    <tr>\n",
       "      <th>4562</th>\n",
       "      <td>Yermakova</td>\n",
       "      <td>678</td>\n",
       "      <td>1</td>\n",
       "      <td>36</td>\n",
       "      <td>1</td>\n",
       "      <td>117864.85</td>\n",
       "      <td>2</td>\n",
       "      <td>1</td>\n",
       "      <td>0</td>\n",
       "      <td>27619.06</td>\n",
       "      <td>0</td>\n",
       "      <td>0</td>\n",
       "      <td>1</td>\n",
       "      <td>0</td>\n",
       "    </tr>\n",
       "    <tr>\n",
       "      <th>6498</th>\n",
       "      <td>Warlow-Davies</td>\n",
       "      <td>613</td>\n",
       "      <td>0</td>\n",
       "      <td>27</td>\n",
       "      <td>5</td>\n",
       "      <td>125167.74</td>\n",
       "      <td>1</td>\n",
       "      <td>1</td>\n",
       "      <td>0</td>\n",
       "      <td>199104.52</td>\n",
       "      <td>0</td>\n",
       "      <td>1</td>\n",
       "      <td>0</td>\n",
       "      <td>0</td>\n",
       "    </tr>\n",
       "    <tr>\n",
       "      <th>6072</th>\n",
       "      <td>Fu</td>\n",
       "      <td>628</td>\n",
       "      <td>1</td>\n",
       "      <td>45</td>\n",
       "      <td>9</td>\n",
       "      <td>0.00</td>\n",
       "      <td>2</td>\n",
       "      <td>1</td>\n",
       "      <td>1</td>\n",
       "      <td>96862.56</td>\n",
       "      <td>0</td>\n",
       "      <td>1</td>\n",
       "      <td>0</td>\n",
       "      <td>0</td>\n",
       "    </tr>\n",
       "    <tr>\n",
       "      <th>5813</th>\n",
       "      <td>Shih</td>\n",
       "      <td>513</td>\n",
       "      <td>1</td>\n",
       "      <td>30</td>\n",
       "      <td>5</td>\n",
       "      <td>0.00</td>\n",
       "      <td>2</td>\n",
       "      <td>1</td>\n",
       "      <td>0</td>\n",
       "      <td>162523.66</td>\n",
       "      <td>0</td>\n",
       "      <td>1</td>\n",
       "      <td>0</td>\n",
       "      <td>0</td>\n",
       "    </tr>\n",
       "    <tr>\n",
       "      <th>7407</th>\n",
       "      <td>Mahmood</td>\n",
       "      <td>639</td>\n",
       "      <td>1</td>\n",
       "      <td>22</td>\n",
       "      <td>4</td>\n",
       "      <td>0.00</td>\n",
       "      <td>2</td>\n",
       "      <td>1</td>\n",
       "      <td>0</td>\n",
       "      <td>28188.96</td>\n",
       "      <td>0</td>\n",
       "      <td>1</td>\n",
       "      <td>0</td>\n",
       "      <td>0</td>\n",
       "    </tr>\n",
       "  </tbody>\n",
       "</table>\n",
       "</div>"
      ],
      "text/plain": [
       "            Surname  CreditScore  Gender  Age  Tenure    Balance  \\\n",
       "4562      Yermakova          678       1   36       1  117864.85   \n",
       "6498  Warlow-Davies          613       0   27       5  125167.74   \n",
       "6072             Fu          628       1   45       9       0.00   \n",
       "5813           Shih          513       1   30       5       0.00   \n",
       "7407        Mahmood          639       1   22       4       0.00   \n",
       "\n",
       "      NumOfProducts  HasCrCard  IsActiveMember  EstimatedSalary  Exited  \\\n",
       "4562              2          1               0         27619.06       0   \n",
       "6498              1          1               0        199104.52       0   \n",
       "6072              2          1               1         96862.56       0   \n",
       "5813              2          1               0        162523.66       0   \n",
       "7407              2          1               0         28188.96       0   \n",
       "\n",
       "      Geography_France  Geography_Germany  Geography_Spain  \n",
       "4562                 0                  1                0  \n",
       "6498                 1                  0                0  \n",
       "6072                 1                  0                0  \n",
       "5813                 1                  0                0  \n",
       "7407                 1                  0                0  "
      ]
     },
     "execution_count": 51,
     "metadata": {},
     "output_type": "execute_result"
    }
   ],
   "source": [
    "t = pd.get_dummies(df_train, prefix_sep = \"_\", columns = ['Geography'])\n",
    "t.head()"
   ]
  },
  {
   "cell_type": "code",
   "execution_count": 52,
   "metadata": {},
   "outputs": [
    {
     "data": {
      "text/html": [
       "<div>\n",
       "<style scoped>\n",
       "    .dataframe tbody tr th:only-of-type {\n",
       "        vertical-align: middle;\n",
       "    }\n",
       "\n",
       "    .dataframe tbody tr th {\n",
       "        vertical-align: top;\n",
       "    }\n",
       "\n",
       "    .dataframe thead th {\n",
       "        text-align: right;\n",
       "    }\n",
       "</style>\n",
       "<table border=\"1\" class=\"dataframe\">\n",
       "  <thead>\n",
       "    <tr style=\"text-align: right;\">\n",
       "      <th></th>\n",
       "      <th>Surname</th>\n",
       "      <th>CreditScore</th>\n",
       "      <th>Gender</th>\n",
       "      <th>Age</th>\n",
       "      <th>Tenure</th>\n",
       "      <th>Balance</th>\n",
       "      <th>NumOfProducts</th>\n",
       "      <th>HasCrCard</th>\n",
       "      <th>IsActiveMember</th>\n",
       "      <th>EstimatedSalary</th>\n",
       "      <th>Exited</th>\n",
       "      <th>Geography_Germany</th>\n",
       "      <th>Geography_Spain</th>\n",
       "    </tr>\n",
       "  </thead>\n",
       "  <tbody>\n",
       "    <tr>\n",
       "      <th>4562</th>\n",
       "      <td>Yermakova</td>\n",
       "      <td>678</td>\n",
       "      <td>1</td>\n",
       "      <td>36</td>\n",
       "      <td>1</td>\n",
       "      <td>117864.85</td>\n",
       "      <td>2</td>\n",
       "      <td>1</td>\n",
       "      <td>0</td>\n",
       "      <td>27619.06</td>\n",
       "      <td>0</td>\n",
       "      <td>1</td>\n",
       "      <td>0</td>\n",
       "    </tr>\n",
       "    <tr>\n",
       "      <th>6498</th>\n",
       "      <td>Warlow-Davies</td>\n",
       "      <td>613</td>\n",
       "      <td>0</td>\n",
       "      <td>27</td>\n",
       "      <td>5</td>\n",
       "      <td>125167.74</td>\n",
       "      <td>1</td>\n",
       "      <td>1</td>\n",
       "      <td>0</td>\n",
       "      <td>199104.52</td>\n",
       "      <td>0</td>\n",
       "      <td>0</td>\n",
       "      <td>0</td>\n",
       "    </tr>\n",
       "    <tr>\n",
       "      <th>6072</th>\n",
       "      <td>Fu</td>\n",
       "      <td>628</td>\n",
       "      <td>1</td>\n",
       "      <td>45</td>\n",
       "      <td>9</td>\n",
       "      <td>0.00</td>\n",
       "      <td>2</td>\n",
       "      <td>1</td>\n",
       "      <td>1</td>\n",
       "      <td>96862.56</td>\n",
       "      <td>0</td>\n",
       "      <td>0</td>\n",
       "      <td>0</td>\n",
       "    </tr>\n",
       "    <tr>\n",
       "      <th>5813</th>\n",
       "      <td>Shih</td>\n",
       "      <td>513</td>\n",
       "      <td>1</td>\n",
       "      <td>30</td>\n",
       "      <td>5</td>\n",
       "      <td>0.00</td>\n",
       "      <td>2</td>\n",
       "      <td>1</td>\n",
       "      <td>0</td>\n",
       "      <td>162523.66</td>\n",
       "      <td>0</td>\n",
       "      <td>0</td>\n",
       "      <td>0</td>\n",
       "    </tr>\n",
       "    <tr>\n",
       "      <th>7407</th>\n",
       "      <td>Mahmood</td>\n",
       "      <td>639</td>\n",
       "      <td>1</td>\n",
       "      <td>22</td>\n",
       "      <td>4</td>\n",
       "      <td>0.00</td>\n",
       "      <td>2</td>\n",
       "      <td>1</td>\n",
       "      <td>0</td>\n",
       "      <td>28188.96</td>\n",
       "      <td>0</td>\n",
       "      <td>0</td>\n",
       "      <td>0</td>\n",
       "    </tr>\n",
       "  </tbody>\n",
       "</table>\n",
       "</div>"
      ],
      "text/plain": [
       "            Surname  CreditScore  Gender  Age  Tenure    Balance  \\\n",
       "4562      Yermakova          678       1   36       1  117864.85   \n",
       "6498  Warlow-Davies          613       0   27       5  125167.74   \n",
       "6072             Fu          628       1   45       9       0.00   \n",
       "5813           Shih          513       1   30       5       0.00   \n",
       "7407        Mahmood          639       1   22       4       0.00   \n",
       "\n",
       "      NumOfProducts  HasCrCard  IsActiveMember  EstimatedSalary  Exited  \\\n",
       "4562              2          1               0         27619.06       0   \n",
       "6498              1          1               0        199104.52       0   \n",
       "6072              2          1               1         96862.56       0   \n",
       "5813              2          1               0        162523.66       0   \n",
       "7407              2          1               0         28188.96       0   \n",
       "\n",
       "      Geography_Germany  Geography_Spain  \n",
       "4562                  1                0  \n",
       "6498                  0                0  \n",
       "6072                  0                0  \n",
       "5813                  0                0  \n",
       "7407                  0                0  "
      ]
     },
     "execution_count": 52,
     "metadata": {},
     "output_type": "execute_result"
    }
   ],
   "source": [
    "t.drop(['Geography_France'], axis=1, inplace=True)\n",
    "t.head()"
   ]
  },
  {
   "cell_type": "code",
   "execution_count": 53,
   "metadata": {},
   "outputs": [],
   "source": [
    "from sklearn.preprocessing import LabelEncoder, OneHotEncoder"
   ]
  },
  {
   "cell_type": "code",
   "execution_count": 54,
   "metadata": {},
   "outputs": [],
   "source": [
    "le_ohe = LabelEncoder()\n",
    "ohe = OneHotEncoder(handle_unknown = 'ignore', sparse=False)"
   ]
  },
  {
   "cell_type": "code",
   "execution_count": 55,
   "metadata": {},
   "outputs": [
    {
     "data": {
      "text/plain": [
       "(7920, 1)"
      ]
     },
     "execution_count": 55,
     "metadata": {},
     "output_type": "execute_result"
    },
    {
     "data": {
      "text/plain": [
       "array([0, 1, 2])"
      ]
     },
     "execution_count": 55,
     "metadata": {},
     "output_type": "execute_result"
    }
   ],
   "source": [
    "enc_train = le_ohe.fit_transform(df_train.Geography).reshape(df_train.shape[0],1)\n",
    "enc_train.shape\n",
    "np.unique(enc_train)"
   ]
  },
  {
   "cell_type": "code",
   "execution_count": 56,
   "metadata": {},
   "outputs": [
    {
     "data": {
      "text/plain": [
       "array([[0., 1., 0.],\n",
       "       [1., 0., 0.],\n",
       "       [1., 0., 0.],\n",
       "       ...,\n",
       "       [1., 0., 0.],\n",
       "       [0., 1., 0.],\n",
       "       [0., 1., 0.]])"
      ]
     },
     "execution_count": 56,
     "metadata": {},
     "output_type": "execute_result"
    }
   ],
   "source": [
    "ohe_train = ohe.fit_transform(enc_train)\n",
    "ohe_train"
   ]
  },
  {
   "cell_type": "code",
   "execution_count": 57,
   "metadata": {},
   "outputs": [
    {
     "data": {
      "text/plain": [
       "{'France': 0, 'Germany': 1, 'Spain': 2}"
      ]
     },
     "execution_count": 57,
     "metadata": {},
     "output_type": "execute_result"
    }
   ],
   "source": [
    "le_ohe_name_mapping = dict(zip(le_ohe.classes_, le_ohe.transform(le_ohe.classes_)))\n",
    "le_ohe_name_mapping"
   ]
  },
  {
   "cell_type": "code",
   "execution_count": 58,
   "metadata": {},
   "outputs": [],
   "source": [
    "enc_val = df_val.Geography.map(le_ohe_name_mapping).ravel().reshape(-1,1)\n",
    "enc_test = df_test.Geography.map(le_ohe_name_mapping).ravel().reshape(-1,1)\n",
    "\n",
    "enc_val[np.isnan(enc_val)] = 9999\n",
    "enc_test[np.isnan(enc_test)] = 9999"
   ]
  },
  {
   "cell_type": "code",
   "execution_count": 59,
   "metadata": {},
   "outputs": [
    {
     "data": {
      "text/plain": [
       "array([0, 1, 2])"
      ]
     },
     "execution_count": 59,
     "metadata": {},
     "output_type": "execute_result"
    },
    {
     "data": {
      "text/plain": [
       "array([0, 1, 2])"
      ]
     },
     "execution_count": 59,
     "metadata": {},
     "output_type": "execute_result"
    }
   ],
   "source": [
    "np.unique(enc_val)\n",
    "np.unique(enc_test)"
   ]
  },
  {
   "cell_type": "code",
   "execution_count": 60,
   "metadata": {},
   "outputs": [],
   "source": [
    "ohe_val = ohe.transform(enc_val)\n",
    "ohe_test = ohe.transform(enc_test)"
   ]
  },
  {
   "cell_type": "code",
   "execution_count": 61,
   "metadata": {},
   "outputs": [
    {
     "data": {
      "text/plain": [
       "array([[0., 0., 0.]])"
      ]
     },
     "execution_count": 61,
     "metadata": {},
     "output_type": "execute_result"
    }
   ],
   "source": [
    "ohe.transform(np.array([[9999]]))"
   ]
  },
  {
   "cell_type": "markdown",
   "metadata": {},
   "source": [
    "#### Adding the one-hot encoded columns to the dataframe"
   ]
  },
  {
   "cell_type": "code",
   "execution_count": 62,
   "metadata": {},
   "outputs": [
    {
     "data": {
      "text/plain": [
       "['country_France', 'country_Germany', 'country_Spain']"
      ]
     },
     "execution_count": 62,
     "metadata": {},
     "output_type": "execute_result"
    }
   ],
   "source": [
    "cols = ['country_' + str(x) for x in le_ohe_name_mapping.keys()]\n",
    "cols"
   ]
  },
  {
   "cell_type": "code",
   "execution_count": 63,
   "metadata": {},
   "outputs": [],
   "source": [
    "df_train = pd.concat([df_train.reset_index(), pd.DataFrame(ohe_train, columns = cols)], axis = 1).drop(['index'], axis=1)\n",
    "df_val = pd.concat([df_val.reset_index(), pd.DataFrame(ohe_val, columns = cols)], axis = 1).drop(['index'], axis=1)\n",
    "df_test = pd.concat([df_test.reset_index(), pd.DataFrame(ohe_test, columns = cols)], axis = 1).drop(['index'], axis=1)"
   ]
  },
  {
   "cell_type": "code",
   "execution_count": 64,
   "metadata": {},
   "outputs": [
    {
     "name": "stdout",
     "output_type": "stream",
     "text": [
      "Training set\n"
     ]
    },
    {
     "data": {
      "text/html": [
       "<div>\n",
       "<style scoped>\n",
       "    .dataframe tbody tr th:only-of-type {\n",
       "        vertical-align: middle;\n",
       "    }\n",
       "\n",
       "    .dataframe tbody tr th {\n",
       "        vertical-align: top;\n",
       "    }\n",
       "\n",
       "    .dataframe thead th {\n",
       "        text-align: right;\n",
       "    }\n",
       "</style>\n",
       "<table border=\"1\" class=\"dataframe\">\n",
       "  <thead>\n",
       "    <tr style=\"text-align: right;\">\n",
       "      <th></th>\n",
       "      <th>Surname</th>\n",
       "      <th>CreditScore</th>\n",
       "      <th>Geography</th>\n",
       "      <th>Gender</th>\n",
       "      <th>Age</th>\n",
       "      <th>Tenure</th>\n",
       "      <th>Balance</th>\n",
       "      <th>NumOfProducts</th>\n",
       "      <th>HasCrCard</th>\n",
       "      <th>IsActiveMember</th>\n",
       "      <th>EstimatedSalary</th>\n",
       "      <th>Exited</th>\n",
       "      <th>country_France</th>\n",
       "      <th>country_Germany</th>\n",
       "      <th>country_Spain</th>\n",
       "    </tr>\n",
       "  </thead>\n",
       "  <tbody>\n",
       "    <tr>\n",
       "      <th>0</th>\n",
       "      <td>Yermakova</td>\n",
       "      <td>678</td>\n",
       "      <td>Germany</td>\n",
       "      <td>1</td>\n",
       "      <td>36</td>\n",
       "      <td>1</td>\n",
       "      <td>117864.85</td>\n",
       "      <td>2</td>\n",
       "      <td>1</td>\n",
       "      <td>0</td>\n",
       "      <td>27619.06</td>\n",
       "      <td>0</td>\n",
       "      <td>0.0</td>\n",
       "      <td>1.0</td>\n",
       "      <td>0.0</td>\n",
       "    </tr>\n",
       "    <tr>\n",
       "      <th>1</th>\n",
       "      <td>Warlow-Davies</td>\n",
       "      <td>613</td>\n",
       "      <td>France</td>\n",
       "      <td>0</td>\n",
       "      <td>27</td>\n",
       "      <td>5</td>\n",
       "      <td>125167.74</td>\n",
       "      <td>1</td>\n",
       "      <td>1</td>\n",
       "      <td>0</td>\n",
       "      <td>199104.52</td>\n",
       "      <td>0</td>\n",
       "      <td>1.0</td>\n",
       "      <td>0.0</td>\n",
       "      <td>0.0</td>\n",
       "    </tr>\n",
       "    <tr>\n",
       "      <th>2</th>\n",
       "      <td>Fu</td>\n",
       "      <td>628</td>\n",
       "      <td>France</td>\n",
       "      <td>1</td>\n",
       "      <td>45</td>\n",
       "      <td>9</td>\n",
       "      <td>0.00</td>\n",
       "      <td>2</td>\n",
       "      <td>1</td>\n",
       "      <td>1</td>\n",
       "      <td>96862.56</td>\n",
       "      <td>0</td>\n",
       "      <td>1.0</td>\n",
       "      <td>0.0</td>\n",
       "      <td>0.0</td>\n",
       "    </tr>\n",
       "    <tr>\n",
       "      <th>3</th>\n",
       "      <td>Shih</td>\n",
       "      <td>513</td>\n",
       "      <td>France</td>\n",
       "      <td>1</td>\n",
       "      <td>30</td>\n",
       "      <td>5</td>\n",
       "      <td>0.00</td>\n",
       "      <td>2</td>\n",
       "      <td>1</td>\n",
       "      <td>0</td>\n",
       "      <td>162523.66</td>\n",
       "      <td>0</td>\n",
       "      <td>1.0</td>\n",
       "      <td>0.0</td>\n",
       "      <td>0.0</td>\n",
       "    </tr>\n",
       "    <tr>\n",
       "      <th>4</th>\n",
       "      <td>Mahmood</td>\n",
       "      <td>639</td>\n",
       "      <td>France</td>\n",
       "      <td>1</td>\n",
       "      <td>22</td>\n",
       "      <td>4</td>\n",
       "      <td>0.00</td>\n",
       "      <td>2</td>\n",
       "      <td>1</td>\n",
       "      <td>0</td>\n",
       "      <td>28188.96</td>\n",
       "      <td>0</td>\n",
       "      <td>1.0</td>\n",
       "      <td>0.0</td>\n",
       "      <td>0.0</td>\n",
       "    </tr>\n",
       "  </tbody>\n",
       "</table>\n",
       "</div>"
      ],
      "text/plain": [
       "         Surname  CreditScore Geography  Gender  Age  Tenure    Balance  \\\n",
       "0      Yermakova          678   Germany       1   36       1  117864.85   \n",
       "1  Warlow-Davies          613    France       0   27       5  125167.74   \n",
       "2             Fu          628    France       1   45       9       0.00   \n",
       "3           Shih          513    France       1   30       5       0.00   \n",
       "4        Mahmood          639    France       1   22       4       0.00   \n",
       "\n",
       "   NumOfProducts  HasCrCard  IsActiveMember  EstimatedSalary  Exited  \\\n",
       "0              2          1               0         27619.06       0   \n",
       "1              1          1               0        199104.52       0   \n",
       "2              2          1               1         96862.56       0   \n",
       "3              2          1               0        162523.66       0   \n",
       "4              2          1               0         28188.96       0   \n",
       "\n",
       "   country_France  country_Germany  country_Spain  \n",
       "0             0.0              1.0            0.0  \n",
       "1             1.0              0.0            0.0  \n",
       "2             1.0              0.0            0.0  \n",
       "3             1.0              0.0            0.0  \n",
       "4             1.0              0.0            0.0  "
      ]
     },
     "execution_count": 64,
     "metadata": {},
     "output_type": "execute_result"
    },
    {
     "name": "stdout",
     "output_type": "stream",
     "text": [
      "\n",
      "\n",
      "Validation set\n"
     ]
    },
    {
     "data": {
      "text/html": [
       "<div>\n",
       "<style scoped>\n",
       "    .dataframe tbody tr th:only-of-type {\n",
       "        vertical-align: middle;\n",
       "    }\n",
       "\n",
       "    .dataframe tbody tr th {\n",
       "        vertical-align: top;\n",
       "    }\n",
       "\n",
       "    .dataframe thead th {\n",
       "        text-align: right;\n",
       "    }\n",
       "</style>\n",
       "<table border=\"1\" class=\"dataframe\">\n",
       "  <thead>\n",
       "    <tr style=\"text-align: right;\">\n",
       "      <th></th>\n",
       "      <th>Surname</th>\n",
       "      <th>CreditScore</th>\n",
       "      <th>Geography</th>\n",
       "      <th>Gender</th>\n",
       "      <th>Age</th>\n",
       "      <th>Tenure</th>\n",
       "      <th>Balance</th>\n",
       "      <th>NumOfProducts</th>\n",
       "      <th>HasCrCard</th>\n",
       "      <th>IsActiveMember</th>\n",
       "      <th>EstimatedSalary</th>\n",
       "      <th>Exited</th>\n",
       "      <th>country_France</th>\n",
       "      <th>country_Germany</th>\n",
       "      <th>country_Spain</th>\n",
       "    </tr>\n",
       "  </thead>\n",
       "  <tbody>\n",
       "    <tr>\n",
       "      <th>0</th>\n",
       "      <td>Sun</td>\n",
       "      <td>757</td>\n",
       "      <td>France</td>\n",
       "      <td>1</td>\n",
       "      <td>36</td>\n",
       "      <td>7</td>\n",
       "      <td>144852.06</td>\n",
       "      <td>1</td>\n",
       "      <td>0</td>\n",
       "      <td>0</td>\n",
       "      <td>130861.95</td>\n",
       "      <td>0</td>\n",
       "      <td>1.0</td>\n",
       "      <td>0.0</td>\n",
       "      <td>0.0</td>\n",
       "    </tr>\n",
       "    <tr>\n",
       "      <th>1</th>\n",
       "      <td>Russo</td>\n",
       "      <td>552</td>\n",
       "      <td>France</td>\n",
       "      <td>1</td>\n",
       "      <td>29</td>\n",
       "      <td>10</td>\n",
       "      <td>0.00</td>\n",
       "      <td>2</td>\n",
       "      <td>1</td>\n",
       "      <td>0</td>\n",
       "      <td>12186.83</td>\n",
       "      <td>0</td>\n",
       "      <td>1.0</td>\n",
       "      <td>0.0</td>\n",
       "      <td>0.0</td>\n",
       "    </tr>\n",
       "    <tr>\n",
       "      <th>2</th>\n",
       "      <td>Munro</td>\n",
       "      <td>619</td>\n",
       "      <td>France</td>\n",
       "      <td>0</td>\n",
       "      <td>30</td>\n",
       "      <td>7</td>\n",
       "      <td>70729.17</td>\n",
       "      <td>1</td>\n",
       "      <td>1</td>\n",
       "      <td>1</td>\n",
       "      <td>160948.87</td>\n",
       "      <td>0</td>\n",
       "      <td>1.0</td>\n",
       "      <td>0.0</td>\n",
       "      <td>0.0</td>\n",
       "    </tr>\n",
       "    <tr>\n",
       "      <th>3</th>\n",
       "      <td>Perkins</td>\n",
       "      <td>633</td>\n",
       "      <td>France</td>\n",
       "      <td>1</td>\n",
       "      <td>35</td>\n",
       "      <td>10</td>\n",
       "      <td>0.00</td>\n",
       "      <td>2</td>\n",
       "      <td>1</td>\n",
       "      <td>0</td>\n",
       "      <td>65675.47</td>\n",
       "      <td>0</td>\n",
       "      <td>1.0</td>\n",
       "      <td>0.0</td>\n",
       "      <td>0.0</td>\n",
       "    </tr>\n",
       "    <tr>\n",
       "      <th>4</th>\n",
       "      <td>Aliyeva</td>\n",
       "      <td>698</td>\n",
       "      <td>Spain</td>\n",
       "      <td>1</td>\n",
       "      <td>38</td>\n",
       "      <td>10</td>\n",
       "      <td>95010.92</td>\n",
       "      <td>1</td>\n",
       "      <td>1</td>\n",
       "      <td>1</td>\n",
       "      <td>105227.86</td>\n",
       "      <td>0</td>\n",
       "      <td>0.0</td>\n",
       "      <td>0.0</td>\n",
       "      <td>1.0</td>\n",
       "    </tr>\n",
       "  </tbody>\n",
       "</table>\n",
       "</div>"
      ],
      "text/plain": [
       "   Surname  CreditScore Geography  Gender  Age  Tenure    Balance  \\\n",
       "0      Sun          757    France       1   36       7  144852.06   \n",
       "1    Russo          552    France       1   29      10       0.00   \n",
       "2    Munro          619    France       0   30       7   70729.17   \n",
       "3  Perkins          633    France       1   35      10       0.00   \n",
       "4  Aliyeva          698     Spain       1   38      10   95010.92   \n",
       "\n",
       "   NumOfProducts  HasCrCard  IsActiveMember  EstimatedSalary  Exited  \\\n",
       "0              1          0               0        130861.95       0   \n",
       "1              2          1               0         12186.83       0   \n",
       "2              1          1               1        160948.87       0   \n",
       "3              2          1               0         65675.47       0   \n",
       "4              1          1               1        105227.86       0   \n",
       "\n",
       "   country_France  country_Germany  country_Spain  \n",
       "0             1.0              0.0            0.0  \n",
       "1             1.0              0.0            0.0  \n",
       "2             1.0              0.0            0.0  \n",
       "3             1.0              0.0            0.0  \n",
       "4             0.0              0.0            1.0  "
      ]
     },
     "execution_count": 64,
     "metadata": {},
     "output_type": "execute_result"
    },
    {
     "name": "stdout",
     "output_type": "stream",
     "text": [
      "\n",
      "\n",
      "Test set\n"
     ]
    },
    {
     "data": {
      "text/html": [
       "<div>\n",
       "<style scoped>\n",
       "    .dataframe tbody tr th:only-of-type {\n",
       "        vertical-align: middle;\n",
       "    }\n",
       "\n",
       "    .dataframe tbody tr th {\n",
       "        vertical-align: top;\n",
       "    }\n",
       "\n",
       "    .dataframe thead th {\n",
       "        text-align: right;\n",
       "    }\n",
       "</style>\n",
       "<table border=\"1\" class=\"dataframe\">\n",
       "  <thead>\n",
       "    <tr style=\"text-align: right;\">\n",
       "      <th></th>\n",
       "      <th>Surname</th>\n",
       "      <th>CreditScore</th>\n",
       "      <th>Geography</th>\n",
       "      <th>Gender</th>\n",
       "      <th>Age</th>\n",
       "      <th>Tenure</th>\n",
       "      <th>Balance</th>\n",
       "      <th>NumOfProducts</th>\n",
       "      <th>HasCrCard</th>\n",
       "      <th>IsActiveMember</th>\n",
       "      <th>EstimatedSalary</th>\n",
       "      <th>Exited</th>\n",
       "      <th>country_France</th>\n",
       "      <th>country_Germany</th>\n",
       "      <th>country_Spain</th>\n",
       "    </tr>\n",
       "  </thead>\n",
       "  <tbody>\n",
       "    <tr>\n",
       "      <th>0</th>\n",
       "      <td>Anderson</td>\n",
       "      <td>596</td>\n",
       "      <td>Germany</td>\n",
       "      <td>1</td>\n",
       "      <td>32</td>\n",
       "      <td>3</td>\n",
       "      <td>96709.07</td>\n",
       "      <td>2</td>\n",
       "      <td>0</td>\n",
       "      <td>0</td>\n",
       "      <td>41788.37</td>\n",
       "      <td>0</td>\n",
       "      <td>0.0</td>\n",
       "      <td>1.0</td>\n",
       "      <td>0.0</td>\n",
       "    </tr>\n",
       "    <tr>\n",
       "      <th>1</th>\n",
       "      <td>Herring</td>\n",
       "      <td>623</td>\n",
       "      <td>France</td>\n",
       "      <td>1</td>\n",
       "      <td>43</td>\n",
       "      <td>1</td>\n",
       "      <td>0.00</td>\n",
       "      <td>2</td>\n",
       "      <td>1</td>\n",
       "      <td>1</td>\n",
       "      <td>146379.30</td>\n",
       "      <td>0</td>\n",
       "      <td>1.0</td>\n",
       "      <td>0.0</td>\n",
       "      <td>0.0</td>\n",
       "    </tr>\n",
       "    <tr>\n",
       "      <th>2</th>\n",
       "      <td>Amechi</td>\n",
       "      <td>601</td>\n",
       "      <td>Spain</td>\n",
       "      <td>0</td>\n",
       "      <td>44</td>\n",
       "      <td>4</td>\n",
       "      <td>0.00</td>\n",
       "      <td>2</td>\n",
       "      <td>1</td>\n",
       "      <td>0</td>\n",
       "      <td>58561.31</td>\n",
       "      <td>0</td>\n",
       "      <td>0.0</td>\n",
       "      <td>0.0</td>\n",
       "      <td>1.0</td>\n",
       "    </tr>\n",
       "    <tr>\n",
       "      <th>3</th>\n",
       "      <td>Liang</td>\n",
       "      <td>506</td>\n",
       "      <td>Germany</td>\n",
       "      <td>1</td>\n",
       "      <td>59</td>\n",
       "      <td>8</td>\n",
       "      <td>119152.10</td>\n",
       "      <td>2</td>\n",
       "      <td>1</td>\n",
       "      <td>1</td>\n",
       "      <td>170679.74</td>\n",
       "      <td>0</td>\n",
       "      <td>0.0</td>\n",
       "      <td>1.0</td>\n",
       "      <td>0.0</td>\n",
       "    </tr>\n",
       "    <tr>\n",
       "      <th>4</th>\n",
       "      <td>Chuang</td>\n",
       "      <td>560</td>\n",
       "      <td>Spain</td>\n",
       "      <td>0</td>\n",
       "      <td>27</td>\n",
       "      <td>7</td>\n",
       "      <td>124995.98</td>\n",
       "      <td>1</td>\n",
       "      <td>1</td>\n",
       "      <td>1</td>\n",
       "      <td>114669.79</td>\n",
       "      <td>0</td>\n",
       "      <td>0.0</td>\n",
       "      <td>0.0</td>\n",
       "      <td>1.0</td>\n",
       "    </tr>\n",
       "  </tbody>\n",
       "</table>\n",
       "</div>"
      ],
      "text/plain": [
       "    Surname  CreditScore Geography  Gender  Age  Tenure    Balance  \\\n",
       "0  Anderson          596   Germany       1   32       3   96709.07   \n",
       "1   Herring          623    France       1   43       1       0.00   \n",
       "2    Amechi          601     Spain       0   44       4       0.00   \n",
       "3     Liang          506   Germany       1   59       8  119152.10   \n",
       "4    Chuang          560     Spain       0   27       7  124995.98   \n",
       "\n",
       "   NumOfProducts  HasCrCard  IsActiveMember  EstimatedSalary  Exited  \\\n",
       "0              2          0               0         41788.37       0   \n",
       "1              2          1               1        146379.30       0   \n",
       "2              2          1               0         58561.31       0   \n",
       "3              2          1               1        170679.74       0   \n",
       "4              1          1               1        114669.79       0   \n",
       "\n",
       "   country_France  country_Germany  country_Spain  \n",
       "0             0.0              1.0            0.0  \n",
       "1             1.0              0.0            0.0  \n",
       "2             0.0              0.0            1.0  \n",
       "3             0.0              1.0            0.0  \n",
       "4             0.0              0.0            1.0  "
      ]
     },
     "execution_count": 64,
     "metadata": {},
     "output_type": "execute_result"
    }
   ],
   "source": [
    "print(\"Training set\")\n",
    "df_train.head()\n",
    "print(\"\\n\\nValidation set\")\n",
    "df_val.head()\n",
    "print(\"\\n\\nTest set\")\n",
    "df_test.head()"
   ]
  },
  {
   "cell_type": "code",
   "execution_count": 65,
   "metadata": {},
   "outputs": [],
   "source": [
    "df_train.drop(['Geography'], axis = 1, inplace=True)\n",
    "df_val.drop(['Geography'], axis = 1, inplace=True)\n",
    "df_test.drop(['Geography'], axis = 1, inplace=True)"
   ]
  },
  {
   "cell_type": "markdown",
   "metadata": {
    "collapsed": true
   },
   "source": [
    "#### Target encoding"
   ]
  },
  {
   "cell_type": "code",
   "execution_count": 66,
   "metadata": {
    "scrolled": true
   },
   "outputs": [
    {
     "data": {
      "text/html": [
       "<div>\n",
       "<style scoped>\n",
       "    .dataframe tbody tr th:only-of-type {\n",
       "        vertical-align: middle;\n",
       "    }\n",
       "\n",
       "    .dataframe tbody tr th {\n",
       "        vertical-align: top;\n",
       "    }\n",
       "\n",
       "    .dataframe thead th {\n",
       "        text-align: right;\n",
       "    }\n",
       "</style>\n",
       "<table border=\"1\" class=\"dataframe\">\n",
       "  <thead>\n",
       "    <tr style=\"text-align: right;\">\n",
       "      <th></th>\n",
       "      <th>Surname</th>\n",
       "      <th>CreditScore</th>\n",
       "      <th>Gender</th>\n",
       "      <th>Age</th>\n",
       "      <th>Tenure</th>\n",
       "      <th>Balance</th>\n",
       "      <th>NumOfProducts</th>\n",
       "      <th>HasCrCard</th>\n",
       "      <th>IsActiveMember</th>\n",
       "      <th>EstimatedSalary</th>\n",
       "      <th>Exited</th>\n",
       "      <th>country_France</th>\n",
       "      <th>country_Germany</th>\n",
       "      <th>country_Spain</th>\n",
       "    </tr>\n",
       "  </thead>\n",
       "  <tbody>\n",
       "    <tr>\n",
       "      <th>0</th>\n",
       "      <td>Yermakova</td>\n",
       "      <td>678</td>\n",
       "      <td>1</td>\n",
       "      <td>36</td>\n",
       "      <td>1</td>\n",
       "      <td>117864.85</td>\n",
       "      <td>2</td>\n",
       "      <td>1</td>\n",
       "      <td>0</td>\n",
       "      <td>27619.06</td>\n",
       "      <td>0</td>\n",
       "      <td>0.0</td>\n",
       "      <td>1.0</td>\n",
       "      <td>0.0</td>\n",
       "    </tr>\n",
       "    <tr>\n",
       "      <th>1</th>\n",
       "      <td>Warlow-Davies</td>\n",
       "      <td>613</td>\n",
       "      <td>0</td>\n",
       "      <td>27</td>\n",
       "      <td>5</td>\n",
       "      <td>125167.74</td>\n",
       "      <td>1</td>\n",
       "      <td>1</td>\n",
       "      <td>0</td>\n",
       "      <td>199104.52</td>\n",
       "      <td>0</td>\n",
       "      <td>1.0</td>\n",
       "      <td>0.0</td>\n",
       "      <td>0.0</td>\n",
       "    </tr>\n",
       "    <tr>\n",
       "      <th>2</th>\n",
       "      <td>Fu</td>\n",
       "      <td>628</td>\n",
       "      <td>1</td>\n",
       "      <td>45</td>\n",
       "      <td>9</td>\n",
       "      <td>0.00</td>\n",
       "      <td>2</td>\n",
       "      <td>1</td>\n",
       "      <td>1</td>\n",
       "      <td>96862.56</td>\n",
       "      <td>0</td>\n",
       "      <td>1.0</td>\n",
       "      <td>0.0</td>\n",
       "      <td>0.0</td>\n",
       "    </tr>\n",
       "    <tr>\n",
       "      <th>3</th>\n",
       "      <td>Shih</td>\n",
       "      <td>513</td>\n",
       "      <td>1</td>\n",
       "      <td>30</td>\n",
       "      <td>5</td>\n",
       "      <td>0.00</td>\n",
       "      <td>2</td>\n",
       "      <td>1</td>\n",
       "      <td>0</td>\n",
       "      <td>162523.66</td>\n",
       "      <td>0</td>\n",
       "      <td>1.0</td>\n",
       "      <td>0.0</td>\n",
       "      <td>0.0</td>\n",
       "    </tr>\n",
       "    <tr>\n",
       "      <th>4</th>\n",
       "      <td>Mahmood</td>\n",
       "      <td>639</td>\n",
       "      <td>1</td>\n",
       "      <td>22</td>\n",
       "      <td>4</td>\n",
       "      <td>0.00</td>\n",
       "      <td>2</td>\n",
       "      <td>1</td>\n",
       "      <td>0</td>\n",
       "      <td>28188.96</td>\n",
       "      <td>0</td>\n",
       "      <td>1.0</td>\n",
       "      <td>0.0</td>\n",
       "      <td>0.0</td>\n",
       "    </tr>\n",
       "  </tbody>\n",
       "</table>\n",
       "</div>"
      ],
      "text/plain": [
       "         Surname  CreditScore  Gender  Age  Tenure    Balance  NumOfProducts  \\\n",
       "0      Yermakova          678       1   36       1  117864.85              2   \n",
       "1  Warlow-Davies          613       0   27       5  125167.74              1   \n",
       "2             Fu          628       1   45       9       0.00              2   \n",
       "3           Shih          513       1   30       5       0.00              2   \n",
       "4        Mahmood          639       1   22       4       0.00              2   \n",
       "\n",
       "   HasCrCard  IsActiveMember  EstimatedSalary  Exited  country_France  \\\n",
       "0          1               0         27619.06       0             0.0   \n",
       "1          1               0        199104.52       0             1.0   \n",
       "2          1               1         96862.56       0             1.0   \n",
       "3          1               0        162523.66       0             1.0   \n",
       "4          1               0         28188.96       0             1.0   \n",
       "\n",
       "   country_Germany  country_Spain  \n",
       "0              1.0            0.0  \n",
       "1              0.0            0.0  \n",
       "2              0.0            0.0  \n",
       "3              0.0            0.0  \n",
       "4              0.0            0.0  "
      ]
     },
     "execution_count": 66,
     "metadata": {},
     "output_type": "execute_result"
    }
   ],
   "source": [
    "df_train.head()"
   ]
  },
  {
   "cell_type": "code",
   "execution_count": 67,
   "metadata": {},
   "outputs": [
    {
     "data": {
      "text/plain": [
       "Surname\n",
       "Abazu       0.00\n",
       "Abbie       0.00\n",
       "Abbott      0.25\n",
       "Abdullah    1.00\n",
       "Abdulov     0.00\n",
       "Name: Exited, dtype: float64"
      ]
     },
     "execution_count": 67,
     "metadata": {},
     "output_type": "execute_result"
    }
   ],
   "source": [
    "means = df_train.groupby(['Surname']).Exited.mean()\n",
    "means.head()"
   ]
  },
  {
   "cell_type": "code",
   "execution_count": 68,
   "metadata": {},
   "outputs": [
    {
     "data": {
      "text/plain": [
       "0.20303030303030303"
      ]
     },
     "execution_count": 68,
     "metadata": {},
     "output_type": "execute_result"
    }
   ],
   "source": [
    "global_mean = y_train.mean()\n",
    "global_mean"
   ]
  },
  {
   "cell_type": "code",
   "execution_count": 69,
   "metadata": {},
   "outputs": [],
   "source": [
    "df_train['Surname_mean_churn'] = df_train.Surname.map(means)\n",
    "df_train['Surname_mean_churn'].fillna(global_mean, inplace=True)"
   ]
  },
  {
   "cell_type": "code",
   "execution_count": 70,
   "metadata": {},
   "outputs": [
    {
     "data": {
      "text/plain": [
       "Surname\n",
       "Abazu       2\n",
       "Abbie       1\n",
       "Abbott      4\n",
       "Abdullah    1\n",
       "Abdulov     1\n",
       "dtype: int64"
      ]
     },
     "execution_count": 70,
     "metadata": {},
     "output_type": "execute_result"
    }
   ],
   "source": [
    "freqs = df_train.groupby(['Surname']).size()\n",
    "freqs.head()"
   ]
  },
  {
   "cell_type": "code",
   "execution_count": 71,
   "metadata": {},
   "outputs": [],
   "source": [
    "df_train['Surname_freq'] = df_train.Surname.map(freqs)\n",
    "df_train['Surname_freq'].fillna(0, inplace=True)"
   ]
  },
  {
   "cell_type": "code",
   "execution_count": 72,
   "metadata": {},
   "outputs": [
    {
     "data": {
      "text/html": [
       "<div>\n",
       "<style scoped>\n",
       "    .dataframe tbody tr th:only-of-type {\n",
       "        vertical-align: middle;\n",
       "    }\n",
       "\n",
       "    .dataframe tbody tr th {\n",
       "        vertical-align: top;\n",
       "    }\n",
       "\n",
       "    .dataframe thead th {\n",
       "        text-align: right;\n",
       "    }\n",
       "</style>\n",
       "<table border=\"1\" class=\"dataframe\">\n",
       "  <thead>\n",
       "    <tr style=\"text-align: right;\">\n",
       "      <th></th>\n",
       "      <th>Surname</th>\n",
       "      <th>CreditScore</th>\n",
       "      <th>Gender</th>\n",
       "      <th>Age</th>\n",
       "      <th>Tenure</th>\n",
       "      <th>Balance</th>\n",
       "      <th>NumOfProducts</th>\n",
       "      <th>HasCrCard</th>\n",
       "      <th>IsActiveMember</th>\n",
       "      <th>EstimatedSalary</th>\n",
       "      <th>Exited</th>\n",
       "      <th>country_France</th>\n",
       "      <th>country_Germany</th>\n",
       "      <th>country_Spain</th>\n",
       "      <th>Surname_mean_churn</th>\n",
       "      <th>Surname_freq</th>\n",
       "      <th>Surname_enc</th>\n",
       "    </tr>\n",
       "  </thead>\n",
       "  <tbody>\n",
       "    <tr>\n",
       "      <th>0</th>\n",
       "      <td>Yermakova</td>\n",
       "      <td>678</td>\n",
       "      <td>1</td>\n",
       "      <td>36</td>\n",
       "      <td>1</td>\n",
       "      <td>117864.85</td>\n",
       "      <td>2</td>\n",
       "      <td>1</td>\n",
       "      <td>0</td>\n",
       "      <td>27619.06</td>\n",
       "      <td>0</td>\n",
       "      <td>0.0</td>\n",
       "      <td>1.0</td>\n",
       "      <td>0.0</td>\n",
       "      <td>0.000000</td>\n",
       "      <td>4</td>\n",
       "      <td>0.000000</td>\n",
       "    </tr>\n",
       "    <tr>\n",
       "      <th>1</th>\n",
       "      <td>Warlow-Davies</td>\n",
       "      <td>613</td>\n",
       "      <td>0</td>\n",
       "      <td>27</td>\n",
       "      <td>5</td>\n",
       "      <td>125167.74</td>\n",
       "      <td>1</td>\n",
       "      <td>1</td>\n",
       "      <td>0</td>\n",
       "      <td>199104.52</td>\n",
       "      <td>0</td>\n",
       "      <td>1.0</td>\n",
       "      <td>0.0</td>\n",
       "      <td>0.0</td>\n",
       "      <td>0.000000</td>\n",
       "      <td>2</td>\n",
       "      <td>0.000000</td>\n",
       "    </tr>\n",
       "    <tr>\n",
       "      <th>2</th>\n",
       "      <td>Fu</td>\n",
       "      <td>628</td>\n",
       "      <td>1</td>\n",
       "      <td>45</td>\n",
       "      <td>9</td>\n",
       "      <td>0.00</td>\n",
       "      <td>2</td>\n",
       "      <td>1</td>\n",
       "      <td>1</td>\n",
       "      <td>96862.56</td>\n",
       "      <td>0</td>\n",
       "      <td>1.0</td>\n",
       "      <td>0.0</td>\n",
       "      <td>0.0</td>\n",
       "      <td>0.200000</td>\n",
       "      <td>10</td>\n",
       "      <td>0.222222</td>\n",
       "    </tr>\n",
       "    <tr>\n",
       "      <th>3</th>\n",
       "      <td>Shih</td>\n",
       "      <td>513</td>\n",
       "      <td>1</td>\n",
       "      <td>30</td>\n",
       "      <td>5</td>\n",
       "      <td>0.00</td>\n",
       "      <td>2</td>\n",
       "      <td>1</td>\n",
       "      <td>0</td>\n",
       "      <td>162523.66</td>\n",
       "      <td>0</td>\n",
       "      <td>1.0</td>\n",
       "      <td>0.0</td>\n",
       "      <td>0.0</td>\n",
       "      <td>0.285714</td>\n",
       "      <td>21</td>\n",
       "      <td>0.300000</td>\n",
       "    </tr>\n",
       "    <tr>\n",
       "      <th>4</th>\n",
       "      <td>Mahmood</td>\n",
       "      <td>639</td>\n",
       "      <td>1</td>\n",
       "      <td>22</td>\n",
       "      <td>4</td>\n",
       "      <td>0.00</td>\n",
       "      <td>2</td>\n",
       "      <td>1</td>\n",
       "      <td>0</td>\n",
       "      <td>28188.96</td>\n",
       "      <td>0</td>\n",
       "      <td>1.0</td>\n",
       "      <td>0.0</td>\n",
       "      <td>0.0</td>\n",
       "      <td>0.333333</td>\n",
       "      <td>3</td>\n",
       "      <td>0.500000</td>\n",
       "    </tr>\n",
       "    <tr>\n",
       "      <th>5</th>\n",
       "      <td>Miller</td>\n",
       "      <td>562</td>\n",
       "      <td>1</td>\n",
       "      <td>30</td>\n",
       "      <td>3</td>\n",
       "      <td>111099.79</td>\n",
       "      <td>2</td>\n",
       "      <td>0</td>\n",
       "      <td>0</td>\n",
       "      <td>140650.19</td>\n",
       "      <td>0</td>\n",
       "      <td>1.0</td>\n",
       "      <td>0.0</td>\n",
       "      <td>0.0</td>\n",
       "      <td>0.285714</td>\n",
       "      <td>14</td>\n",
       "      <td>0.307692</td>\n",
       "    </tr>\n",
       "    <tr>\n",
       "      <th>6</th>\n",
       "      <td>Padovesi</td>\n",
       "      <td>635</td>\n",
       "      <td>1</td>\n",
       "      <td>43</td>\n",
       "      <td>5</td>\n",
       "      <td>78992.75</td>\n",
       "      <td>2</td>\n",
       "      <td>0</td>\n",
       "      <td>0</td>\n",
       "      <td>153265.31</td>\n",
       "      <td>0</td>\n",
       "      <td>0.0</td>\n",
       "      <td>1.0</td>\n",
       "      <td>0.0</td>\n",
       "      <td>0.200000</td>\n",
       "      <td>10</td>\n",
       "      <td>0.222222</td>\n",
       "    </tr>\n",
       "    <tr>\n",
       "      <th>7</th>\n",
       "      <td>Edments</td>\n",
       "      <td>705</td>\n",
       "      <td>1</td>\n",
       "      <td>33</td>\n",
       "      <td>7</td>\n",
       "      <td>68423.89</td>\n",
       "      <td>1</td>\n",
       "      <td>1</td>\n",
       "      <td>1</td>\n",
       "      <td>64872.55</td>\n",
       "      <td>0</td>\n",
       "      <td>0.0</td>\n",
       "      <td>0.0</td>\n",
       "      <td>1.0</td>\n",
       "      <td>0.000000</td>\n",
       "      <td>1</td>\n",
       "      <td>NaN</td>\n",
       "    </tr>\n",
       "    <tr>\n",
       "      <th>8</th>\n",
       "      <td>Chan</td>\n",
       "      <td>694</td>\n",
       "      <td>1</td>\n",
       "      <td>42</td>\n",
       "      <td>8</td>\n",
       "      <td>133767.19</td>\n",
       "      <td>1</td>\n",
       "      <td>1</td>\n",
       "      <td>0</td>\n",
       "      <td>36405.21</td>\n",
       "      <td>0</td>\n",
       "      <td>1.0</td>\n",
       "      <td>0.0</td>\n",
       "      <td>0.0</td>\n",
       "      <td>0.000000</td>\n",
       "      <td>3</td>\n",
       "      <td>0.000000</td>\n",
       "    </tr>\n",
       "    <tr>\n",
       "      <th>9</th>\n",
       "      <td>Matthews</td>\n",
       "      <td>711</td>\n",
       "      <td>1</td>\n",
       "      <td>26</td>\n",
       "      <td>9</td>\n",
       "      <td>128793.63</td>\n",
       "      <td>1</td>\n",
       "      <td>1</td>\n",
       "      <td>0</td>\n",
       "      <td>19262.05</td>\n",
       "      <td>0</td>\n",
       "      <td>0.0</td>\n",
       "      <td>1.0</td>\n",
       "      <td>0.0</td>\n",
       "      <td>0.000000</td>\n",
       "      <td>4</td>\n",
       "      <td>0.000000</td>\n",
       "    </tr>\n",
       "  </tbody>\n",
       "</table>\n",
       "</div>"
      ],
      "text/plain": [
       "         Surname  CreditScore  Gender  Age  Tenure    Balance  NumOfProducts  \\\n",
       "0      Yermakova          678       1   36       1  117864.85              2   \n",
       "1  Warlow-Davies          613       0   27       5  125167.74              1   \n",
       "2             Fu          628       1   45       9       0.00              2   \n",
       "3           Shih          513       1   30       5       0.00              2   \n",
       "4        Mahmood          639       1   22       4       0.00              2   \n",
       "5         Miller          562       1   30       3  111099.79              2   \n",
       "6       Padovesi          635       1   43       5   78992.75              2   \n",
       "7        Edments          705       1   33       7   68423.89              1   \n",
       "8           Chan          694       1   42       8  133767.19              1   \n",
       "9       Matthews          711       1   26       9  128793.63              1   \n",
       "\n",
       "   HasCrCard  IsActiveMember  EstimatedSalary  Exited  country_France  \\\n",
       "0          1               0         27619.06       0             0.0   \n",
       "1          1               0        199104.52       0             1.0   \n",
       "2          1               1         96862.56       0             1.0   \n",
       "3          1               0        162523.66       0             1.0   \n",
       "4          1               0         28188.96       0             1.0   \n",
       "5          0               0        140650.19       0             1.0   \n",
       "6          0               0        153265.31       0             0.0   \n",
       "7          1               1         64872.55       0             0.0   \n",
       "8          1               0         36405.21       0             1.0   \n",
       "9          1               0         19262.05       0             0.0   \n",
       "\n",
       "   country_Germany  country_Spain  Surname_mean_churn  Surname_freq  \\\n",
       "0              1.0            0.0            0.000000             4   \n",
       "1              0.0            0.0            0.000000             2   \n",
       "2              0.0            0.0            0.200000            10   \n",
       "3              0.0            0.0            0.285714            21   \n",
       "4              0.0            0.0            0.333333             3   \n",
       "5              0.0            0.0            0.285714            14   \n",
       "6              1.0            0.0            0.200000            10   \n",
       "7              0.0            1.0            0.000000             1   \n",
       "8              0.0            0.0            0.000000             3   \n",
       "9              1.0            0.0            0.000000             4   \n",
       "\n",
       "   Surname_enc  \n",
       "0     0.000000  \n",
       "1     0.000000  \n",
       "2     0.222222  \n",
       "3     0.300000  \n",
       "4     0.500000  \n",
       "5     0.307692  \n",
       "6     0.222222  \n",
       "7          NaN  \n",
       "8     0.000000  \n",
       "9     0.000000  "
      ]
     },
     "execution_count": 72,
     "metadata": {},
     "output_type": "execute_result"
    }
   ],
   "source": [
    "df_train['Surname_enc'] = ((df_train.Surname_freq * df_train.Surname_mean_churn) - df_train.Exited)/(df_train.Surname_freq - 1)\n",
    "df_train.head(10)"
   ]
  },
  {
   "cell_type": "code",
   "execution_count": 73,
   "metadata": {},
   "outputs": [
    {
     "data": {
      "text/html": [
       "<div>\n",
       "<style scoped>\n",
       "    .dataframe tbody tr th:only-of-type {\n",
       "        vertical-align: middle;\n",
       "    }\n",
       "\n",
       "    .dataframe tbody tr th {\n",
       "        vertical-align: top;\n",
       "    }\n",
       "\n",
       "    .dataframe thead th {\n",
       "        text-align: right;\n",
       "    }\n",
       "</style>\n",
       "<table border=\"1\" class=\"dataframe\">\n",
       "  <thead>\n",
       "    <tr style=\"text-align: right;\">\n",
       "      <th></th>\n",
       "      <th>Surname</th>\n",
       "      <th>CreditScore</th>\n",
       "      <th>Gender</th>\n",
       "      <th>Age</th>\n",
       "      <th>Tenure</th>\n",
       "      <th>Balance</th>\n",
       "      <th>NumOfProducts</th>\n",
       "      <th>HasCrCard</th>\n",
       "      <th>IsActiveMember</th>\n",
       "      <th>EstimatedSalary</th>\n",
       "      <th>Exited</th>\n",
       "      <th>country_France</th>\n",
       "      <th>country_Germany</th>\n",
       "      <th>country_Spain</th>\n",
       "      <th>Surname_mean_churn</th>\n",
       "      <th>Surname_freq</th>\n",
       "      <th>Surname_enc</th>\n",
       "    </tr>\n",
       "  </thead>\n",
       "  <tbody>\n",
       "    <tr>\n",
       "      <th>0</th>\n",
       "      <td>Yermakova</td>\n",
       "      <td>678</td>\n",
       "      <td>1</td>\n",
       "      <td>36</td>\n",
       "      <td>1</td>\n",
       "      <td>117864.85</td>\n",
       "      <td>2</td>\n",
       "      <td>1</td>\n",
       "      <td>0</td>\n",
       "      <td>27619.06</td>\n",
       "      <td>0</td>\n",
       "      <td>0.0</td>\n",
       "      <td>1.0</td>\n",
       "      <td>0.0</td>\n",
       "      <td>0.000000</td>\n",
       "      <td>4</td>\n",
       "      <td>0.000000</td>\n",
       "    </tr>\n",
       "    <tr>\n",
       "      <th>1</th>\n",
       "      <td>Warlow-Davies</td>\n",
       "      <td>613</td>\n",
       "      <td>0</td>\n",
       "      <td>27</td>\n",
       "      <td>5</td>\n",
       "      <td>125167.74</td>\n",
       "      <td>1</td>\n",
       "      <td>1</td>\n",
       "      <td>0</td>\n",
       "      <td>199104.52</td>\n",
       "      <td>0</td>\n",
       "      <td>1.0</td>\n",
       "      <td>0.0</td>\n",
       "      <td>0.0</td>\n",
       "      <td>0.000000</td>\n",
       "      <td>2</td>\n",
       "      <td>0.000000</td>\n",
       "    </tr>\n",
       "    <tr>\n",
       "      <th>2</th>\n",
       "      <td>Fu</td>\n",
       "      <td>628</td>\n",
       "      <td>1</td>\n",
       "      <td>45</td>\n",
       "      <td>9</td>\n",
       "      <td>0.00</td>\n",
       "      <td>2</td>\n",
       "      <td>1</td>\n",
       "      <td>1</td>\n",
       "      <td>96862.56</td>\n",
       "      <td>0</td>\n",
       "      <td>1.0</td>\n",
       "      <td>0.0</td>\n",
       "      <td>0.0</td>\n",
       "      <td>0.200000</td>\n",
       "      <td>10</td>\n",
       "      <td>0.222222</td>\n",
       "    </tr>\n",
       "    <tr>\n",
       "      <th>3</th>\n",
       "      <td>Shih</td>\n",
       "      <td>513</td>\n",
       "      <td>1</td>\n",
       "      <td>30</td>\n",
       "      <td>5</td>\n",
       "      <td>0.00</td>\n",
       "      <td>2</td>\n",
       "      <td>1</td>\n",
       "      <td>0</td>\n",
       "      <td>162523.66</td>\n",
       "      <td>0</td>\n",
       "      <td>1.0</td>\n",
       "      <td>0.0</td>\n",
       "      <td>0.0</td>\n",
       "      <td>0.285714</td>\n",
       "      <td>21</td>\n",
       "      <td>0.300000</td>\n",
       "    </tr>\n",
       "    <tr>\n",
       "      <th>4</th>\n",
       "      <td>Mahmood</td>\n",
       "      <td>639</td>\n",
       "      <td>1</td>\n",
       "      <td>22</td>\n",
       "      <td>4</td>\n",
       "      <td>0.00</td>\n",
       "      <td>2</td>\n",
       "      <td>1</td>\n",
       "      <td>0</td>\n",
       "      <td>28188.96</td>\n",
       "      <td>0</td>\n",
       "      <td>1.0</td>\n",
       "      <td>0.0</td>\n",
       "      <td>0.0</td>\n",
       "      <td>0.333333</td>\n",
       "      <td>3</td>\n",
       "      <td>0.500000</td>\n",
       "    </tr>\n",
       "    <tr>\n",
       "      <th>5</th>\n",
       "      <td>Miller</td>\n",
       "      <td>562</td>\n",
       "      <td>1</td>\n",
       "      <td>30</td>\n",
       "      <td>3</td>\n",
       "      <td>111099.79</td>\n",
       "      <td>2</td>\n",
       "      <td>0</td>\n",
       "      <td>0</td>\n",
       "      <td>140650.19</td>\n",
       "      <td>0</td>\n",
       "      <td>1.0</td>\n",
       "      <td>0.0</td>\n",
       "      <td>0.0</td>\n",
       "      <td>0.285714</td>\n",
       "      <td>14</td>\n",
       "      <td>0.307692</td>\n",
       "    </tr>\n",
       "    <tr>\n",
       "      <th>6</th>\n",
       "      <td>Padovesi</td>\n",
       "      <td>635</td>\n",
       "      <td>1</td>\n",
       "      <td>43</td>\n",
       "      <td>5</td>\n",
       "      <td>78992.75</td>\n",
       "      <td>2</td>\n",
       "      <td>0</td>\n",
       "      <td>0</td>\n",
       "      <td>153265.31</td>\n",
       "      <td>0</td>\n",
       "      <td>0.0</td>\n",
       "      <td>1.0</td>\n",
       "      <td>0.0</td>\n",
       "      <td>0.200000</td>\n",
       "      <td>10</td>\n",
       "      <td>0.222222</td>\n",
       "    </tr>\n",
       "    <tr>\n",
       "      <th>7</th>\n",
       "      <td>Edments</td>\n",
       "      <td>705</td>\n",
       "      <td>1</td>\n",
       "      <td>33</td>\n",
       "      <td>7</td>\n",
       "      <td>68423.89</td>\n",
       "      <td>1</td>\n",
       "      <td>1</td>\n",
       "      <td>1</td>\n",
       "      <td>64872.55</td>\n",
       "      <td>0</td>\n",
       "      <td>0.0</td>\n",
       "      <td>0.0</td>\n",
       "      <td>1.0</td>\n",
       "      <td>0.000000</td>\n",
       "      <td>1</td>\n",
       "      <td>0.203056</td>\n",
       "    </tr>\n",
       "    <tr>\n",
       "      <th>8</th>\n",
       "      <td>Chan</td>\n",
       "      <td>694</td>\n",
       "      <td>1</td>\n",
       "      <td>42</td>\n",
       "      <td>8</td>\n",
       "      <td>133767.19</td>\n",
       "      <td>1</td>\n",
       "      <td>1</td>\n",
       "      <td>0</td>\n",
       "      <td>36405.21</td>\n",
       "      <td>0</td>\n",
       "      <td>1.0</td>\n",
       "      <td>0.0</td>\n",
       "      <td>0.0</td>\n",
       "      <td>0.000000</td>\n",
       "      <td>3</td>\n",
       "      <td>0.000000</td>\n",
       "    </tr>\n",
       "    <tr>\n",
       "      <th>9</th>\n",
       "      <td>Matthews</td>\n",
       "      <td>711</td>\n",
       "      <td>1</td>\n",
       "      <td>26</td>\n",
       "      <td>9</td>\n",
       "      <td>128793.63</td>\n",
       "      <td>1</td>\n",
       "      <td>1</td>\n",
       "      <td>0</td>\n",
       "      <td>19262.05</td>\n",
       "      <td>0</td>\n",
       "      <td>0.0</td>\n",
       "      <td>1.0</td>\n",
       "      <td>0.0</td>\n",
       "      <td>0.000000</td>\n",
       "      <td>4</td>\n",
       "      <td>0.000000</td>\n",
       "    </tr>\n",
       "  </tbody>\n",
       "</table>\n",
       "</div>"
      ],
      "text/plain": [
       "         Surname  CreditScore  Gender  Age  Tenure    Balance  NumOfProducts  \\\n",
       "0      Yermakova          678       1   36       1  117864.85              2   \n",
       "1  Warlow-Davies          613       0   27       5  125167.74              1   \n",
       "2             Fu          628       1   45       9       0.00              2   \n",
       "3           Shih          513       1   30       5       0.00              2   \n",
       "4        Mahmood          639       1   22       4       0.00              2   \n",
       "5         Miller          562       1   30       3  111099.79              2   \n",
       "6       Padovesi          635       1   43       5   78992.75              2   \n",
       "7        Edments          705       1   33       7   68423.89              1   \n",
       "8           Chan          694       1   42       8  133767.19              1   \n",
       "9       Matthews          711       1   26       9  128793.63              1   \n",
       "\n",
       "   HasCrCard  IsActiveMember  EstimatedSalary  Exited  country_France  \\\n",
       "0          1               0         27619.06       0             0.0   \n",
       "1          1               0        199104.52       0             1.0   \n",
       "2          1               1         96862.56       0             1.0   \n",
       "3          1               0        162523.66       0             1.0   \n",
       "4          1               0         28188.96       0             1.0   \n",
       "5          0               0        140650.19       0             1.0   \n",
       "6          0               0        153265.31       0             0.0   \n",
       "7          1               1         64872.55       0             0.0   \n",
       "8          1               0         36405.21       0             1.0   \n",
       "9          1               0         19262.05       0             0.0   \n",
       "\n",
       "   country_Germany  country_Spain  Surname_mean_churn  Surname_freq  \\\n",
       "0              1.0            0.0            0.000000             4   \n",
       "1              0.0            0.0            0.000000             2   \n",
       "2              0.0            0.0            0.200000            10   \n",
       "3              0.0            0.0            0.285714            21   \n",
       "4              0.0            0.0            0.333333             3   \n",
       "5              0.0            0.0            0.285714            14   \n",
       "6              1.0            0.0            0.200000            10   \n",
       "7              0.0            1.0            0.000000             1   \n",
       "8              0.0            0.0            0.000000             3   \n",
       "9              1.0            0.0            0.000000             4   \n",
       "\n",
       "   Surname_enc  \n",
       "0     0.000000  \n",
       "1     0.000000  \n",
       "2     0.222222  \n",
       "3     0.300000  \n",
       "4     0.500000  \n",
       "5     0.307692  \n",
       "6     0.222222  \n",
       "7     0.203056  \n",
       "8     0.000000  \n",
       "9     0.000000  "
      ]
     },
     "execution_count": 73,
     "metadata": {},
     "output_type": "execute_result"
    }
   ],
   "source": [
    "df_train['Surname_enc'].fillna((((df_train.shape[0] * global_mean) - df_train.Exited) / (df_train.shape[0] - 1)), inplace=True)\n",
    "df_train.head(10)"
   ]
  },
  {
   "cell_type": "markdown",
   "metadata": {},
   "source": [
    "On validation and test set, we'll apply the normal Target encoding mapping as obtained from the training set"
   ]
  },
  {
   "cell_type": "code",
   "execution_count": 74,
   "metadata": {},
   "outputs": [],
   "source": [
    "df_val['Surname_enc'] = df_val.Surname.map(means)\n",
    "df_val['Surname_enc'].fillna(global_mean, inplace=True)\n",
    "df_test['Surname_enc'] = df_test.Surname.map(means)\n",
    "df_test['Surname_enc'].fillna(global_mean, inplace=True)"
   ]
  },
  {
   "cell_type": "code",
   "execution_count": 75,
   "metadata": {},
   "outputs": [
    {
     "data": {
      "text/html": [
       "<div>\n",
       "<style scoped>\n",
       "    .dataframe tbody tr th:only-of-type {\n",
       "        vertical-align: middle;\n",
       "    }\n",
       "\n",
       "    .dataframe tbody tr th {\n",
       "        vertical-align: top;\n",
       "    }\n",
       "\n",
       "    .dataframe thead th {\n",
       "        text-align: right;\n",
       "    }\n",
       "</style>\n",
       "<table border=\"1\" class=\"dataframe\">\n",
       "  <thead>\n",
       "    <tr style=\"text-align: right;\">\n",
       "      <th></th>\n",
       "      <th>Surname_mean_churn</th>\n",
       "      <th>Surname_enc</th>\n",
       "      <th>Exited</th>\n",
       "    </tr>\n",
       "  </thead>\n",
       "  <tbody>\n",
       "    <tr>\n",
       "      <th>Surname_mean_churn</th>\n",
       "      <td>1.000000</td>\n",
       "      <td>0.54823</td>\n",
       "      <td>0.562677</td>\n",
       "    </tr>\n",
       "    <tr>\n",
       "      <th>Surname_enc</th>\n",
       "      <td>0.548230</td>\n",
       "      <td>1.00000</td>\n",
       "      <td>-0.026440</td>\n",
       "    </tr>\n",
       "    <tr>\n",
       "      <th>Exited</th>\n",
       "      <td>0.562677</td>\n",
       "      <td>-0.02644</td>\n",
       "      <td>1.000000</td>\n",
       "    </tr>\n",
       "  </tbody>\n",
       "</table>\n",
       "</div>"
      ],
      "text/plain": [
       "                    Surname_mean_churn  Surname_enc    Exited\n",
       "Surname_mean_churn            1.000000      0.54823  0.562677\n",
       "Surname_enc                   0.548230      1.00000 -0.026440\n",
       "Exited                        0.562677     -0.02644  1.000000"
      ]
     },
     "execution_count": 75,
     "metadata": {},
     "output_type": "execute_result"
    }
   ],
   "source": [
    "df_train[['Surname_mean_churn', 'Surname_enc', 'Exited']].corr()"
   ]
  },
  {
   "cell_type": "code",
   "execution_count": 76,
   "metadata": {},
   "outputs": [],
   "source": [
    "df_train.drop(['Surname_mean_churn'], axis=1, inplace=True)\n",
    "df_train.drop(['Surname_freq'], axis=1, inplace=True)\n",
    "df_train.drop(['Surname'], axis=1, inplace=True)\n",
    "df_val.drop(['Surname'], axis=1, inplace=True)\n",
    "df_test.drop(['Surname'], axis=1, inplace=True)"
   ]
  },
  {
   "cell_type": "code",
   "execution_count": 77,
   "metadata": {
    "scrolled": true
   },
   "outputs": [
    {
     "data": {
      "text/html": [
       "<div>\n",
       "<style scoped>\n",
       "    .dataframe tbody tr th:only-of-type {\n",
       "        vertical-align: middle;\n",
       "    }\n",
       "\n",
       "    .dataframe tbody tr th {\n",
       "        vertical-align: top;\n",
       "    }\n",
       "\n",
       "    .dataframe thead th {\n",
       "        text-align: right;\n",
       "    }\n",
       "</style>\n",
       "<table border=\"1\" class=\"dataframe\">\n",
       "  <thead>\n",
       "    <tr style=\"text-align: right;\">\n",
       "      <th></th>\n",
       "      <th>CreditScore</th>\n",
       "      <th>Gender</th>\n",
       "      <th>Age</th>\n",
       "      <th>Tenure</th>\n",
       "      <th>Balance</th>\n",
       "      <th>NumOfProducts</th>\n",
       "      <th>HasCrCard</th>\n",
       "      <th>IsActiveMember</th>\n",
       "      <th>EstimatedSalary</th>\n",
       "      <th>Exited</th>\n",
       "      <th>country_France</th>\n",
       "      <th>country_Germany</th>\n",
       "      <th>country_Spain</th>\n",
       "      <th>Surname_enc</th>\n",
       "    </tr>\n",
       "  </thead>\n",
       "  <tbody>\n",
       "    <tr>\n",
       "      <th>0</th>\n",
       "      <td>678</td>\n",
       "      <td>1</td>\n",
       "      <td>36</td>\n",
       "      <td>1</td>\n",
       "      <td>117864.85</td>\n",
       "      <td>2</td>\n",
       "      <td>1</td>\n",
       "      <td>0</td>\n",
       "      <td>27619.06</td>\n",
       "      <td>0</td>\n",
       "      <td>0.0</td>\n",
       "      <td>1.0</td>\n",
       "      <td>0.0</td>\n",
       "      <td>0.000000</td>\n",
       "    </tr>\n",
       "    <tr>\n",
       "      <th>1</th>\n",
       "      <td>613</td>\n",
       "      <td>0</td>\n",
       "      <td>27</td>\n",
       "      <td>5</td>\n",
       "      <td>125167.74</td>\n",
       "      <td>1</td>\n",
       "      <td>1</td>\n",
       "      <td>0</td>\n",
       "      <td>199104.52</td>\n",
       "      <td>0</td>\n",
       "      <td>1.0</td>\n",
       "      <td>0.0</td>\n",
       "      <td>0.0</td>\n",
       "      <td>0.000000</td>\n",
       "    </tr>\n",
       "    <tr>\n",
       "      <th>2</th>\n",
       "      <td>628</td>\n",
       "      <td>1</td>\n",
       "      <td>45</td>\n",
       "      <td>9</td>\n",
       "      <td>0.00</td>\n",
       "      <td>2</td>\n",
       "      <td>1</td>\n",
       "      <td>1</td>\n",
       "      <td>96862.56</td>\n",
       "      <td>0</td>\n",
       "      <td>1.0</td>\n",
       "      <td>0.0</td>\n",
       "      <td>0.0</td>\n",
       "      <td>0.222222</td>\n",
       "    </tr>\n",
       "    <tr>\n",
       "      <th>3</th>\n",
       "      <td>513</td>\n",
       "      <td>1</td>\n",
       "      <td>30</td>\n",
       "      <td>5</td>\n",
       "      <td>0.00</td>\n",
       "      <td>2</td>\n",
       "      <td>1</td>\n",
       "      <td>0</td>\n",
       "      <td>162523.66</td>\n",
       "      <td>0</td>\n",
       "      <td>1.0</td>\n",
       "      <td>0.0</td>\n",
       "      <td>0.0</td>\n",
       "      <td>0.300000</td>\n",
       "    </tr>\n",
       "    <tr>\n",
       "      <th>4</th>\n",
       "      <td>639</td>\n",
       "      <td>1</td>\n",
       "      <td>22</td>\n",
       "      <td>4</td>\n",
       "      <td>0.00</td>\n",
       "      <td>2</td>\n",
       "      <td>1</td>\n",
       "      <td>0</td>\n",
       "      <td>28188.96</td>\n",
       "      <td>0</td>\n",
       "      <td>1.0</td>\n",
       "      <td>0.0</td>\n",
       "      <td>0.0</td>\n",
       "      <td>0.500000</td>\n",
       "    </tr>\n",
       "  </tbody>\n",
       "</table>\n",
       "</div>"
      ],
      "text/plain": [
       "   CreditScore  Gender  Age  Tenure    Balance  NumOfProducts  HasCrCard  \\\n",
       "0          678       1   36       1  117864.85              2          1   \n",
       "1          613       0   27       5  125167.74              1          1   \n",
       "2          628       1   45       9       0.00              2          1   \n",
       "3          513       1   30       5       0.00              2          1   \n",
       "4          639       1   22       4       0.00              2          1   \n",
       "\n",
       "   IsActiveMember  EstimatedSalary  Exited  country_France  country_Germany  \\\n",
       "0               0         27619.06       0             0.0              1.0   \n",
       "1               0        199104.52       0             1.0              0.0   \n",
       "2               1         96862.56       0             1.0              0.0   \n",
       "3               0        162523.66       0             1.0              0.0   \n",
       "4               0         28188.96       0             1.0              0.0   \n",
       "\n",
       "   country_Spain  Surname_enc  \n",
       "0            0.0     0.000000  \n",
       "1            0.0     0.000000  \n",
       "2            0.0     0.222222  \n",
       "3            0.0     0.300000  \n",
       "4            0.0     0.500000  "
      ]
     },
     "execution_count": 77,
     "metadata": {},
     "output_type": "execute_result"
    },
    {
     "data": {
      "text/html": [
       "<div>\n",
       "<style scoped>\n",
       "    .dataframe tbody tr th:only-of-type {\n",
       "        vertical-align: middle;\n",
       "    }\n",
       "\n",
       "    .dataframe tbody tr th {\n",
       "        vertical-align: top;\n",
       "    }\n",
       "\n",
       "    .dataframe thead th {\n",
       "        text-align: right;\n",
       "    }\n",
       "</style>\n",
       "<table border=\"1\" class=\"dataframe\">\n",
       "  <thead>\n",
       "    <tr style=\"text-align: right;\">\n",
       "      <th></th>\n",
       "      <th>CreditScore</th>\n",
       "      <th>Gender</th>\n",
       "      <th>Age</th>\n",
       "      <th>Tenure</th>\n",
       "      <th>Balance</th>\n",
       "      <th>NumOfProducts</th>\n",
       "      <th>HasCrCard</th>\n",
       "      <th>IsActiveMember</th>\n",
       "      <th>EstimatedSalary</th>\n",
       "      <th>Exited</th>\n",
       "      <th>country_France</th>\n",
       "      <th>country_Germany</th>\n",
       "      <th>country_Spain</th>\n",
       "      <th>Surname_enc</th>\n",
       "    </tr>\n",
       "  </thead>\n",
       "  <tbody>\n",
       "    <tr>\n",
       "      <th>0</th>\n",
       "      <td>757</td>\n",
       "      <td>1</td>\n",
       "      <td>36</td>\n",
       "      <td>7</td>\n",
       "      <td>144852.06</td>\n",
       "      <td>1</td>\n",
       "      <td>0</td>\n",
       "      <td>0</td>\n",
       "      <td>130861.95</td>\n",
       "      <td>0</td>\n",
       "      <td>1.0</td>\n",
       "      <td>0.0</td>\n",
       "      <td>0.0</td>\n",
       "      <td>0.111111</td>\n",
       "    </tr>\n",
       "    <tr>\n",
       "      <th>1</th>\n",
       "      <td>552</td>\n",
       "      <td>1</td>\n",
       "      <td>29</td>\n",
       "      <td>10</td>\n",
       "      <td>0.00</td>\n",
       "      <td>2</td>\n",
       "      <td>1</td>\n",
       "      <td>0</td>\n",
       "      <td>12186.83</td>\n",
       "      <td>0</td>\n",
       "      <td>1.0</td>\n",
       "      <td>0.0</td>\n",
       "      <td>0.0</td>\n",
       "      <td>0.200000</td>\n",
       "    </tr>\n",
       "    <tr>\n",
       "      <th>2</th>\n",
       "      <td>619</td>\n",
       "      <td>0</td>\n",
       "      <td>30</td>\n",
       "      <td>7</td>\n",
       "      <td>70729.17</td>\n",
       "      <td>1</td>\n",
       "      <td>1</td>\n",
       "      <td>1</td>\n",
       "      <td>160948.87</td>\n",
       "      <td>0</td>\n",
       "      <td>1.0</td>\n",
       "      <td>0.0</td>\n",
       "      <td>0.0</td>\n",
       "      <td>0.500000</td>\n",
       "    </tr>\n",
       "    <tr>\n",
       "      <th>3</th>\n",
       "      <td>633</td>\n",
       "      <td>1</td>\n",
       "      <td>35</td>\n",
       "      <td>10</td>\n",
       "      <td>0.00</td>\n",
       "      <td>2</td>\n",
       "      <td>1</td>\n",
       "      <td>0</td>\n",
       "      <td>65675.47</td>\n",
       "      <td>0</td>\n",
       "      <td>1.0</td>\n",
       "      <td>0.0</td>\n",
       "      <td>0.0</td>\n",
       "      <td>0.000000</td>\n",
       "    </tr>\n",
       "    <tr>\n",
       "      <th>4</th>\n",
       "      <td>698</td>\n",
       "      <td>1</td>\n",
       "      <td>38</td>\n",
       "      <td>10</td>\n",
       "      <td>95010.92</td>\n",
       "      <td>1</td>\n",
       "      <td>1</td>\n",
       "      <td>1</td>\n",
       "      <td>105227.86</td>\n",
       "      <td>0</td>\n",
       "      <td>0.0</td>\n",
       "      <td>0.0</td>\n",
       "      <td>1.0</td>\n",
       "      <td>1.000000</td>\n",
       "    </tr>\n",
       "  </tbody>\n",
       "</table>\n",
       "</div>"
      ],
      "text/plain": [
       "   CreditScore  Gender  Age  Tenure    Balance  NumOfProducts  HasCrCard  \\\n",
       "0          757       1   36       7  144852.06              1          0   \n",
       "1          552       1   29      10       0.00              2          1   \n",
       "2          619       0   30       7   70729.17              1          1   \n",
       "3          633       1   35      10       0.00              2          1   \n",
       "4          698       1   38      10   95010.92              1          1   \n",
       "\n",
       "   IsActiveMember  EstimatedSalary  Exited  country_France  country_Germany  \\\n",
       "0               0        130861.95       0             1.0              0.0   \n",
       "1               0         12186.83       0             1.0              0.0   \n",
       "2               1        160948.87       0             1.0              0.0   \n",
       "3               0         65675.47       0             1.0              0.0   \n",
       "4               1        105227.86       0             0.0              0.0   \n",
       "\n",
       "   country_Spain  Surname_enc  \n",
       "0            0.0     0.111111  \n",
       "1            0.0     0.200000  \n",
       "2            0.0     0.500000  \n",
       "3            0.0     0.000000  \n",
       "4            1.0     1.000000  "
      ]
     },
     "execution_count": 77,
     "metadata": {},
     "output_type": "execute_result"
    },
    {
     "data": {
      "text/html": [
       "<div>\n",
       "<style scoped>\n",
       "    .dataframe tbody tr th:only-of-type {\n",
       "        vertical-align: middle;\n",
       "    }\n",
       "\n",
       "    .dataframe tbody tr th {\n",
       "        vertical-align: top;\n",
       "    }\n",
       "\n",
       "    .dataframe thead th {\n",
       "        text-align: right;\n",
       "    }\n",
       "</style>\n",
       "<table border=\"1\" class=\"dataframe\">\n",
       "  <thead>\n",
       "    <tr style=\"text-align: right;\">\n",
       "      <th></th>\n",
       "      <th>CreditScore</th>\n",
       "      <th>Gender</th>\n",
       "      <th>Age</th>\n",
       "      <th>Tenure</th>\n",
       "      <th>Balance</th>\n",
       "      <th>NumOfProducts</th>\n",
       "      <th>HasCrCard</th>\n",
       "      <th>IsActiveMember</th>\n",
       "      <th>EstimatedSalary</th>\n",
       "      <th>Exited</th>\n",
       "      <th>country_France</th>\n",
       "      <th>country_Germany</th>\n",
       "      <th>country_Spain</th>\n",
       "      <th>Surname_enc</th>\n",
       "    </tr>\n",
       "  </thead>\n",
       "  <tbody>\n",
       "    <tr>\n",
       "      <th>0</th>\n",
       "      <td>596</td>\n",
       "      <td>1</td>\n",
       "      <td>32</td>\n",
       "      <td>3</td>\n",
       "      <td>96709.07</td>\n",
       "      <td>2</td>\n",
       "      <td>0</td>\n",
       "      <td>0</td>\n",
       "      <td>41788.37</td>\n",
       "      <td>0</td>\n",
       "      <td>0.0</td>\n",
       "      <td>1.0</td>\n",
       "      <td>0.0</td>\n",
       "      <td>0.083333</td>\n",
       "    </tr>\n",
       "    <tr>\n",
       "      <th>1</th>\n",
       "      <td>623</td>\n",
       "      <td>1</td>\n",
       "      <td>43</td>\n",
       "      <td>1</td>\n",
       "      <td>0.00</td>\n",
       "      <td>2</td>\n",
       "      <td>1</td>\n",
       "      <td>1</td>\n",
       "      <td>146379.30</td>\n",
       "      <td>0</td>\n",
       "      <td>1.0</td>\n",
       "      <td>0.0</td>\n",
       "      <td>0.0</td>\n",
       "      <td>0.203030</td>\n",
       "    </tr>\n",
       "    <tr>\n",
       "      <th>2</th>\n",
       "      <td>601</td>\n",
       "      <td>0</td>\n",
       "      <td>44</td>\n",
       "      <td>4</td>\n",
       "      <td>0.00</td>\n",
       "      <td>2</td>\n",
       "      <td>1</td>\n",
       "      <td>0</td>\n",
       "      <td>58561.31</td>\n",
       "      <td>0</td>\n",
       "      <td>0.0</td>\n",
       "      <td>0.0</td>\n",
       "      <td>1.0</td>\n",
       "      <td>0.333333</td>\n",
       "    </tr>\n",
       "    <tr>\n",
       "      <th>3</th>\n",
       "      <td>506</td>\n",
       "      <td>1</td>\n",
       "      <td>59</td>\n",
       "      <td>8</td>\n",
       "      <td>119152.10</td>\n",
       "      <td>2</td>\n",
       "      <td>1</td>\n",
       "      <td>1</td>\n",
       "      <td>170679.74</td>\n",
       "      <td>0</td>\n",
       "      <td>0.0</td>\n",
       "      <td>1.0</td>\n",
       "      <td>0.0</td>\n",
       "      <td>0.153846</td>\n",
       "    </tr>\n",
       "    <tr>\n",
       "      <th>4</th>\n",
       "      <td>560</td>\n",
       "      <td>0</td>\n",
       "      <td>27</td>\n",
       "      <td>7</td>\n",
       "      <td>124995.98</td>\n",
       "      <td>1</td>\n",
       "      <td>1</td>\n",
       "      <td>1</td>\n",
       "      <td>114669.79</td>\n",
       "      <td>0</td>\n",
       "      <td>0.0</td>\n",
       "      <td>0.0</td>\n",
       "      <td>1.0</td>\n",
       "      <td>0.230769</td>\n",
       "    </tr>\n",
       "  </tbody>\n",
       "</table>\n",
       "</div>"
      ],
      "text/plain": [
       "   CreditScore  Gender  Age  Tenure    Balance  NumOfProducts  HasCrCard  \\\n",
       "0          596       1   32       3   96709.07              2          0   \n",
       "1          623       1   43       1       0.00              2          1   \n",
       "2          601       0   44       4       0.00              2          1   \n",
       "3          506       1   59       8  119152.10              2          1   \n",
       "4          560       0   27       7  124995.98              1          1   \n",
       "\n",
       "   IsActiveMember  EstimatedSalary  Exited  country_France  country_Germany  \\\n",
       "0               0         41788.37       0             0.0              1.0   \n",
       "1               1        146379.30       0             1.0              0.0   \n",
       "2               0         58561.31       0             0.0              0.0   \n",
       "3               1        170679.74       0             0.0              1.0   \n",
       "4               1        114669.79       0             0.0              0.0   \n",
       "\n",
       "   country_Spain  Surname_enc  \n",
       "0            0.0     0.083333  \n",
       "1            0.0     0.203030  \n",
       "2            1.0     0.333333  \n",
       "3            0.0     0.153846  \n",
       "4            1.0     0.230769  "
      ]
     },
     "execution_count": 77,
     "metadata": {},
     "output_type": "execute_result"
    }
   ],
   "source": [
    "df_train.head()\n",
    "df_val.head()\n",
    "df_test.head()"
   ]
  },
  {
   "cell_type": "code",
   "execution_count": 78,
   "metadata": {},
   "outputs": [
    {
     "data": {
      "text/html": [
       "<div>\n",
       "<style scoped>\n",
       "    .dataframe tbody tr th:only-of-type {\n",
       "        vertical-align: middle;\n",
       "    }\n",
       "\n",
       "    .dataframe tbody tr th {\n",
       "        vertical-align: top;\n",
       "    }\n",
       "\n",
       "    .dataframe thead th {\n",
       "        text-align: right;\n",
       "    }\n",
       "</style>\n",
       "<table border=\"1\" class=\"dataframe\">\n",
       "  <thead>\n",
       "    <tr style=\"text-align: right;\">\n",
       "      <th></th>\n",
       "      <th>CreditScore</th>\n",
       "      <th>Gender</th>\n",
       "      <th>Age</th>\n",
       "      <th>Tenure</th>\n",
       "      <th>Balance</th>\n",
       "      <th>NumOfProducts</th>\n",
       "      <th>HasCrCard</th>\n",
       "      <th>IsActiveMember</th>\n",
       "      <th>EstimatedSalary</th>\n",
       "      <th>Exited</th>\n",
       "      <th>country_France</th>\n",
       "      <th>country_Germany</th>\n",
       "      <th>country_Spain</th>\n",
       "      <th>Surname_enc</th>\n",
       "    </tr>\n",
       "  </thead>\n",
       "  <tbody>\n",
       "    <tr>\n",
       "      <th>CreditScore</th>\n",
       "      <td>1.000000</td>\n",
       "      <td>0.000354</td>\n",
       "      <td>0.002099</td>\n",
       "      <td>0.005994</td>\n",
       "      <td>-0.001507</td>\n",
       "      <td>0.014110</td>\n",
       "      <td>-0.011868</td>\n",
       "      <td>0.035057</td>\n",
       "      <td>0.000358</td>\n",
       "      <td>-0.028117</td>\n",
       "      <td>-0.009481</td>\n",
       "      <td>0.003393</td>\n",
       "      <td>0.007561</td>\n",
       "      <td>-0.000739</td>\n",
       "    </tr>\n",
       "    <tr>\n",
       "      <th>Gender</th>\n",
       "      <td>0.000354</td>\n",
       "      <td>1.000000</td>\n",
       "      <td>-0.024446</td>\n",
       "      <td>0.010749</td>\n",
       "      <td>0.009380</td>\n",
       "      <td>-0.026795</td>\n",
       "      <td>0.007550</td>\n",
       "      <td>0.028094</td>\n",
       "      <td>-0.011007</td>\n",
       "      <td>-0.102331</td>\n",
       "      <td>0.000823</td>\n",
       "      <td>-0.018412</td>\n",
       "      <td>0.017361</td>\n",
       "      <td>0.008002</td>\n",
       "    </tr>\n",
       "    <tr>\n",
       "      <th>Age</th>\n",
       "      <td>0.002099</td>\n",
       "      <td>-0.024446</td>\n",
       "      <td>1.000000</td>\n",
       "      <td>-0.011384</td>\n",
       "      <td>0.027721</td>\n",
       "      <td>-0.033305</td>\n",
       "      <td>-0.019633</td>\n",
       "      <td>0.093573</td>\n",
       "      <td>-0.006827</td>\n",
       "      <td>0.288221</td>\n",
       "      <td>-0.038881</td>\n",
       "      <td>0.048764</td>\n",
       "      <td>-0.003648</td>\n",
       "      <td>-0.010844</td>\n",
       "    </tr>\n",
       "    <tr>\n",
       "      <th>Tenure</th>\n",
       "      <td>0.005994</td>\n",
       "      <td>0.010749</td>\n",
       "      <td>-0.011384</td>\n",
       "      <td>1.000000</td>\n",
       "      <td>-0.013081</td>\n",
       "      <td>0.018231</td>\n",
       "      <td>0.026148</td>\n",
       "      <td>-0.021263</td>\n",
       "      <td>0.010145</td>\n",
       "      <td>-0.010660</td>\n",
       "      <td>0.000021</td>\n",
       "      <td>-0.003131</td>\n",
       "      <td>0.003090</td>\n",
       "      <td>-0.006753</td>\n",
       "    </tr>\n",
       "    <tr>\n",
       "      <th>Balance</th>\n",
       "      <td>-0.001507</td>\n",
       "      <td>0.009380</td>\n",
       "      <td>0.027721</td>\n",
       "      <td>-0.013081</td>\n",
       "      <td>1.000000</td>\n",
       "      <td>-0.304318</td>\n",
       "      <td>-0.021464</td>\n",
       "      <td>-0.008085</td>\n",
       "      <td>0.027247</td>\n",
       "      <td>0.113377</td>\n",
       "      <td>-0.231770</td>\n",
       "      <td>0.405616</td>\n",
       "      <td>-0.136044</td>\n",
       "      <td>0.006925</td>\n",
       "    </tr>\n",
       "    <tr>\n",
       "      <th>NumOfProducts</th>\n",
       "      <td>0.014110</td>\n",
       "      <td>-0.026795</td>\n",
       "      <td>-0.033305</td>\n",
       "      <td>0.018231</td>\n",
       "      <td>-0.304318</td>\n",
       "      <td>1.000000</td>\n",
       "      <td>0.007202</td>\n",
       "      <td>0.014809</td>\n",
       "      <td>0.009769</td>\n",
       "      <td>-0.039200</td>\n",
       "      <td>0.002991</td>\n",
       "      <td>-0.015926</td>\n",
       "      <td>0.012388</td>\n",
       "      <td>-0.002020</td>\n",
       "    </tr>\n",
       "    <tr>\n",
       "      <th>HasCrCard</th>\n",
       "      <td>-0.011868</td>\n",
       "      <td>0.007550</td>\n",
       "      <td>-0.019633</td>\n",
       "      <td>0.026148</td>\n",
       "      <td>-0.021464</td>\n",
       "      <td>0.007202</td>\n",
       "      <td>1.000000</td>\n",
       "      <td>-0.006526</td>\n",
       "      <td>-0.008413</td>\n",
       "      <td>-0.013659</td>\n",
       "      <td>0.005881</td>\n",
       "      <td>0.008197</td>\n",
       "      <td>-0.014934</td>\n",
       "      <td>-0.000551</td>\n",
       "    </tr>\n",
       "    <tr>\n",
       "      <th>IsActiveMember</th>\n",
       "      <td>0.035057</td>\n",
       "      <td>0.028094</td>\n",
       "      <td>0.093573</td>\n",
       "      <td>-0.021263</td>\n",
       "      <td>-0.008085</td>\n",
       "      <td>0.014809</td>\n",
       "      <td>-0.006526</td>\n",
       "      <td>1.000000</td>\n",
       "      <td>-0.016446</td>\n",
       "      <td>-0.152477</td>\n",
       "      <td>0.002126</td>\n",
       "      <td>-0.020570</td>\n",
       "      <td>0.018003</td>\n",
       "      <td>0.004902</td>\n",
       "    </tr>\n",
       "    <tr>\n",
       "      <th>EstimatedSalary</th>\n",
       "      <td>0.000358</td>\n",
       "      <td>-0.011007</td>\n",
       "      <td>-0.006827</td>\n",
       "      <td>0.010145</td>\n",
       "      <td>0.027247</td>\n",
       "      <td>0.009769</td>\n",
       "      <td>-0.008413</td>\n",
       "      <td>-0.016446</td>\n",
       "      <td>1.000000</td>\n",
       "      <td>0.015881</td>\n",
       "      <td>-0.004512</td>\n",
       "      <td>0.010583</td>\n",
       "      <td>-0.005320</td>\n",
       "      <td>-0.009899</td>\n",
       "    </tr>\n",
       "    <tr>\n",
       "      <th>Exited</th>\n",
       "      <td>-0.028117</td>\n",
       "      <td>-0.102331</td>\n",
       "      <td>0.288221</td>\n",
       "      <td>-0.010660</td>\n",
       "      <td>0.113377</td>\n",
       "      <td>-0.039200</td>\n",
       "      <td>-0.013659</td>\n",
       "      <td>-0.152477</td>\n",
       "      <td>0.015881</td>\n",
       "      <td>1.000000</td>\n",
       "      <td>-0.106006</td>\n",
       "      <td>0.173492</td>\n",
       "      <td>-0.050264</td>\n",
       "      <td>-0.026440</td>\n",
       "    </tr>\n",
       "    <tr>\n",
       "      <th>country_France</th>\n",
       "      <td>-0.009481</td>\n",
       "      <td>0.000823</td>\n",
       "      <td>-0.038881</td>\n",
       "      <td>0.000021</td>\n",
       "      <td>-0.231770</td>\n",
       "      <td>0.002991</td>\n",
       "      <td>0.005881</td>\n",
       "      <td>0.002126</td>\n",
       "      <td>-0.004512</td>\n",
       "      <td>-0.106006</td>\n",
       "      <td>1.000000</td>\n",
       "      <td>-0.575048</td>\n",
       "      <td>-0.581494</td>\n",
       "      <td>-0.007467</td>\n",
       "    </tr>\n",
       "    <tr>\n",
       "      <th>country_Germany</th>\n",
       "      <td>0.003393</td>\n",
       "      <td>-0.018412</td>\n",
       "      <td>0.048764</td>\n",
       "      <td>-0.003131</td>\n",
       "      <td>0.405616</td>\n",
       "      <td>-0.015926</td>\n",
       "      <td>0.008197</td>\n",
       "      <td>-0.020570</td>\n",
       "      <td>0.010583</td>\n",
       "      <td>0.173492</td>\n",
       "      <td>-0.575048</td>\n",
       "      <td>1.000000</td>\n",
       "      <td>-0.331194</td>\n",
       "      <td>-0.006132</td>\n",
       "    </tr>\n",
       "    <tr>\n",
       "      <th>country_Spain</th>\n",
       "      <td>0.007561</td>\n",
       "      <td>0.017361</td>\n",
       "      <td>-0.003648</td>\n",
       "      <td>0.003090</td>\n",
       "      <td>-0.136044</td>\n",
       "      <td>0.012388</td>\n",
       "      <td>-0.014934</td>\n",
       "      <td>0.018003</td>\n",
       "      <td>-0.005320</td>\n",
       "      <td>-0.050264</td>\n",
       "      <td>-0.581494</td>\n",
       "      <td>-0.331194</td>\n",
       "      <td>1.000000</td>\n",
       "      <td>0.014710</td>\n",
       "    </tr>\n",
       "    <tr>\n",
       "      <th>Surname_enc</th>\n",
       "      <td>-0.000739</td>\n",
       "      <td>0.008002</td>\n",
       "      <td>-0.010844</td>\n",
       "      <td>-0.006753</td>\n",
       "      <td>0.006925</td>\n",
       "      <td>-0.002020</td>\n",
       "      <td>-0.000551</td>\n",
       "      <td>0.004902</td>\n",
       "      <td>-0.009899</td>\n",
       "      <td>-0.026440</td>\n",
       "      <td>-0.007467</td>\n",
       "      <td>-0.006132</td>\n",
       "      <td>0.014710</td>\n",
       "      <td>1.000000</td>\n",
       "    </tr>\n",
       "  </tbody>\n",
       "</table>\n",
       "</div>"
      ],
      "text/plain": [
       "                 CreditScore    Gender       Age    Tenure   Balance  \\\n",
       "CreditScore         1.000000  0.000354  0.002099  0.005994 -0.001507   \n",
       "Gender              0.000354  1.000000 -0.024446  0.010749  0.009380   \n",
       "Age                 0.002099 -0.024446  1.000000 -0.011384  0.027721   \n",
       "Tenure              0.005994  0.010749 -0.011384  1.000000 -0.013081   \n",
       "Balance            -0.001507  0.009380  0.027721 -0.013081  1.000000   \n",
       "NumOfProducts       0.014110 -0.026795 -0.033305  0.018231 -0.304318   \n",
       "HasCrCard          -0.011868  0.007550 -0.019633  0.026148 -0.021464   \n",
       "IsActiveMember      0.035057  0.028094  0.093573 -0.021263 -0.008085   \n",
       "EstimatedSalary     0.000358 -0.011007 -0.006827  0.010145  0.027247   \n",
       "Exited             -0.028117 -0.102331  0.288221 -0.010660  0.113377   \n",
       "country_France     -0.009481  0.000823 -0.038881  0.000021 -0.231770   \n",
       "country_Germany     0.003393 -0.018412  0.048764 -0.003131  0.405616   \n",
       "country_Spain       0.007561  0.017361 -0.003648  0.003090 -0.136044   \n",
       "Surname_enc        -0.000739  0.008002 -0.010844 -0.006753  0.006925   \n",
       "\n",
       "                 NumOfProducts  HasCrCard  IsActiveMember  EstimatedSalary  \\\n",
       "CreditScore           0.014110  -0.011868        0.035057         0.000358   \n",
       "Gender               -0.026795   0.007550        0.028094        -0.011007   \n",
       "Age                  -0.033305  -0.019633        0.093573        -0.006827   \n",
       "Tenure                0.018231   0.026148       -0.021263         0.010145   \n",
       "Balance              -0.304318  -0.021464       -0.008085         0.027247   \n",
       "NumOfProducts         1.000000   0.007202        0.014809         0.009769   \n",
       "HasCrCard             0.007202   1.000000       -0.006526        -0.008413   \n",
       "IsActiveMember        0.014809  -0.006526        1.000000        -0.016446   \n",
       "EstimatedSalary       0.009769  -0.008413       -0.016446         1.000000   \n",
       "Exited               -0.039200  -0.013659       -0.152477         0.015881   \n",
       "country_France        0.002991   0.005881        0.002126        -0.004512   \n",
       "country_Germany      -0.015926   0.008197       -0.020570         0.010583   \n",
       "country_Spain         0.012388  -0.014934        0.018003        -0.005320   \n",
       "Surname_enc          -0.002020  -0.000551        0.004902        -0.009899   \n",
       "\n",
       "                   Exited  country_France  country_Germany  country_Spain  \\\n",
       "CreditScore     -0.028117       -0.009481         0.003393       0.007561   \n",
       "Gender          -0.102331        0.000823        -0.018412       0.017361   \n",
       "Age              0.288221       -0.038881         0.048764      -0.003648   \n",
       "Tenure          -0.010660        0.000021        -0.003131       0.003090   \n",
       "Balance          0.113377       -0.231770         0.405616      -0.136044   \n",
       "NumOfProducts   -0.039200        0.002991        -0.015926       0.012388   \n",
       "HasCrCard       -0.013659        0.005881         0.008197      -0.014934   \n",
       "IsActiveMember  -0.152477        0.002126        -0.020570       0.018003   \n",
       "EstimatedSalary  0.015881       -0.004512         0.010583      -0.005320   \n",
       "Exited           1.000000       -0.106006         0.173492      -0.050264   \n",
       "country_France  -0.106006        1.000000        -0.575048      -0.581494   \n",
       "country_Germany  0.173492       -0.575048         1.000000      -0.331194   \n",
       "country_Spain   -0.050264       -0.581494        -0.331194       1.000000   \n",
       "Surname_enc     -0.026440       -0.007467        -0.006132       0.014710   \n",
       "\n",
       "                 Surname_enc  \n",
       "CreditScore        -0.000739  \n",
       "Gender              0.008002  \n",
       "Age                -0.010844  \n",
       "Tenure             -0.006753  \n",
       "Balance             0.006925  \n",
       "NumOfProducts      -0.002020  \n",
       "HasCrCard          -0.000551  \n",
       "IsActiveMember      0.004902  \n",
       "EstimatedSalary    -0.009899  \n",
       "Exited             -0.026440  \n",
       "country_France     -0.007467  \n",
       "country_Germany    -0.006132  \n",
       "country_Spain       0.014710  \n",
       "Surname_enc         1.000000  "
      ]
     },
     "execution_count": 78,
     "metadata": {},
     "output_type": "execute_result"
    }
   ],
   "source": [
    "corr = df_train.corr()\n",
    "corr"
   ]
  },
  {
   "cell_type": "code",
   "execution_count": 79,
   "metadata": {},
   "outputs": [
    {
     "data": {
      "text/plain": [
       "<AxesSubplot:>"
      ]
     },
     "execution_count": 79,
     "metadata": {},
     "output_type": "execute_result"
    },
    {
     "data": {
      "image/png": "[encoded data removed]",
      "text/plain": [
       "<Figure size 432x288 with 2 Axes>"
      ]
     },
     "metadata": {},
     "output_type": "display_data"
    }
   ],
   "source": [
    "sns.heatmap(corr, cmap=\"PuRd\")"
   ]
  },
  {
   "cell_type": "markdown",
   "metadata": {},
   "source": [
    "#### Individual features versus their distibution across target variable values"
   ]
  },
  {
   "cell_type": "code",
   "execution_count": 80,
   "metadata": {},
   "outputs": [
    {
     "data": {
      "text/plain": [
       "<AxesSubplot:xlabel='Exited', ylabel='Age'>"
      ]
     },
     "execution_count": 80,
     "metadata": {},
     "output_type": "execute_result"
    },
    {
     "data": {
      "image/png": "[encoded data removed]",
      "text/plain": [
       "<Figure size 432x288 with 1 Axes>"
      ]
     },
     "metadata": {},
     "output_type": "display_data"
    }
   ],
   "source": [
    "sns.boxplot(x = \"Exited\", y = \"Age\", data = df_train, palette=\"Set3\")"
   ]
  },
  {
   "cell_type": "code",
   "execution_count": 81,
   "metadata": {},
   "outputs": [
    {
     "data": {
      "text/plain": [
       "<AxesSubplot:xlabel='Exited', ylabel='Balance'>"
      ]
     },
     "execution_count": 81,
     "metadata": {},
     "output_type": "execute_result"
    },
    {
     "data": {
      "image/png": "[encoded data removed]",
      "text/plain": [
       "<Figure size 432x288 with 1 Axes>"
      ]
     },
     "metadata": {},
     "output_type": "display_data"
    }
   ],
   "source": [
    "sns.violinplot(x = \"Exited\", y = \"Balance\", data = df_train, palette=\"Set3\")"
   ]
  },
  {
   "cell_type": "code",
   "execution_count": 82,
   "metadata": {},
   "outputs": [
    {
     "data": {
      "text/plain": [
       "Gender\n",
       "0    0.248191\n",
       "1    0.165511\n",
       "Name: Exited, dtype: float64"
      ]
     },
     "execution_count": 82,
     "metadata": {},
     "output_type": "execute_result"
    },
    {
     "data": {
      "text/plain": [
       "IsActiveMember\n",
       "0    0.266285\n",
       "1    0.143557\n",
       "Name: Exited, dtype: float64"
      ]
     },
     "execution_count": 82,
     "metadata": {},
     "output_type": "execute_result"
    },
    {
     "data": {
      "text/plain": [
       "country_Germany\n",
       "0.0    0.163091\n",
       "1.0    0.324974\n",
       "Name: Exited, dtype: float64"
      ]
     },
     "execution_count": 82,
     "metadata": {},
     "output_type": "execute_result"
    },
    {
     "data": {
      "text/plain": [
       "country_France\n",
       "0.0    0.245877\n",
       "1.0    0.160593\n",
       "Name: Exited, dtype: float64"
      ]
     },
     "execution_count": 82,
     "metadata": {},
     "output_type": "execute_result"
    }
   ],
   "source": [
    "cat_vars_bv = ['Gender', 'IsActiveMember', 'country_Germany', 'country_France']\n",
    "\n",
    "for col in cat_vars_bv:\n",
    "    df_train.groupby([col]).Exited.mean()"
   ]
  },
  {
   "cell_type": "code",
   "execution_count": 83,
   "metadata": {},
   "outputs": [
    {
     "data": {
      "text/plain": [
       "NumOfProducts\n",
       "1    0.273428\n",
       "2    0.076881\n",
       "3    0.825112\n",
       "4    1.000000\n",
       "Name: Exited, dtype: float64"
      ]
     },
     "execution_count": 83,
     "metadata": {},
     "output_type": "execute_result"
    },
    {
     "data": {
      "text/plain": [
       "1    4023\n",
       "2    3629\n",
       "3     223\n",
       "4      45\n",
       "Name: NumOfProducts, dtype: int64"
      ]
     },
     "execution_count": 83,
     "metadata": {},
     "output_type": "execute_result"
    }
   ],
   "source": [
    "col = 'NumOfProducts'\n",
    "df_train.groupby([col]).Exited.mean()\n",
    "df_train[col].value_counts()"
   ]
  },
  {
   "cell_type": "markdown",
   "metadata": {},
   "source": [
    "#### feature engineering"
   ]
  },
  {
   "cell_type": "code",
   "execution_count": 84,
   "metadata": {},
   "outputs": [
    {
     "data": {
      "text/plain": [
       "Index(['CreditScore', 'Gender', 'Age', 'Tenure', 'Balance', 'NumOfProducts',\n",
       "       'HasCrCard', 'IsActiveMember', 'EstimatedSalary', 'Exited',\n",
       "       'country_France', 'country_Germany', 'country_Spain', 'Surname_enc'],\n",
       "      dtype='object')"
      ]
     },
     "execution_count": 84,
     "metadata": {},
     "output_type": "execute_result"
    }
   ],
   "source": [
    "df_train.columns"
   ]
  },
  {
   "cell_type": "code",
   "execution_count": 85,
   "metadata": {},
   "outputs": [],
   "source": [
    "eps = 1e-6\n",
    "\n",
    "df_train['bal_per_product'] = df_train.Balance/(df_train.NumOfProducts + eps)\n",
    "df_train['bal_by_est_salary'] = df_train.Balance/(df_train.EstimatedSalary + eps)\n",
    "df_train['tenure_age_ratio'] = df_train.Tenure/(df_train.Age + eps)\n",
    "df_train['age_surname_mean_churn'] = np.sqrt(df_train.Age) * df_train.Surname_enc"
   ]
  },
  {
   "cell_type": "code",
   "execution_count": 86,
   "metadata": {},
   "outputs": [
    {
     "data": {
      "text/html": [
       "<div>\n",
       "<style scoped>\n",
       "    .dataframe tbody tr th:only-of-type {\n",
       "        vertical-align: middle;\n",
       "    }\n",
       "\n",
       "    .dataframe tbody tr th {\n",
       "        vertical-align: top;\n",
       "    }\n",
       "\n",
       "    .dataframe thead th {\n",
       "        text-align: right;\n",
       "    }\n",
       "</style>\n",
       "<table border=\"1\" class=\"dataframe\">\n",
       "  <thead>\n",
       "    <tr style=\"text-align: right;\">\n",
       "      <th></th>\n",
       "      <th>CreditScore</th>\n",
       "      <th>Gender</th>\n",
       "      <th>Age</th>\n",
       "      <th>Tenure</th>\n",
       "      <th>Balance</th>\n",
       "      <th>NumOfProducts</th>\n",
       "      <th>HasCrCard</th>\n",
       "      <th>IsActiveMember</th>\n",
       "      <th>EstimatedSalary</th>\n",
       "      <th>Exited</th>\n",
       "      <th>country_France</th>\n",
       "      <th>country_Germany</th>\n",
       "      <th>country_Spain</th>\n",
       "      <th>Surname_enc</th>\n",
       "      <th>bal_per_product</th>\n",
       "      <th>bal_by_est_salary</th>\n",
       "      <th>tenure_age_ratio</th>\n",
       "      <th>age_surname_mean_churn</th>\n",
       "    </tr>\n",
       "  </thead>\n",
       "  <tbody>\n",
       "    <tr>\n",
       "      <th>0</th>\n",
       "      <td>678</td>\n",
       "      <td>1</td>\n",
       "      <td>36</td>\n",
       "      <td>1</td>\n",
       "      <td>117864.85</td>\n",
       "      <td>2</td>\n",
       "      <td>1</td>\n",
       "      <td>0</td>\n",
       "      <td>27619.06</td>\n",
       "      <td>0</td>\n",
       "      <td>0.0</td>\n",
       "      <td>1.0</td>\n",
       "      <td>0.0</td>\n",
       "      <td>0.000000</td>\n",
       "      <td>58932.395534</td>\n",
       "      <td>4.267519</td>\n",
       "      <td>0.027778</td>\n",
       "      <td>0.000000</td>\n",
       "    </tr>\n",
       "    <tr>\n",
       "      <th>1</th>\n",
       "      <td>613</td>\n",
       "      <td>0</td>\n",
       "      <td>27</td>\n",
       "      <td>5</td>\n",
       "      <td>125167.74</td>\n",
       "      <td>1</td>\n",
       "      <td>1</td>\n",
       "      <td>0</td>\n",
       "      <td>199104.52</td>\n",
       "      <td>0</td>\n",
       "      <td>1.0</td>\n",
       "      <td>0.0</td>\n",
       "      <td>0.0</td>\n",
       "      <td>0.000000</td>\n",
       "      <td>125167.614832</td>\n",
       "      <td>0.628653</td>\n",
       "      <td>0.185185</td>\n",
       "      <td>0.000000</td>\n",
       "    </tr>\n",
       "    <tr>\n",
       "      <th>2</th>\n",
       "      <td>628</td>\n",
       "      <td>1</td>\n",
       "      <td>45</td>\n",
       "      <td>9</td>\n",
       "      <td>0.00</td>\n",
       "      <td>2</td>\n",
       "      <td>1</td>\n",
       "      <td>1</td>\n",
       "      <td>96862.56</td>\n",
       "      <td>0</td>\n",
       "      <td>1.0</td>\n",
       "      <td>0.0</td>\n",
       "      <td>0.0</td>\n",
       "      <td>0.222222</td>\n",
       "      <td>0.000000</td>\n",
       "      <td>0.000000</td>\n",
       "      <td>0.200000</td>\n",
       "      <td>1.490712</td>\n",
       "    </tr>\n",
       "    <tr>\n",
       "      <th>3</th>\n",
       "      <td>513</td>\n",
       "      <td>1</td>\n",
       "      <td>30</td>\n",
       "      <td>5</td>\n",
       "      <td>0.00</td>\n",
       "      <td>2</td>\n",
       "      <td>1</td>\n",
       "      <td>0</td>\n",
       "      <td>162523.66</td>\n",
       "      <td>0</td>\n",
       "      <td>1.0</td>\n",
       "      <td>0.0</td>\n",
       "      <td>0.0</td>\n",
       "      <td>0.300000</td>\n",
       "      <td>0.000000</td>\n",
       "      <td>0.000000</td>\n",
       "      <td>0.166667</td>\n",
       "      <td>1.643168</td>\n",
       "    </tr>\n",
       "    <tr>\n",
       "      <th>4</th>\n",
       "      <td>639</td>\n",
       "      <td>1</td>\n",
       "      <td>22</td>\n",
       "      <td>4</td>\n",
       "      <td>0.00</td>\n",
       "      <td>2</td>\n",
       "      <td>1</td>\n",
       "      <td>0</td>\n",
       "      <td>28188.96</td>\n",
       "      <td>0</td>\n",
       "      <td>1.0</td>\n",
       "      <td>0.0</td>\n",
       "      <td>0.0</td>\n",
       "      <td>0.500000</td>\n",
       "      <td>0.000000</td>\n",
       "      <td>0.000000</td>\n",
       "      <td>0.181818</td>\n",
       "      <td>2.345208</td>\n",
       "    </tr>\n",
       "  </tbody>\n",
       "</table>\n",
       "</div>"
      ],
      "text/plain": [
       "   CreditScore  Gender  Age  Tenure    Balance  NumOfProducts  HasCrCard  \\\n",
       "0          678       1   36       1  117864.85              2          1   \n",
       "1          613       0   27       5  125167.74              1          1   \n",
       "2          628       1   45       9       0.00              2          1   \n",
       "3          513       1   30       5       0.00              2          1   \n",
       "4          639       1   22       4       0.00              2          1   \n",
       "\n",
       "   IsActiveMember  EstimatedSalary  Exited  country_France  country_Germany  \\\n",
       "0               0         27619.06       0             0.0              1.0   \n",
       "1               0        199104.52       0             1.0              0.0   \n",
       "2               1         96862.56       0             1.0              0.0   \n",
       "3               0        162523.66       0             1.0              0.0   \n",
       "4               0         28188.96       0             1.0              0.0   \n",
       "\n",
       "   country_Spain  Surname_enc  bal_per_product  bal_by_est_salary  \\\n",
       "0            0.0     0.000000     58932.395534           4.267519   \n",
       "1            0.0     0.000000    125167.614832           0.628653   \n",
       "2            0.0     0.222222         0.000000           0.000000   \n",
       "3            0.0     0.300000         0.000000           0.000000   \n",
       "4            0.0     0.500000         0.000000           0.000000   \n",
       "\n",
       "   tenure_age_ratio  age_surname_mean_churn  \n",
       "0          0.027778                0.000000  \n",
       "1          0.185185                0.000000  \n",
       "2          0.200000                1.490712  \n",
       "3          0.166667                1.643168  \n",
       "4          0.181818                2.345208  "
      ]
     },
     "execution_count": 86,
     "metadata": {},
     "output_type": "execute_result"
    }
   ],
   "source": [
    "df_train.head()"
   ]
  },
  {
   "cell_type": "code",
   "execution_count": 87,
   "metadata": {},
   "outputs": [],
   "source": [
    "new_cols = ['bal_per_product','bal_by_est_salary','tenure_age_ratio','age_surname_mean_churn']"
   ]
  },
  {
   "cell_type": "code",
   "execution_count": 88,
   "metadata": {},
   "outputs": [
    {
     "data": {
      "text/plain": [
       "bal_per_product           0\n",
       "bal_by_est_salary         0\n",
       "tenure_age_ratio          0\n",
       "age_surname_mean_churn    0\n",
       "dtype: int64"
      ]
     },
     "execution_count": 88,
     "metadata": {},
     "output_type": "execute_result"
    }
   ],
   "source": [
    "df_train[new_cols].isnull().sum()"
   ]
  },
  {
   "cell_type": "code",
   "execution_count": 89,
   "metadata": {},
   "outputs": [
    {
     "data": {
      "text/plain": [
       "<AxesSubplot:>"
      ]
     },
     "execution_count": 89,
     "metadata": {},
     "output_type": "execute_result"
    },
    {
     "data": {
      "image/png": "[encoded data removed]",
      "text/plain": [
       "<Figure size 432x288 with 2 Axes>"
      ]
     },
     "metadata": {},
     "output_type": "display_data"
    }
   ],
   "source": [
    "sns.heatmap(df_train[new_cols + ['Exited']].corr(), annot=True)"
   ]
  },
  {
   "cell_type": "code",
   "execution_count": 90,
   "metadata": {},
   "outputs": [],
   "source": [
    "eps = 1e-6\n",
    "\n",
    "df_val['bal_per_product'] = df_val.Balance/(df_val.NumOfProducts + eps)\n",
    "df_val['bal_by_est_salary'] = df_val.Balance/(df_val.EstimatedSalary + eps)\n",
    "df_val['tenure_age_ratio'] = df_val.Tenure/(df_val.Age + eps)\n",
    "df_val['age_surname_mean_churn'] = np.sqrt(df_val.Age) * df_val.Surname_enc"
   ]
  },
  {
   "cell_type": "code",
   "execution_count": 91,
   "metadata": {},
   "outputs": [],
   "source": [
    "eps = 1e-6\n",
    "\n",
    "df_test['bal_per_product'] = df_test.Balance/(df_test.NumOfProducts + eps)\n",
    "df_test['bal_by_est_salary'] = df_test.Balance/(df_test.EstimatedSalary + eps)\n",
    "df_test['tenure_age_ratio'] = df_test.Tenure/(df_test.Age + eps)\n",
    "df_test['age_surname_mean_churn'] = np.sqrt(df_test.Age) * df_test.Surname_enc"
   ]
  },
  {
   "cell_type": "markdown",
   "metadata": {},
   "source": [
    "# Feature scaling and normalization"
   ]
  },
  {
   "cell_type": "code",
   "execution_count": 92,
   "metadata": {},
   "outputs": [
    {
     "data": {
      "text/plain": [
       "<AxesSubplot:xlabel='EstimatedSalary', ylabel='Density'>"
      ]
     },
     "execution_count": 92,
     "metadata": {},
     "output_type": "execute_result"
    },
    {
     "data": {
      "image/png": "[encoded data removed]",
      "text/plain": [
       "<Figure size 432x288 with 1 Axes>"
      ]
     },
     "metadata": {},
     "output_type": "display_data"
    }
   ],
   "source": [
    "sns.distplot(df_train.EstimatedSalary, hist=False)"
   ]
  },
  {
   "cell_type": "code",
   "execution_count": 93,
   "metadata": {},
   "outputs": [
    {
     "data": {
      "text/plain": [
       "<AxesSubplot:xlabel='EstimatedSalary', ylabel='Density'>"
      ]
     },
     "execution_count": 93,
     "metadata": {},
     "output_type": "execute_result"
    },
    {
     "data": {
      "image/png": "[encoded data removed]",
      "text/plain": [
       "<Figure size 432x288 with 1 Axes>"
      ]
     },
     "metadata": {},
     "output_type": "display_data"
    }
   ],
   "source": [
    "sns.distplot(np.sqrt(df_train.EstimatedSalary), hist=False)"
   ]
  },
  {
   "cell_type": "code",
   "execution_count": 94,
   "metadata": {},
   "outputs": [],
   "source": [
    "from sklearn.preprocessing import StandardScaler\n",
    "sc = StandardScaler()"
   ]
  },
  {
   "cell_type": "code",
   "execution_count": 95,
   "metadata": {},
   "outputs": [
    {
     "data": {
      "text/plain": [
       "Index(['CreditScore', 'Gender', 'Age', 'Tenure', 'Balance', 'NumOfProducts',\n",
       "       'HasCrCard', 'IsActiveMember', 'EstimatedSalary', 'Exited',\n",
       "       'country_France', 'country_Germany', 'country_Spain', 'Surname_enc',\n",
       "       'bal_per_product', 'bal_by_est_salary', 'tenure_age_ratio',\n",
       "       'age_surname_mean_churn'],\n",
       "      dtype='object')"
      ]
     },
     "execution_count": 95,
     "metadata": {},
     "output_type": "execute_result"
    }
   ],
   "source": [
    "df_train.columns"
   ]
  },
  {
   "cell_type": "code",
   "execution_count": 96,
   "metadata": {},
   "outputs": [],
   "source": [
    "cont_vars = ['CreditScore', 'Age', 'Tenure', 'Balance', 'NumOfProducts', 'EstimatedSalary', 'Surname_enc', 'bal_per_product'\n",
    "             , 'bal_by_est_salary', 'tenure_age_ratio', 'age_surname_mean_churn']\n",
    "cat_vars = ['Gender', 'HasCrCard', 'IsActiveMember', 'country_France', 'country_Germany', 'country_Spain']"
   ]
  },
  {
   "cell_type": "code",
   "execution_count": 97,
   "metadata": {},
   "outputs": [],
   "source": [
    "cols_to_scale = cont_vars"
   ]
  },
  {
   "cell_type": "code",
   "execution_count": 98,
   "metadata": {},
   "outputs": [],
   "source": [
    "sc_X_train = sc.fit_transform(df_train[cols_to_scale])"
   ]
  },
  {
   "cell_type": "code",
   "execution_count": 99,
   "metadata": {},
   "outputs": [
    {
     "data": {
      "text/plain": [
       "(7920, 11)"
      ]
     },
     "execution_count": 99,
     "metadata": {},
     "output_type": "execute_result"
    },
    {
     "data": {
      "text/html": [
       "<div>\n",
       "<style scoped>\n",
       "    .dataframe tbody tr th:only-of-type {\n",
       "        vertical-align: middle;\n",
       "    }\n",
       "\n",
       "    .dataframe tbody tr th {\n",
       "        vertical-align: top;\n",
       "    }\n",
       "\n",
       "    .dataframe thead th {\n",
       "        text-align: right;\n",
       "    }\n",
       "</style>\n",
       "<table border=\"1\" class=\"dataframe\">\n",
       "  <thead>\n",
       "    <tr style=\"text-align: right;\">\n",
       "      <th></th>\n",
       "      <th>CreditScore</th>\n",
       "      <th>Age</th>\n",
       "      <th>Tenure</th>\n",
       "      <th>Balance</th>\n",
       "      <th>NumOfProducts</th>\n",
       "      <th>EstimatedSalary</th>\n",
       "      <th>Surname_enc</th>\n",
       "      <th>bal_per_product</th>\n",
       "      <th>bal_by_est_salary</th>\n",
       "      <th>tenure_age_ratio</th>\n",
       "      <th>age_surname_mean_churn</th>\n",
       "    </tr>\n",
       "  </thead>\n",
       "  <tbody>\n",
       "    <tr>\n",
       "      <th>0</th>\n",
       "      <td>0.284761</td>\n",
       "      <td>-0.274383</td>\n",
       "      <td>-1.389130</td>\n",
       "      <td>0.670778</td>\n",
       "      <td>0.804059</td>\n",
       "      <td>-1.254732</td>\n",
       "      <td>-1.079210</td>\n",
       "      <td>-0.062389</td>\n",
       "      <td>0.095448</td>\n",
       "      <td>-1.232035</td>\n",
       "      <td>-1.062507</td>\n",
       "    </tr>\n",
       "    <tr>\n",
       "      <th>1</th>\n",
       "      <td>-0.389351</td>\n",
       "      <td>-1.128482</td>\n",
       "      <td>-0.004763</td>\n",
       "      <td>0.787860</td>\n",
       "      <td>-0.912423</td>\n",
       "      <td>1.731950</td>\n",
       "      <td>-1.079210</td>\n",
       "      <td>1.104840</td>\n",
       "      <td>-0.118834</td>\n",
       "      <td>0.525547</td>\n",
       "      <td>-1.062507</td>\n",
       "    </tr>\n",
       "    <tr>\n",
       "      <th>2</th>\n",
       "      <td>-0.233786</td>\n",
       "      <td>0.579716</td>\n",
       "      <td>1.379604</td>\n",
       "      <td>-1.218873</td>\n",
       "      <td>0.804059</td>\n",
       "      <td>-0.048751</td>\n",
       "      <td>0.094549</td>\n",
       "      <td>-1.100925</td>\n",
       "      <td>-0.155854</td>\n",
       "      <td>0.690966</td>\n",
       "      <td>0.193191</td>\n",
       "    </tr>\n",
       "    <tr>\n",
       "      <th>3</th>\n",
       "      <td>-1.426446</td>\n",
       "      <td>-0.843782</td>\n",
       "      <td>-0.004763</td>\n",
       "      <td>-1.218873</td>\n",
       "      <td>0.804059</td>\n",
       "      <td>1.094838</td>\n",
       "      <td>0.505364</td>\n",
       "      <td>-1.100925</td>\n",
       "      <td>-0.155854</td>\n",
       "      <td>0.318773</td>\n",
       "      <td>0.321611</td>\n",
       "    </tr>\n",
       "    <tr>\n",
       "      <th>4</th>\n",
       "      <td>-0.119706</td>\n",
       "      <td>-1.602981</td>\n",
       "      <td>-0.350855</td>\n",
       "      <td>-1.218873</td>\n",
       "      <td>0.804059</td>\n",
       "      <td>-1.244806</td>\n",
       "      <td>1.561746</td>\n",
       "      <td>-1.100925</td>\n",
       "      <td>-0.155854</td>\n",
       "      <td>0.487952</td>\n",
       "      <td>0.912973</td>\n",
       "    </tr>\n",
       "  </tbody>\n",
       "</table>\n",
       "</div>"
      ],
      "text/plain": [
       "   CreditScore       Age    Tenure   Balance  NumOfProducts  EstimatedSalary  \\\n",
       "0     0.284761 -0.274383 -1.389130  0.670778       0.804059        -1.254732   \n",
       "1    -0.389351 -1.128482 -0.004763  0.787860      -0.912423         1.731950   \n",
       "2    -0.233786  0.579716  1.379604 -1.218873       0.804059        -0.048751   \n",
       "3    -1.426446 -0.843782 -0.004763 -1.218873       0.804059         1.094838   \n",
       "4    -0.119706 -1.602981 -0.350855 -1.218873       0.804059        -1.244806   \n",
       "\n",
       "   Surname_enc  bal_per_product  bal_by_est_salary  tenure_age_ratio  \\\n",
       "0    -1.079210        -0.062389           0.095448         -1.232035   \n",
       "1    -1.079210         1.104840          -0.118834          0.525547   \n",
       "2     0.094549        -1.100925          -0.155854          0.690966   \n",
       "3     0.505364        -1.100925          -0.155854          0.318773   \n",
       "4     1.561746        -1.100925          -0.155854          0.487952   \n",
       "\n",
       "   age_surname_mean_churn  \n",
       "0               -1.062507  \n",
       "1               -1.062507  \n",
       "2                0.193191  \n",
       "3                0.321611  \n",
       "4                0.912973  "
      ]
     },
     "execution_count": 99,
     "metadata": {},
     "output_type": "execute_result"
    }
   ],
   "source": [
    "sc_X_train = pd.DataFrame(data = sc_X_train, columns = cols_to_scale)\n",
    "sc_X_train.shape\n",
    "sc_X_train.head()"
   ]
  },
  {
   "cell_type": "code",
   "execution_count": 100,
   "metadata": {},
   "outputs": [
    {
     "data": {
      "text/plain": [
       "{'mean': array([6.50542424e+02, 3.88912879e+01, 5.01376263e+00, 7.60258447e+04,\n",
       "        1.53156566e+00, 9.96616540e+04, 2.04321788e-01, 6.24727199e+04,\n",
       "        2.64665647e+00, 1.38117689e-01, 1.26136416e+00]),\n",
       " 'std': array([9.64231806e+01, 1.05374237e+01, 2.88940724e+00, 6.23738902e+04,\n",
       "        5.82587032e-01, 5.74167173e+04, 1.89325378e-01, 5.67456646e+04,\n",
       "        1.69816787e+01, 8.95590667e-02, 1.18715858e+00])}"
      ]
     },
     "execution_count": 100,
     "metadata": {},
     "output_type": "execute_result"
    }
   ],
   "source": [
    "sc_map = {'mean':sc.mean_, 'std':np.sqrt(sc.var_)}\n",
    "sc_map"
   ]
  },
  {
   "cell_type": "code",
   "execution_count": 101,
   "metadata": {},
   "outputs": [],
   "source": [
    "sc_X_val = sc.transform(df_val[cols_to_scale])\n",
    "sc_X_test = sc.transform(df_test[cols_to_scale])"
   ]
  },
  {
   "cell_type": "code",
   "execution_count": 102,
   "metadata": {},
   "outputs": [],
   "source": [
    "sc_X_val = pd.DataFrame(data = sc_X_val, columns = cols_to_scale)\n",
    "sc_X_test = pd.DataFrame(data = sc_X_test, columns = cols_to_scale)"
   ]
  },
  {
   "cell_type": "markdown",
   "metadata": {},
   "source": [
    "# Feature selection - RFE"
   ]
  },
  {
   "cell_type": "code",
   "execution_count": 103,
   "metadata": {},
   "outputs": [
    {
     "data": {
      "text/plain": [
       "['CreditScore',\n",
       " 'Age',\n",
       " 'Tenure',\n",
       " 'Balance',\n",
       " 'NumOfProducts',\n",
       " 'EstimatedSalary',\n",
       " 'Surname_enc',\n",
       " 'bal_per_product',\n",
       " 'bal_by_est_salary',\n",
       " 'tenure_age_ratio',\n",
       " 'age_surname_mean_churn']"
      ]
     },
     "execution_count": 103,
     "metadata": {},
     "output_type": "execute_result"
    },
    {
     "data": {
      "text/plain": [
       "['Gender',\n",
       " 'HasCrCard',\n",
       " 'IsActiveMember',\n",
       " 'country_France',\n",
       " 'country_Germany',\n",
       " 'country_Spain']"
      ]
     },
     "execution_count": 103,
     "metadata": {},
     "output_type": "execute_result"
    }
   ],
   "source": [
    "cont_vars\n",
    "cat_vars"
   ]
  },
  {
   "cell_type": "code",
   "execution_count": 104,
   "metadata": {},
   "outputs": [],
   "source": [
    "y = df_train['Exited'].values\n",
    "X = pd.concat([df_train[cat_vars], sc_X_train[cont_vars]], ignore_index=True, axis = 1)\n",
    "X.columns = cat_vars + cont_vars"
   ]
  },
  {
   "cell_type": "code",
   "execution_count": 105,
   "metadata": {},
   "outputs": [],
   "source": [
    "from sklearn.feature_selection import RFE\n",
    "from sklearn.linear_model import LogisticRegression\n",
    "from sklearn.tree import DecisionTreeClassifier"
   ]
  },
  {
   "cell_type": "code",
   "execution_count": 106,
   "metadata": {},
   "outputs": [],
   "source": [
    "est = LogisticRegression()"
   ]
  },
  {
   "cell_type": "code",
   "execution_count": 107,
   "metadata": {},
   "outputs": [
    {
     "name": "stdout",
     "output_type": "stream",
     "text": [
      "[ True False  True False  True False False  True False False False False\n",
      " False False False  True False]\n",
      "[ 1  8  1  3  1  4  7  1  2  5 11 10  6 12  9  1 13]\n"
     ]
    }
   ],
   "source": [
    "rfe = RFE(est, n_features_to_select=5)\n",
    "rfe = rfe.fit(X.values, y)\n",
    "print(rfe.support_)\n",
    "print(rfe.ranking_)"
   ]
  },
  {
   "cell_type": "code",
   "execution_count": 108,
   "metadata": {},
   "outputs": [
    {
     "data": {
      "text/plain": [
       "['Gender', 'IsActiveMember', 'country_Germany', 'Age', 'tenure_age_ratio']"
      ]
     },
     "execution_count": 108,
     "metadata": {},
     "output_type": "execute_result"
    }
   ],
   "source": [
    "mask = rfe.support_.tolist()\n",
    "selected_feats = [b for a,b in zip(mask, X.columns) if a]\n",
    "selected_feats"
   ]
  },
  {
   "cell_type": "code",
   "execution_count": 109,
   "metadata": {},
   "outputs": [
    {
     "data": {
      "text/plain": [
       "['Gender', 'IsActiveMember', 'country_Germany', 'Age', 'tenure_age_ratio']"
      ]
     },
     "execution_count": 109,
     "metadata": {},
     "output_type": "execute_result"
    }
   ],
   "source": [
    "mask = rfe.support_.tolist()\n",
    "selected_feats_dt = [b for a,b in zip(mask, X.columns) if a]\n",
    "selected_feats_dt"
   ]
  },
  {
   "cell_type": "markdown",
   "metadata": {},
   "source": [
    "# Neural Networks"
   ]
  },
  {
   "cell_type": "code",
   "execution_count": 110,
   "metadata": {},
   "outputs": [
    {
     "name": "stdout",
     "output_type": "stream",
     "text": [
      "Requirement already satisfied: numpy in /Users/meghanavs/opt/anaconda3/lib/python3.9/site-packages (1.22.4)\n",
      "Collecting numpy\n",
      "  Using cached numpy-1.24.3-cp39-cp39-macosx_10_9_x86_64.whl (19.8 MB)\n",
      "Installing collected packages: numpy\n",
      "  Attempting uninstall: numpy\n",
      "    Found existing installation: numpy 1.22.4\n",
      "    Uninstalling numpy-1.22.4:\n",
      "      Successfully uninstalled numpy-1.22.4\n",
      "\u001b[31mERROR: pip's dependency resolver does not currently take into account all the packages that are installed. This behaviour is the source of the following dependency conflicts.\n",
      "daal4py 2021.5.0 requires daal==2021.4.0, which is not installed.\n",
      "tensorflow 2.12.0 requires numpy<1.24,>=1.22, but you have numpy 1.24.3 which is incompatible.\n",
      "scipy 1.7.3 requires numpy<1.23.0,>=1.16.5, but you have numpy 1.24.3 which is incompatible.\n",
      "numba 0.55.1 requires numpy<1.22,>=1.18, but you have numpy 1.24.3 which is incompatible.\u001b[0m\n",
      "Successfully installed numpy-1.24.3\n",
      "Note: you may need to restart the kernel to use updated packages.\n"
     ]
    }
   ],
   "source": [
    "#pip install --upgrade numpy"
   ]
  },
  {
   "cell_type": "code",
   "execution_count": 111,
   "metadata": {},
   "outputs": [
    {
     "name": "stdout",
     "output_type": "stream",
     "text": [
      "Requirement already satisfied: tensorflow in /Users/meghanavs/opt/anaconda3/lib/python3.9/site-packages (2.12.0)\n",
      "Requirement already satisfied: astunparse>=1.6.0 in /Users/meghanavs/opt/anaconda3/lib/python3.9/site-packages (from tensorflow) (1.6.3)\n",
      "Requirement already satisfied: grpcio<2.0,>=1.24.3 in /Users/meghanavs/opt/anaconda3/lib/python3.9/site-packages (from tensorflow) (1.54.0)\n",
      "Requirement already satisfied: protobuf!=4.21.0,!=4.21.1,!=4.21.2,!=4.21.3,!=4.21.4,!=4.21.5,<5.0.0dev,>=3.20.3 in /Users/meghanavs/opt/anaconda3/lib/python3.9/site-packages (from tensorflow) (4.22.4)\n",
      "Requirement already satisfied: keras<2.13,>=2.12.0 in /Users/meghanavs/opt/anaconda3/lib/python3.9/site-packages (from tensorflow) (2.12.0)\n",
      "Requirement already satisfied: wrapt<1.15,>=1.11.0 in /Users/meghanavs/opt/anaconda3/lib/python3.9/site-packages (from tensorflow) (1.12.1)\n",
      "Requirement already satisfied: h5py>=2.9.0 in /Users/meghanavs/opt/anaconda3/lib/python3.9/site-packages (from tensorflow) (3.6.0)\n",
      "Collecting numpy<1.24,>=1.22\n",
      "  Using cached numpy-1.23.5-cp39-cp39-macosx_10_9_x86_64.whl (18.1 MB)\n",
      "Requirement already satisfied: six>=1.12.0 in /Users/meghanavs/opt/anaconda3/lib/python3.9/site-packages (from tensorflow) (1.16.0)\n",
      "Requirement already satisfied: flatbuffers>=2.0 in /Users/meghanavs/opt/anaconda3/lib/python3.9/site-packages (from tensorflow) (23.3.3)\n",
      "Requirement already satisfied: tensorboard<2.13,>=2.12 in /Users/meghanavs/opt/anaconda3/lib/python3.9/site-packages (from tensorflow) (2.12.3)\n",
      "Requirement already satisfied: gast<=0.4.0,>=0.2.1 in /Users/meghanavs/opt/anaconda3/lib/python3.9/site-packages (from tensorflow) (0.4.0)\n",
      "Requirement already satisfied: libclang>=13.0.0 in /Users/meghanavs/opt/anaconda3/lib/python3.9/site-packages (from tensorflow) (16.0.0)\n",
      "Requirement already satisfied: google-pasta>=0.1.1 in /Users/meghanavs/opt/anaconda3/lib/python3.9/site-packages (from tensorflow) (0.2.0)\n",
      "Requirement already satisfied: jax>=0.3.15 in /Users/meghanavs/opt/anaconda3/lib/python3.9/site-packages (from tensorflow) (0.4.8)\n",
      "Requirement already satisfied: termcolor>=1.1.0 in /Users/meghanavs/opt/anaconda3/lib/python3.9/site-packages (from tensorflow) (2.3.0)\n",
      "Requirement already satisfied: tensorflow-estimator<2.13,>=2.12.0 in /Users/meghanavs/opt/anaconda3/lib/python3.9/site-packages (from tensorflow) (2.12.0)\n",
      "Requirement already satisfied: tensorflow-io-gcs-filesystem>=0.23.1 in /Users/meghanavs/opt/anaconda3/lib/python3.9/site-packages (from tensorflow) (0.32.0)\n",
      "Requirement already satisfied: absl-py>=1.0.0 in /Users/meghanavs/opt/anaconda3/lib/python3.9/site-packages (from tensorflow) (1.4.0)\n",
      "Requirement already satisfied: setuptools in /Users/meghanavs/opt/anaconda3/lib/python3.9/site-packages (from tensorflow) (61.2.0)\n",
      "Requirement already satisfied: packaging in /Users/meghanavs/opt/anaconda3/lib/python3.9/site-packages (from tensorflow) (21.3)\n",
      "Requirement already satisfied: typing-extensions>=3.6.6 in /Users/meghanavs/opt/anaconda3/lib/python3.9/site-packages (from tensorflow) (4.1.1)\n",
      "Requirement already satisfied: opt-einsum>=2.3.2 in /Users/meghanavs/opt/anaconda3/lib/python3.9/site-packages (from tensorflow) (3.3.0)\n",
      "Requirement already satisfied: wheel<1.0,>=0.23.0 in /Users/meghanavs/opt/anaconda3/lib/python3.9/site-packages (from astunparse>=1.6.0->tensorflow) (0.37.1)\n",
      "Requirement already satisfied: scipy>=1.7 in /Users/meghanavs/opt/anaconda3/lib/python3.9/site-packages (from jax>=0.3.15->tensorflow) (1.7.3)\n",
      "Requirement already satisfied: ml-dtypes>=0.0.3 in /Users/meghanavs/opt/anaconda3/lib/python3.9/site-packages (from jax>=0.3.15->tensorflow) (0.1.0)\n",
      "  Using cached numpy-1.22.4-cp39-cp39-macosx_10_15_x86_64.whl (17.7 MB)\n",
      "Requirement already satisfied: tensorboard-data-server<0.8.0,>=0.7.0 in /Users/meghanavs/opt/anaconda3/lib/python3.9/site-packages (from tensorboard<2.13,>=2.12->tensorflow) (0.7.0)\n",
      "Requirement already satisfied: markdown>=2.6.8 in /Users/meghanavs/opt/anaconda3/lib/python3.9/site-packages (from tensorboard<2.13,>=2.12->tensorflow) (3.3.4)\n",
      "Requirement already satisfied: werkzeug>=1.0.1 in /Users/meghanavs/opt/anaconda3/lib/python3.9/site-packages (from tensorboard<2.13,>=2.12->tensorflow) (2.0.3)\n",
      "Requirement already satisfied: google-auth-oauthlib<1.1,>=0.5 in /Users/meghanavs/opt/anaconda3/lib/python3.9/site-packages (from tensorboard<2.13,>=2.12->tensorflow) (1.0.0)\n",
      "Requirement already satisfied: requests<3,>=2.21.0 in /Users/meghanavs/opt/anaconda3/lib/python3.9/site-packages (from tensorboard<2.13,>=2.12->tensorflow) (2.27.1)\n",
      "Requirement already satisfied: google-auth<3,>=1.6.3 in /Users/meghanavs/opt/anaconda3/lib/python3.9/site-packages (from tensorboard<2.13,>=2.12->tensorflow) (2.17.3)\n",
      "Requirement already satisfied: rsa<5,>=3.1.4 in /Users/meghanavs/opt/anaconda3/lib/python3.9/site-packages (from google-auth<3,>=1.6.3->tensorboard<2.13,>=2.12->tensorflow) (4.7.2)\n",
      "Requirement already satisfied: pyasn1-modules>=0.2.1 in /Users/meghanavs/opt/anaconda3/lib/python3.9/site-packages (from google-auth<3,>=1.6.3->tensorboard<2.13,>=2.12->tensorflow) (0.2.8)\n",
      "Requirement already satisfied: cachetools<6.0,>=2.0.0 in /Users/meghanavs/opt/anaconda3/lib/python3.9/site-packages (from google-auth<3,>=1.6.3->tensorboard<2.13,>=2.12->tensorflow) (4.2.2)\n",
      "Requirement already satisfied: requests-oauthlib>=0.7.0 in /Users/meghanavs/opt/anaconda3/lib/python3.9/site-packages (from google-auth-oauthlib<1.1,>=0.5->tensorboard<2.13,>=2.12->tensorflow) (1.3.1)\n",
      "Requirement already satisfied: pyasn1<0.5.0,>=0.4.6 in /Users/meghanavs/opt/anaconda3/lib/python3.9/site-packages (from pyasn1-modules>=0.2.1->google-auth<3,>=1.6.3->tensorboard<2.13,>=2.12->tensorflow) (0.4.8)\n",
      "Requirement already satisfied: charset-normalizer~=2.0.0 in /Users/meghanavs/opt/anaconda3/lib/python3.9/site-packages (from requests<3,>=2.21.0->tensorboard<2.13,>=2.12->tensorflow) (2.0.4)\n",
      "Requirement already satisfied: idna<4,>=2.5 in /Users/meghanavs/opt/anaconda3/lib/python3.9/site-packages (from requests<3,>=2.21.0->tensorboard<2.13,>=2.12->tensorflow) (3.3)\n",
      "Requirement already satisfied: urllib3<1.27,>=1.21.1 in /Users/meghanavs/opt/anaconda3/lib/python3.9/site-packages (from requests<3,>=2.21.0->tensorboard<2.13,>=2.12->tensorflow) (1.26.9)\n",
      "Requirement already satisfied: certifi>=2017.4.17 in /Users/meghanavs/opt/anaconda3/lib/python3.9/site-packages (from requests<3,>=2.21.0->tensorboard<2.13,>=2.12->tensorflow) (2021.10.8)\n",
      "Requirement already satisfied: oauthlib>=3.0.0 in /Users/meghanavs/opt/anaconda3/lib/python3.9/site-packages (from requests-oauthlib>=0.7.0->google-auth-oauthlib<1.1,>=0.5->tensorboard<2.13,>=2.12->tensorflow) (3.2.2)\n",
      "Requirement already satisfied: pyparsing!=3.0.5,>=2.0.2 in /Users/meghanavs/opt/anaconda3/lib/python3.9/site-packages (from packaging->tensorflow) (3.0.4)\n",
      "Installing collected packages: numpy\n",
      "  Attempting uninstall: numpy\n",
      "    Found existing installation: numpy 1.24.3\n",
      "    Uninstalling numpy-1.24.3:\n",
      "      Successfully uninstalled numpy-1.24.3\n",
      "\u001b[31mERROR: pip's dependency resolver does not currently take into account all the packages that are installed. This behaviour is the source of the following dependency conflicts.\n",
      "daal4py 2021.5.0 requires daal==2021.4.0, which is not installed.\n",
      "numba 0.55.1 requires numpy<1.22,>=1.18, but you have numpy 1.22.4 which is incompatible.\u001b[0m\n",
      "Successfully installed numpy-1.22.4\n"
     ]
    }
   ],
   "source": [
    "#!pip install tensorflow"
   ]
  },
  {
   "cell_type": "code",
   "execution_count": 116,
   "metadata": {},
   "outputs": [
    {
     "name": "stdout",
     "output_type": "stream",
     "text": [
      "\u001b[31mERROR: Could not find a version that satisfies the requirement tensorflow==2.4.1 (from versions: 2.5.0, 2.5.1, 2.5.2, 2.5.3, 2.6.0rc0, 2.6.0rc1, 2.6.0rc2, 2.6.0, 2.6.1, 2.6.2, 2.6.3, 2.6.4, 2.6.5, 2.7.0rc0, 2.7.0rc1, 2.7.0, 2.7.1, 2.7.2, 2.7.3, 2.7.4, 2.8.0rc0, 2.8.0rc1, 2.8.0, 2.8.1, 2.8.2, 2.8.3, 2.8.4, 2.9.0rc0, 2.9.0rc1, 2.9.0rc2, 2.9.0, 2.9.1, 2.9.2, 2.9.3, 2.10.0rc0, 2.10.0rc1, 2.10.0rc2, 2.10.0rc3, 2.10.0, 2.10.1, 2.11.0rc0, 2.11.0rc1, 2.11.0rc2, 2.11.0, 2.11.1, 2.12.0rc0, 2.12.0rc1, 2.12.0)\u001b[0m\n",
      "\u001b[31mERROR: No matching distribution found for tensorflow==2.4.1\u001b[0m\n",
      "Note: you may need to restart the kernel to use updated packages.\n"
     ]
    }
   ],
   "source": [
    "#pip install tensorflow==2.4.1 keras==2.4.3 numpy==1.19.3"
   ]
  },
  {
   "cell_type": "code",
   "execution_count": 112,
   "metadata": {},
   "outputs": [
    {
     "name": "stderr",
     "output_type": "stream",
     "text": [
      "2023-05-06 18:26:13.080226: I tensorflow/core/platform/cpu_feature_guard.cc:182] This TensorFlow binary is optimized to use available CPU instructions in performance-critical operations.\n",
      "To enable the following instructions: AVX2 FMA, in other operations, rebuild TensorFlow with the appropriate compiler flags.\n"
     ]
    }
   ],
   "source": [
    "import tensorflow as tf\n",
    "from tensorflow.keras import datasets, layers, models\n",
    "import matplotlib.pyplot as plt"
   ]
  },
  {
   "cell_type": "code",
   "execution_count": 113,
   "metadata": {},
   "outputs": [],
   "source": [
    "import keras.models\n",
    "import numpy"
   ]
  },
  {
   "cell_type": "code",
   "execution_count": 114,
   "metadata": {},
   "outputs": [],
   "source": [
    "from keras.models import Sequential\n",
    "from tensorflow.keras.layers import Dense"
   ]
  },
  {
   "cell_type": "code",
   "execution_count": 115,
   "metadata": {
    "scrolled": false
   },
   "outputs": [],
   "source": [
    "import os\n",
    "from keras.models import Sequential"
   ]
  },
  {
   "cell_type": "code",
   "execution_count": 117,
   "metadata": {},
   "outputs": [],
   "source": [
    "model = Sequential()\n",
    "model.add(Dense(512, activation='relu', input_dim=5))\n",
    "model.add(Dense(512, activation='relu'))\n",
    "model.add(Dense(1, activation='sigmoid'))\n",
    "model.compile(optimizer='adam', loss='binary_crossentropy', metrics=['accuracy'])"
   ]
  },
  {
   "cell_type": "code",
   "execution_count": 121,
   "metadata": {},
   "outputs": [],
   "source": [
    "selected_cat_vars = [x for x in selected_feats if x in cat_vars]\n",
    "selected_cont_vars = [x for x in selected_feats if x in cont_vars]"
   ]
  },
  {
   "cell_type": "code",
   "execution_count": 122,
   "metadata": {},
   "outputs": [
    {
     "data": {
      "text/plain": [
       "((7920, 5), (1000, 5))"
      ]
     },
     "execution_count": 122,
     "metadata": {},
     "output_type": "execute_result"
    }
   ],
   "source": [
    "X_train = np.concatenate((df_train[selected_cat_vars].values, sc_X_train[selected_cont_vars].values), axis = 1)\n",
    "X_test = np.concatenate((df_test[selected_cat_vars].values, sc_X_test[selected_cont_vars].values), axis = 1)\n",
    "\n",
    "X_train.shape, X_test.shape"
   ]
  },
  {
   "cell_type": "code",
   "execution_count": 123,
   "metadata": {},
   "outputs": [
    {
     "name": "stdout",
     "output_type": "stream",
     "text": [
      "Epoch 1/50\n",
      "248/248 [==============================] - 10s 25ms/step - loss: 0.4241 - accuracy: 0.8258 - val_loss: 0.4072 - val_accuracy: 0.8300\n",
      "Epoch 2/50\n",
      "248/248 [==============================] - 5s 19ms/step - loss: 0.4041 - accuracy: 0.8350 - val_loss: 0.4019 - val_accuracy: 0.8340\n",
      "Epoch 3/50\n",
      "248/248 [==============================] - 5s 20ms/step - loss: 0.4026 - accuracy: 0.8367 - val_loss: 0.4041 - val_accuracy: 0.8410\n",
      "Epoch 4/50\n",
      "248/248 [==============================] - 5s 19ms/step - loss: 0.3989 - accuracy: 0.8381 - val_loss: 0.4093 - val_accuracy: 0.8410\n",
      "Epoch 5/50\n",
      "248/248 [==============================] - 5s 19ms/step - loss: 0.3976 - accuracy: 0.8383 - val_loss: 0.4056 - val_accuracy: 0.8350\n",
      "Epoch 6/50\n",
      "248/248 [==============================] - 5s 21ms/step - loss: 0.3946 - accuracy: 0.8388 - val_loss: 0.4078 - val_accuracy: 0.8360\n",
      "Epoch 7/50\n",
      "248/248 [==============================] - 5s 21ms/step - loss: 0.3972 - accuracy: 0.8398 - val_loss: 0.3997 - val_accuracy: 0.8370\n",
      "Epoch 8/50\n",
      "248/248 [==============================] - 5s 22ms/step - loss: 0.3937 - accuracy: 0.8391 - val_loss: 0.4049 - val_accuracy: 0.8400\n",
      "Epoch 9/50\n",
      "248/248 [==============================] - 7s 29ms/step - loss: 0.3940 - accuracy: 0.8389 - val_loss: 0.4042 - val_accuracy: 0.8380\n",
      "Epoch 10/50\n",
      "248/248 [==============================] - 5s 22ms/step - loss: 0.3939 - accuracy: 0.8366 - val_loss: 0.4141 - val_accuracy: 0.8400\n",
      "Epoch 11/50\n",
      "248/248 [==============================] - 6s 24ms/step - loss: 0.3938 - accuracy: 0.8394 - val_loss: 0.4045 - val_accuracy: 0.8340\n",
      "Epoch 12/50\n",
      "248/248 [==============================] - 7s 29ms/step - loss: 0.3927 - accuracy: 0.8381 - val_loss: 0.4033 - val_accuracy: 0.8410\n",
      "Epoch 13/50\n",
      "248/248 [==============================] - 6s 24ms/step - loss: 0.3928 - accuracy: 0.8390 - val_loss: 0.4047 - val_accuracy: 0.8300\n",
      "Epoch 14/50\n",
      "248/248 [==============================] - 5s 22ms/step - loss: 0.3926 - accuracy: 0.8404 - val_loss: 0.4032 - val_accuracy: 0.8350\n",
      "Epoch 15/50\n",
      "248/248 [==============================] - 6s 24ms/step - loss: 0.3943 - accuracy: 0.8383 - val_loss: 0.4031 - val_accuracy: 0.8440\n",
      "Epoch 16/50\n",
      "248/248 [==============================] - 5s 21ms/step - loss: 0.3920 - accuracy: 0.8403 - val_loss: 0.4046 - val_accuracy: 0.8290\n",
      "Epoch 17/50\n",
      "248/248 [==============================] - 7s 29ms/step - loss: 0.3923 - accuracy: 0.8381 - val_loss: 0.4023 - val_accuracy: 0.8440\n",
      "Epoch 18/50\n",
      "248/248 [==============================] - 6s 24ms/step - loss: 0.3918 - accuracy: 0.8386 - val_loss: 0.4074 - val_accuracy: 0.8300\n",
      "Epoch 19/50\n",
      "248/248 [==============================] - 5s 19ms/step - loss: 0.3911 - accuracy: 0.8412 - val_loss: 0.4118 - val_accuracy: 0.8400\n",
      "Epoch 20/50\n",
      "248/248 [==============================] - 5s 21ms/step - loss: 0.3901 - accuracy: 0.8389 - val_loss: 0.4108 - val_accuracy: 0.8390\n",
      "Epoch 21/50\n",
      "248/248 [==============================] - 5s 21ms/step - loss: 0.3918 - accuracy: 0.8410 - val_loss: 0.4046 - val_accuracy: 0.8340\n",
      "Epoch 22/50\n",
      "248/248 [==============================] - 6s 24ms/step - loss: 0.3908 - accuracy: 0.8388 - val_loss: 0.4041 - val_accuracy: 0.8360\n",
      "Epoch 23/50\n",
      "248/248 [==============================] - 6s 24ms/step - loss: 0.3902 - accuracy: 0.8393 - val_loss: 0.4029 - val_accuracy: 0.8320\n",
      "Epoch 24/50\n",
      "248/248 [==============================] - 5s 19ms/step - loss: 0.3914 - accuracy: 0.8403 - val_loss: 0.4073 - val_accuracy: 0.8380\n",
      "Epoch 25/50\n",
      "248/248 [==============================] - 5s 18ms/step - loss: 0.3895 - accuracy: 0.8408 - val_loss: 0.4126 - val_accuracy: 0.8370\n",
      "Epoch 26/50\n",
      "248/248 [==============================] - 4s 17ms/step - loss: 0.3888 - accuracy: 0.8403 - val_loss: 0.4052 - val_accuracy: 0.8320\n",
      "Epoch 27/50\n",
      "248/248 [==============================] - 6s 26ms/step - loss: 0.3905 - accuracy: 0.8394 - val_loss: 0.4029 - val_accuracy: 0.8350\n",
      "Epoch 28/50\n",
      "248/248 [==============================] - 8s 32ms/step - loss: 0.3905 - accuracy: 0.8403 - val_loss: 0.4042 - val_accuracy: 0.8340\n",
      "Epoch 29/50\n",
      "248/248 [==============================] - 6s 25ms/step - loss: 0.3892 - accuracy: 0.8412 - val_loss: 0.4053 - val_accuracy: 0.8320\n",
      "Epoch 30/50\n",
      "248/248 [==============================] - 7s 27ms/step - loss: 0.3904 - accuracy: 0.8405 - val_loss: 0.4049 - val_accuracy: 0.8330\n",
      "Epoch 31/50\n",
      "248/248 [==============================] - 7s 29ms/step - loss: 0.3884 - accuracy: 0.8420 - val_loss: 0.4071 - val_accuracy: 0.8390\n",
      "Epoch 32/50\n",
      "248/248 [==============================] - 5s 21ms/step - loss: 0.3890 - accuracy: 0.8402 - val_loss: 0.4088 - val_accuracy: 0.8340\n",
      "Epoch 33/50\n",
      "248/248 [==============================] - 5s 19ms/step - loss: 0.3873 - accuracy: 0.8419 - val_loss: 0.4022 - val_accuracy: 0.8370\n",
      "Epoch 34/50\n",
      "248/248 [==============================] - 5s 19ms/step - loss: 0.3875 - accuracy: 0.8427 - val_loss: 0.4092 - val_accuracy: 0.8340\n",
      "Epoch 35/50\n",
      "248/248 [==============================] - 6s 22ms/step - loss: 0.3869 - accuracy: 0.8405 - val_loss: 0.4062 - val_accuracy: 0.8370\n",
      "Epoch 36/50\n",
      "248/248 [==============================] - 5s 18ms/step - loss: 0.3877 - accuracy: 0.8413 - val_loss: 0.4087 - val_accuracy: 0.8400\n",
      "Epoch 37/50\n",
      "248/248 [==============================] - 6s 23ms/step - loss: 0.3877 - accuracy: 0.8415 - val_loss: 0.4056 - val_accuracy: 0.8420\n",
      "Epoch 38/50\n",
      "248/248 [==============================] - 5s 19ms/step - loss: 0.3876 - accuracy: 0.8413 - val_loss: 0.4188 - val_accuracy: 0.8330\n",
      "Epoch 39/50\n",
      "248/248 [==============================] - 5s 19ms/step - loss: 0.3876 - accuracy: 0.8409 - val_loss: 0.4096 - val_accuracy: 0.8360\n",
      "Epoch 40/50\n",
      "248/248 [==============================] - 7s 29ms/step - loss: 0.3878 - accuracy: 0.8420 - val_loss: 0.4108 - val_accuracy: 0.8420\n",
      "Epoch 41/50\n",
      "248/248 [==============================] - 5s 20ms/step - loss: 0.3863 - accuracy: 0.8413 - val_loss: 0.4092 - val_accuracy: 0.8390\n",
      "Epoch 42/50\n",
      "248/248 [==============================] - 4s 17ms/step - loss: 0.3871 - accuracy: 0.8404 - val_loss: 0.4105 - val_accuracy: 0.8420\n",
      "Epoch 43/50\n",
      "248/248 [==============================] - 6s 23ms/step - loss: 0.3858 - accuracy: 0.8427 - val_loss: 0.4112 - val_accuracy: 0.8360\n",
      "Epoch 44/50\n",
      "248/248 [==============================] - 6s 23ms/step - loss: 0.3862 - accuracy: 0.8420 - val_loss: 0.4088 - val_accuracy: 0.8380\n",
      "Epoch 45/50\n",
      "248/248 [==============================] - 6s 22ms/step - loss: 0.3855 - accuracy: 0.8407 - val_loss: 0.4073 - val_accuracy: 0.8450\n",
      "Epoch 46/50\n",
      "248/248 [==============================] - 9s 34ms/step - loss: 0.3861 - accuracy: 0.8426 - val_loss: 0.4083 - val_accuracy: 0.8390\n",
      "Epoch 47/50\n",
      "248/248 [==============================] - 5s 19ms/step - loss: 0.3863 - accuracy: 0.8413 - val_loss: 0.4112 - val_accuracy: 0.8380\n",
      "Epoch 48/50\n",
      "248/248 [==============================] - 9s 34ms/step - loss: 0.3860 - accuracy: 0.8432 - val_loss: 0.4062 - val_accuracy: 0.8400\n",
      "Epoch 49/50\n",
      "248/248 [==============================] - 5s 22ms/step - loss: 0.3852 - accuracy: 0.8427 - val_loss: 0.4083 - val_accuracy: 0.8360\n",
      "Epoch 50/50\n",
      "248/248 [==============================] - 7s 28ms/step - loss: 0.3847 - accuracy: 0.8419 - val_loss: 0.4058 - val_accuracy: 0.8390\n"
     ]
    }
   ],
   "source": [
    "hist = model.fit(X_train, y_train, validation_data=(X_test, y_test), epochs=50, batch_size=32)"
   ]
  },
  {
   "cell_type": "code",
   "execution_count": 124,
   "metadata": {},
   "outputs": [
    {
     "data": {
      "text/plain": [
       "[<matplotlib.lines.Line2D at 0x7f890c4139a0>]"
      ]
     },
     "execution_count": 124,
     "metadata": {},
     "output_type": "execute_result"
    },
    {
     "data": {
      "text/plain": [
       "[<matplotlib.lines.Line2D at 0x7f890c413af0>]"
      ]
     },
     "execution_count": 124,
     "metadata": {},
     "output_type": "execute_result"
    },
    {
     "data": {
      "text/plain": [
       "Text(0.5, 1.0, 'Training and Validation Accuracy')"
      ]
     },
     "execution_count": 124,
     "metadata": {},
     "output_type": "execute_result"
    },
    {
     "data": {
      "text/plain": [
       "Text(0.5, 0, 'Epoch')"
      ]
     },
     "execution_count": 124,
     "metadata": {},
     "output_type": "execute_result"
    },
    {
     "data": {
      "text/plain": [
       "Text(0, 0.5, 'Accuracy')"
      ]
     },
     "execution_count": 124,
     "metadata": {},
     "output_type": "execute_result"
    },
    {
     "data": {
      "text/plain": [
       "<matplotlib.legend.Legend at 0x7f890c3f9640>"
      ]
     },
     "execution_count": 124,
     "metadata": {},
     "output_type": "execute_result"
    },
    {
     "data": {
      "text/plain": [
       "[]"
      ]
     },
     "execution_count": 124,
     "metadata": {},
     "output_type": "execute_result"
    },
    {
     "data": {
      "image/png": "[encoded data removed]",
      "text/plain": [
       "<Figure size 432x288 with 1 Axes>"
      ]
     },
     "metadata": {},
     "output_type": "display_data"
    }
   ],
   "source": [
    "acc = hist.history['accuracy']\n",
    "val = hist.history['val_accuracy']\n",
    "epochs = range(1, len(acc) + 1)\n",
    " \n",
    "plt.plot(epochs, acc, '-', label='Training accuracy')\n",
    "plt.plot(epochs, val, ':', label='Validation accuracy')\n",
    "plt.title('Training and Validation Accuracy')\n",
    "plt.xlabel('Epoch')\n",
    "plt.ylabel('Accuracy')\n",
    "plt.legend(loc='lower right')\n",
    "plt.plot()"
   ]
  },
  {
   "cell_type": "markdown",
   "metadata": {},
   "source": [
    "# LSTM"
   ]
  },
  {
   "cell_type": "code",
   "execution_count": 125,
   "metadata": {},
   "outputs": [],
   "source": [
    "from keras.models import Sequential\n",
    "from keras.layers import Dense, Dropout, Flatten, LSTM, TimeDistributed, Embedding"
   ]
  },
  {
   "cell_type": "code",
   "execution_count": 126,
   "metadata": {},
   "outputs": [
    {
     "data": {
      "text/plain": [
       "(7920, 5)"
      ]
     },
     "execution_count": 126,
     "metadata": {},
     "output_type": "execute_result"
    },
    {
     "data": {
      "text/plain": [
       "(1000, 5)"
      ]
     },
     "execution_count": 126,
     "metadata": {},
     "output_type": "execute_result"
    },
    {
     "data": {
      "text/plain": [
       "(7920,)"
      ]
     },
     "execution_count": 126,
     "metadata": {},
     "output_type": "execute_result"
    },
    {
     "data": {
      "text/plain": [
       "(1000,)"
      ]
     },
     "execution_count": 126,
     "metadata": {},
     "output_type": "execute_result"
    }
   ],
   "source": [
    "X_train.shape\n",
    "X_test.shape\n",
    "y_train.shape\n",
    "y_test.shape"
   ]
  },
  {
   "cell_type": "code",
   "execution_count": 127,
   "metadata": {
    "scrolled": true
   },
   "outputs": [
    {
     "name": "stderr",
     "output_type": "stream",
     "text": [
      "2023-05-06 18:34:46.539450: I tensorflow/core/common_runtime/executor.cc:1197] [/device:CPU:0] (DEBUG INFO) Executor start aborting (this does not indicate an error and you can ignore this message): INVALID_ARGUMENT: You must feed a value for placeholder tensor 'gradients/split_2_grad/concat/split_2/split_dim' with dtype int32\n",
      "\t [[{{node gradients/split_2_grad/concat/split_2/split_dim}}]]\n",
      "2023-05-06 18:34:46.562747: I tensorflow/core/common_runtime/executor.cc:1197] [/device:CPU:0] (DEBUG INFO) Executor start aborting (this does not indicate an error and you can ignore this message): INVALID_ARGUMENT: You must feed a value for placeholder tensor 'gradients/split_grad/concat/split/split_dim' with dtype int32\n",
      "\t [[{{node gradients/split_grad/concat/split/split_dim}}]]\n",
      "2023-05-06 18:34:46.574626: I tensorflow/core/common_runtime/executor.cc:1197] [/device:CPU:0] (DEBUG INFO) Executor start aborting (this does not indicate an error and you can ignore this message): INVALID_ARGUMENT: You must feed a value for placeholder tensor 'gradients/split_1_grad/concat/split_1/split_dim' with dtype int32\n",
      "\t [[{{node gradients/split_1_grad/concat/split_1/split_dim}}]]\n",
      "2023-05-06 18:34:47.824832: I tensorflow/core/common_runtime/executor.cc:1197] [/device:CPU:0] (DEBUG INFO) Executor start aborting (this does not indicate an error and you can ignore this message): INVALID_ARGUMENT: You must feed a value for placeholder tensor 'gradients/split_2_grad/concat/split_2/split_dim' with dtype int32\n",
      "\t [[{{node gradients/split_2_grad/concat/split_2/split_dim}}]]\n",
      "2023-05-06 18:34:47.831667: I tensorflow/core/common_runtime/executor.cc:1197] [/device:CPU:0] (DEBUG INFO) Executor start aborting (this does not indicate an error and you can ignore this message): INVALID_ARGUMENT: You must feed a value for placeholder tensor 'gradients/split_grad/concat/split/split_dim' with dtype int32\n",
      "\t [[{{node gradients/split_grad/concat/split/split_dim}}]]\n",
      "2023-05-06 18:34:47.843534: I tensorflow/core/common_runtime/executor.cc:1197] [/device:CPU:0] (DEBUG INFO) Executor start aborting (this does not indicate an error and you can ignore this message): INVALID_ARGUMENT: You must feed a value for placeholder tensor 'gradients/split_1_grad/concat/split_1/split_dim' with dtype int32\n",
      "\t [[{{node gradients/split_1_grad/concat/split_1/split_dim}}]]\n"
     ]
    },
    {
     "name": "stdout",
     "output_type": "stream",
     "text": [
      "Epoch 1/50\n"
     ]
    },
    {
     "name": "stderr",
     "output_type": "stream",
     "text": [
      "2023-05-06 18:34:49.157824: I tensorflow/core/common_runtime/executor.cc:1197] [/device:CPU:0] (DEBUG INFO) Executor start aborting (this does not indicate an error and you can ignore this message): INVALID_ARGUMENT: You must feed a value for placeholder tensor 'gradients/split_2_grad/concat/split_2/split_dim' with dtype int32\n",
      "\t [[{{node gradients/split_2_grad/concat/split_2/split_dim}}]]\n",
      "2023-05-06 18:34:49.163104: I tensorflow/core/common_runtime/executor.cc:1197] [/device:CPU:0] (DEBUG INFO) Executor start aborting (this does not indicate an error and you can ignore this message): INVALID_ARGUMENT: You must feed a value for placeholder tensor 'gradients/split_grad/concat/split/split_dim' with dtype int32\n",
      "\t [[{{node gradients/split_grad/concat/split/split_dim}}]]\n",
      "2023-05-06 18:34:49.167069: I tensorflow/core/common_runtime/executor.cc:1197] [/device:CPU:0] (DEBUG INFO) Executor start aborting (this does not indicate an error and you can ignore this message): INVALID_ARGUMENT: You must feed a value for placeholder tensor 'gradients/split_1_grad/concat/split_1/split_dim' with dtype int32\n",
      "\t [[{{node gradients/split_1_grad/concat/split_1/split_dim}}]]\n",
      "2023-05-06 18:34:51.505271: I tensorflow/core/common_runtime/executor.cc:1197] [/device:CPU:0] (DEBUG INFO) Executor start aborting (this does not indicate an error and you can ignore this message): INVALID_ARGUMENT: You must feed a value for placeholder tensor 'gradients/split_2_grad/concat/split_2/split_dim' with dtype int32\n",
      "\t [[{{node gradients/split_2_grad/concat/split_2/split_dim}}]]\n",
      "2023-05-06 18:34:51.539862: I tensorflow/core/common_runtime/executor.cc:1197] [/device:CPU:0] (DEBUG INFO) Executor start aborting (this does not indicate an error and you can ignore this message): INVALID_ARGUMENT: You must feed a value for placeholder tensor 'gradients/split_grad/concat/split/split_dim' with dtype int32\n",
      "\t [[{{node gradients/split_grad/concat/split/split_dim}}]]\n",
      "2023-05-06 18:34:51.564016: I tensorflow/core/common_runtime/executor.cc:1197] [/device:CPU:0] (DEBUG INFO) Executor start aborting (this does not indicate an error and you can ignore this message): INVALID_ARGUMENT: You must feed a value for placeholder tensor 'gradients/split_1_grad/concat/split_1/split_dim' with dtype int32\n",
      "\t [[{{node gradients/split_1_grad/concat/split_1/split_dim}}]]\n",
      "2023-05-06 18:34:58.336395: I tensorflow/core/common_runtime/executor.cc:1197] [/device:CPU:0] (DEBUG INFO) Executor start aborting (this does not indicate an error and you can ignore this message): INVALID_ARGUMENT: You must feed a value for placeholder tensor 'gradients/split_2_grad/concat/split_2/split_dim' with dtype int32\n",
      "\t [[{{node gradients/split_2_grad/concat/split_2/split_dim}}]]\n",
      "2023-05-06 18:34:58.341542: I tensorflow/core/common_runtime/executor.cc:1197] [/device:CPU:0] (DEBUG INFO) Executor start aborting (this does not indicate an error and you can ignore this message): INVALID_ARGUMENT: You must feed a value for placeholder tensor 'gradients/split_grad/concat/split/split_dim' with dtype int32\n",
      "\t [[{{node gradients/split_grad/concat/split/split_dim}}]]\n",
      "2023-05-06 18:34:58.346439: I tensorflow/core/common_runtime/executor.cc:1197] [/device:CPU:0] (DEBUG INFO) Executor start aborting (this does not indicate an error and you can ignore this message): INVALID_ARGUMENT: You must feed a value for placeholder tensor 'gradients/split_1_grad/concat/split_1/split_dim' with dtype int32\n",
      "\t [[{{node gradients/split_1_grad/concat/split_1/split_dim}}]]\n",
      "2023-05-06 18:34:59.273149: I tensorflow/core/common_runtime/executor.cc:1197] [/device:CPU:0] (DEBUG INFO) Executor start aborting (this does not indicate an error and you can ignore this message): INVALID_ARGUMENT: You must feed a value for placeholder tensor 'gradients/split_2_grad/concat/split_2/split_dim' with dtype int32\n",
      "\t [[{{node gradients/split_2_grad/concat/split_2/split_dim}}]]\n",
      "2023-05-06 18:34:59.278795: I tensorflow/core/common_runtime/executor.cc:1197] [/device:CPU:0] (DEBUG INFO) Executor start aborting (this does not indicate an error and you can ignore this message): INVALID_ARGUMENT: You must feed a value for placeholder tensor 'gradients/split_grad/concat/split/split_dim' with dtype int32\n",
      "\t [[{{node gradients/split_grad/concat/split/split_dim}}]]\n",
      "2023-05-06 18:34:59.304705: I tensorflow/core/common_runtime/executor.cc:1197] [/device:CPU:0] (DEBUG INFO) Executor start aborting (this does not indicate an error and you can ignore this message): INVALID_ARGUMENT: You must feed a value for placeholder tensor 'gradients/split_1_grad/concat/split_1/split_dim' with dtype int32\n",
      "\t [[{{node gradients/split_1_grad/concat/split_1/split_dim}}]]\n"
     ]
    },
    {
     "name": "stdout",
     "output_type": "stream",
     "text": [
      "247/248 [============================>.] - ETA: 0s - loss: 0.5042 - accuracy: 0.7949"
     ]
    },
    {
     "name": "stderr",
     "output_type": "stream",
     "text": [
      "2023-05-06 18:35:19.067620: I tensorflow/core/common_runtime/executor.cc:1197] [/device:CPU:0] (DEBUG INFO) Executor start aborting (this does not indicate an error and you can ignore this message): INVALID_ARGUMENT: You must feed a value for placeholder tensor 'gradients/split_2_grad/concat/split_2/split_dim' with dtype int32\n",
      "\t [[{{node gradients/split_2_grad/concat/split_2/split_dim}}]]\n",
      "2023-05-06 18:35:19.072126: I tensorflow/core/common_runtime/executor.cc:1197] [/device:CPU:0] (DEBUG INFO) Executor start aborting (this does not indicate an error and you can ignore this message): INVALID_ARGUMENT: You must feed a value for placeholder tensor 'gradients/split_grad/concat/split/split_dim' with dtype int32\n",
      "\t [[{{node gradients/split_grad/concat/split/split_dim}}]]\n",
      "2023-05-06 18:35:19.079959: I tensorflow/core/common_runtime/executor.cc:1197] [/device:CPU:0] (DEBUG INFO) Executor start aborting (this does not indicate an error and you can ignore this message): INVALID_ARGUMENT: You must feed a value for placeholder tensor 'gradients/split_1_grad/concat/split_1/split_dim' with dtype int32\n",
      "\t [[{{node gradients/split_1_grad/concat/split_1/split_dim}}]]\n",
      "2023-05-06 18:35:21.319074: I tensorflow/core/common_runtime/executor.cc:1197] [/device:CPU:0] (DEBUG INFO) Executor start aborting (this does not indicate an error and you can ignore this message): INVALID_ARGUMENT: You must feed a value for placeholder tensor 'gradients/split_2_grad/concat/split_2/split_dim' with dtype int32\n",
      "\t [[{{node gradients/split_2_grad/concat/split_2/split_dim}}]]\n",
      "2023-05-06 18:35:21.327633: I tensorflow/core/common_runtime/executor.cc:1197] [/device:CPU:0] (DEBUG INFO) Executor start aborting (this does not indicate an error and you can ignore this message): INVALID_ARGUMENT: You must feed a value for placeholder tensor 'gradients/split_grad/concat/split/split_dim' with dtype int32\n",
      "\t [[{{node gradients/split_grad/concat/split/split_dim}}]]\n",
      "2023-05-06 18:35:21.331073: I tensorflow/core/common_runtime/executor.cc:1197] [/device:CPU:0] (DEBUG INFO) Executor start aborting (this does not indicate an error and you can ignore this message): INVALID_ARGUMENT: You must feed a value for placeholder tensor 'gradients/split_1_grad/concat/split_1/split_dim' with dtype int32\n",
      "\t [[{{node gradients/split_1_grad/concat/split_1/split_dim}}]]\n"
     ]
    },
    {
     "name": "stdout",
     "output_type": "stream",
     "text": [
      "248/248 [==============================] - 37s 66ms/step - loss: 0.5044 - accuracy: 0.7948 - val_loss: 0.4473 - val_accuracy: 0.8090\n",
      "Epoch 2/50\n",
      "248/248 [==============================] - 10s 39ms/step - loss: 0.4565 - accuracy: 0.7977 - val_loss: 0.4434 - val_accuracy: 0.8160\n",
      "Epoch 3/50\n",
      "248/248 [==============================] - 10s 40ms/step - loss: 0.4431 - accuracy: 0.8000 - val_loss: 0.4274 - val_accuracy: 0.8170\n",
      "Epoch 4/50\n",
      "248/248 [==============================] - 8s 32ms/step - loss: 0.4330 - accuracy: 0.8034 - val_loss: 0.4221 - val_accuracy: 0.8080\n",
      "Epoch 5/50\n",
      "248/248 [==============================] - 10s 39ms/step - loss: 0.4263 - accuracy: 0.8129 - val_loss: 0.4137 - val_accuracy: 0.8240\n",
      "Epoch 6/50\n",
      "248/248 [==============================] - 9s 35ms/step - loss: 0.4149 - accuracy: 0.8250 - val_loss: 0.4083 - val_accuracy: 0.8270\n",
      "Epoch 7/50\n",
      "248/248 [==============================] - 12s 47ms/step - loss: 0.4049 - accuracy: 0.8342 - val_loss: 0.4020 - val_accuracy: 0.8250\n",
      "Epoch 8/50\n",
      "248/248 [==============================] - 11s 44ms/step - loss: 0.3997 - accuracy: 0.8366 - val_loss: 0.4072 - val_accuracy: 0.8290\n",
      "Epoch 9/50\n",
      "248/248 [==============================] - 11s 45ms/step - loss: 0.3974 - accuracy: 0.8378 - val_loss: 0.3999 - val_accuracy: 0.8290\n",
      "Epoch 10/50\n",
      "248/248 [==============================] - 12s 47ms/step - loss: 0.3967 - accuracy: 0.8389 - val_loss: 0.3981 - val_accuracy: 0.8340\n",
      "Epoch 11/50\n",
      "248/248 [==============================] - 8s 31ms/step - loss: 0.3960 - accuracy: 0.8380 - val_loss: 0.4070 - val_accuracy: 0.8350\n",
      "Epoch 12/50\n",
      "248/248 [==============================] - 8s 33ms/step - loss: 0.3955 - accuracy: 0.8376 - val_loss: 0.3997 - val_accuracy: 0.8300\n",
      "Epoch 13/50\n",
      "248/248 [==============================] - 5s 21ms/step - loss: 0.3961 - accuracy: 0.8384 - val_loss: 0.4014 - val_accuracy: 0.8340\n",
      "Epoch 14/50\n",
      "248/248 [==============================] - 8s 31ms/step - loss: 0.3944 - accuracy: 0.8399 - val_loss: 0.4056 - val_accuracy: 0.8380\n",
      "Epoch 15/50\n",
      "248/248 [==============================] - 11s 44ms/step - loss: 0.3943 - accuracy: 0.8378 - val_loss: 0.4046 - val_accuracy: 0.8360\n",
      "Epoch 16/50\n",
      "248/248 [==============================] - 9s 36ms/step - loss: 0.3942 - accuracy: 0.8403 - val_loss: 0.4020 - val_accuracy: 0.8330\n",
      "Epoch 17/50\n",
      "248/248 [==============================] - 13s 54ms/step - loss: 0.3940 - accuracy: 0.8400 - val_loss: 0.3990 - val_accuracy: 0.8300\n",
      "Epoch 18/50\n",
      "248/248 [==============================] - 11s 46ms/step - loss: 0.3940 - accuracy: 0.8370 - val_loss: 0.4006 - val_accuracy: 0.8310\n",
      "Epoch 19/50\n",
      "248/248 [==============================] - 4s 16ms/step - loss: 0.3945 - accuracy: 0.8369 - val_loss: 0.4008 - val_accuracy: 0.8340\n",
      "Epoch 20/50\n",
      "248/248 [==============================] - 3s 13ms/step - loss: 0.3936 - accuracy: 0.8380 - val_loss: 0.4013 - val_accuracy: 0.8350\n",
      "Epoch 21/50\n",
      "248/248 [==============================] - 3s 13ms/step - loss: 0.3933 - accuracy: 0.8380 - val_loss: 0.4055 - val_accuracy: 0.8340\n",
      "Epoch 22/50\n",
      "248/248 [==============================] - 3s 11ms/step - loss: 0.3929 - accuracy: 0.8399 - val_loss: 0.3995 - val_accuracy: 0.8360\n",
      "Epoch 23/50\n",
      "248/248 [==============================] - 3s 10ms/step - loss: 0.3931 - accuracy: 0.8380 - val_loss: 0.4045 - val_accuracy: 0.8370\n",
      "Epoch 24/50\n",
      "248/248 [==============================] - 3s 10ms/step - loss: 0.3934 - accuracy: 0.8388 - val_loss: 0.4027 - val_accuracy: 0.8350\n",
      "Epoch 25/50\n",
      "248/248 [==============================] - 3s 13ms/step - loss: 0.3929 - accuracy: 0.8367 - val_loss: 0.4059 - val_accuracy: 0.8350\n",
      "Epoch 26/50\n",
      "248/248 [==============================] - 3s 13ms/step - loss: 0.3928 - accuracy: 0.8380 - val_loss: 0.4017 - val_accuracy: 0.8310\n",
      "Epoch 27/50\n",
      "248/248 [==============================] - 4s 15ms/step - loss: 0.3929 - accuracy: 0.8400 - val_loss: 0.4020 - val_accuracy: 0.8380\n",
      "Epoch 28/50\n",
      "248/248 [==============================] - 3s 10ms/step - loss: 0.3920 - accuracy: 0.8393 - val_loss: 0.4008 - val_accuracy: 0.8320\n",
      "Epoch 29/50\n",
      "248/248 [==============================] - 3s 12ms/step - loss: 0.3932 - accuracy: 0.8376 - val_loss: 0.4013 - val_accuracy: 0.8360\n",
      "Epoch 30/50\n",
      "248/248 [==============================] - 3s 11ms/step - loss: 0.3924 - accuracy: 0.8389 - val_loss: 0.4023 - val_accuracy: 0.8350\n",
      "Epoch 31/50\n",
      "248/248 [==============================] - 2s 10ms/step - loss: 0.3920 - accuracy: 0.8388 - val_loss: 0.4017 - val_accuracy: 0.8380\n",
      "Epoch 32/50\n",
      "248/248 [==============================] - 3s 11ms/step - loss: 0.3925 - accuracy: 0.8389 - val_loss: 0.4009 - val_accuracy: 0.8370\n",
      "Epoch 33/50\n",
      "248/248 [==============================] - 3s 12ms/step - loss: 0.3919 - accuracy: 0.8393 - val_loss: 0.4023 - val_accuracy: 0.8380\n",
      "Epoch 34/50\n",
      "248/248 [==============================] - 4s 17ms/step - loss: 0.3925 - accuracy: 0.8395 - val_loss: 0.4014 - val_accuracy: 0.8330\n",
      "Epoch 35/50\n",
      "248/248 [==============================] - 3s 11ms/step - loss: 0.3920 - accuracy: 0.8378 - val_loss: 0.4032 - val_accuracy: 0.8310\n",
      "Epoch 36/50\n",
      "248/248 [==============================] - 3s 11ms/step - loss: 0.3912 - accuracy: 0.8391 - val_loss: 0.4075 - val_accuracy: 0.8320\n",
      "Epoch 37/50\n",
      "248/248 [==============================] - 4s 16ms/step - loss: 0.3923 - accuracy: 0.8385 - val_loss: 0.4033 - val_accuracy: 0.8360\n",
      "Epoch 38/50\n",
      "248/248 [==============================] - 3s 11ms/step - loss: 0.3919 - accuracy: 0.8400 - val_loss: 0.4025 - val_accuracy: 0.8350\n",
      "Epoch 39/50\n",
      "248/248 [==============================] - 2s 10ms/step - loss: 0.3915 - accuracy: 0.8383 - val_loss: 0.4092 - val_accuracy: 0.8320\n",
      "Epoch 40/50\n",
      "248/248 [==============================] - 3s 10ms/step - loss: 0.3917 - accuracy: 0.8389 - val_loss: 0.4034 - val_accuracy: 0.8330\n",
      "Epoch 41/50\n",
      "248/248 [==============================] - 2s 10ms/step - loss: 0.3909 - accuracy: 0.8403 - val_loss: 0.4038 - val_accuracy: 0.8350\n",
      "Epoch 42/50\n",
      "248/248 [==============================] - 3s 11ms/step - loss: 0.3917 - accuracy: 0.8396 - val_loss: 0.4026 - val_accuracy: 0.8420\n",
      "Epoch 43/50\n",
      "248/248 [==============================] - 3s 11ms/step - loss: 0.3911 - accuracy: 0.8403 - val_loss: 0.4034 - val_accuracy: 0.8370\n",
      "Epoch 44/50\n",
      "248/248 [==============================] - 3s 13ms/step - loss: 0.3914 - accuracy: 0.8394 - val_loss: 0.4061 - val_accuracy: 0.8350\n",
      "Epoch 45/50\n",
      "248/248 [==============================] - 3s 11ms/step - loss: 0.3910 - accuracy: 0.8388 - val_loss: 0.4045 - val_accuracy: 0.8370\n",
      "Epoch 46/50\n",
      "248/248 [==============================] - 3s 10ms/step - loss: 0.3917 - accuracy: 0.8393 - val_loss: 0.4041 - val_accuracy: 0.8410\n",
      "Epoch 47/50\n",
      "248/248 [==============================] - 3s 10ms/step - loss: 0.3916 - accuracy: 0.8400 - val_loss: 0.4017 - val_accuracy: 0.8330\n",
      "Epoch 48/50\n",
      "248/248 [==============================] - 3s 10ms/step - loss: 0.3914 - accuracy: 0.8384 - val_loss: 0.4045 - val_accuracy: 0.8320\n",
      "Epoch 49/50\n",
      "248/248 [==============================] - 3s 10ms/step - loss: 0.3917 - accuracy: 0.8384 - val_loss: 0.4041 - val_accuracy: 0.8360\n",
      "Epoch 50/50\n",
      "248/248 [==============================] - 3s 12ms/step - loss: 0.3906 - accuracy: 0.8410 - val_loss: 0.4051 - val_accuracy: 0.8430\n"
     ]
    }
   ],
   "source": [
    "import tensorflow as tf\n",
    "\n",
    "model = tf.keras.models.Sequential([\n",
    "    tf.keras.layers.LSTM(64, return_sequences=True, input_shape=(5, 1)),\n",
    "    tf.keras.layers.LSTM(64),\n",
    "    tf.keras.layers.Dense(1, activation='sigmoid')\n",
    "])\n",
    "\n",
    "X_train_reshaped = X_train.reshape((X_train.shape[0], X_train.shape[1], 1))\n",
    "X_test_reshaped = X_test.reshape((X_test.shape[0], X_test.shape[1], 1))\n",
    "\n",
    "model.compile(loss='binary_crossentropy', optimizer='adam', metrics=['accuracy'])\n",
    "\n",
    "lolol = model.fit(X_train_reshaped, y_train,  validation_data=(X_test_reshaped, y_test), epochs=50, batch_size=32)"
   ]
  },
  {
   "cell_type": "code",
   "execution_count": 128,
   "metadata": {},
   "outputs": [
    {
     "data": {
      "text/plain": [
       "[<matplotlib.lines.Line2D at 0x7f890dfbbee0>]"
      ]
     },
     "execution_count": 128,
     "metadata": {},
     "output_type": "execute_result"
    },
    {
     "data": {
      "text/plain": [
       "[<matplotlib.lines.Line2D at 0x7f890dfc9310>]"
      ]
     },
     "execution_count": 128,
     "metadata": {},
     "output_type": "execute_result"
    },
    {
     "data": {
      "text/plain": [
       "Text(0.5, 1.0, 'Training and Validation Accuracy')"
      ]
     },
     "execution_count": 128,
     "metadata": {},
     "output_type": "execute_result"
    },
    {
     "data": {
      "text/plain": [
       "Text(0.5, 0, 'Epoch')"
      ]
     },
     "execution_count": 128,
     "metadata": {},
     "output_type": "execute_result"
    },
    {
     "data": {
      "text/plain": [
       "Text(0, 0.5, 'Accuracy')"
      ]
     },
     "execution_count": 128,
     "metadata": {},
     "output_type": "execute_result"
    },
    {
     "data": {
      "text/plain": [
       "<matplotlib.legend.Legend at 0x7f890dfbbd30>"
      ]
     },
     "execution_count": 128,
     "metadata": {},
     "output_type": "execute_result"
    },
    {
     "data": {
      "text/plain": [
       "[]"
      ]
     },
     "execution_count": 128,
     "metadata": {},
     "output_type": "execute_result"
    },
    {
     "data": {
      "image/png": "[encoded data removed]",
      "text/plain": [
       "<Figure size 432x288 with 1 Axes>"
      ]
     },
     "metadata": {},
     "output_type": "display_data"
    }
   ],
   "source": [
    "acc = lolol.history['accuracy']\n",
    "val = lolol.history['val_accuracy']\n",
    "epochs = range(1, len(acc) + 1)\n",
    " \n",
    "plt.plot(epochs, acc, '-', label='Training accuracy')\n",
    "plt.plot(epochs, val, ':', label='Validation accuracy')\n",
    "plt.title('Training and Validation Accuracy')\n",
    "plt.xlabel('Epoch')\n",
    "plt.ylabel('Accuracy')\n",
    "plt.legend(loc='lower right')\n",
    "plt.plot()"
   ]
  },
  {
   "cell_type": "code",
   "execution_count": 129,
   "metadata": {
    "scrolled": true
   },
   "outputs": [
    {
     "name": "stderr",
     "output_type": "stream",
     "text": [
      "2023-05-06 18:41:20.897178: I tensorflow/core/common_runtime/executor.cc:1197] [/device:CPU:0] (DEBUG INFO) Executor start aborting (this does not indicate an error and you can ignore this message): INVALID_ARGUMENT: You must feed a value for placeholder tensor 'gradients/split_2_grad/concat/split_2/split_dim' with dtype int32\n",
      "\t [[{{node gradients/split_2_grad/concat/split_2/split_dim}}]]\n",
      "2023-05-06 18:41:20.900866: I tensorflow/core/common_runtime/executor.cc:1197] [/device:CPU:0] (DEBUG INFO) Executor start aborting (this does not indicate an error and you can ignore this message): INVALID_ARGUMENT: You must feed a value for placeholder tensor 'gradients/split_grad/concat/split/split_dim' with dtype int32\n",
      "\t [[{{node gradients/split_grad/concat/split/split_dim}}]]\n",
      "2023-05-06 18:41:20.905713: I tensorflow/core/common_runtime/executor.cc:1197] [/device:CPU:0] (DEBUG INFO) Executor start aborting (this does not indicate an error and you can ignore this message): INVALID_ARGUMENT: You must feed a value for placeholder tensor 'gradients/split_1_grad/concat/split_1/split_dim' with dtype int32\n",
      "\t [[{{node gradients/split_1_grad/concat/split_1/split_dim}}]]\n"
     ]
    },
    {
     "name": "stdout",
     "output_type": "stream",
     "text": [
      "Epoch 1/100\n"
     ]
    },
    {
     "name": "stderr",
     "output_type": "stream",
     "text": [
      "2023-05-06 18:41:21.927617: I tensorflow/core/common_runtime/executor.cc:1197] [/device:CPU:0] (DEBUG INFO) Executor start aborting (this does not indicate an error and you can ignore this message): INVALID_ARGUMENT: You must feed a value for placeholder tensor 'gradients/split_2_grad/concat/split_2/split_dim' with dtype int32\n",
      "\t [[{{node gradients/split_2_grad/concat/split_2/split_dim}}]]\n",
      "2023-05-06 18:41:21.933905: I tensorflow/core/common_runtime/executor.cc:1197] [/device:CPU:0] (DEBUG INFO) Executor start aborting (this does not indicate an error and you can ignore this message): INVALID_ARGUMENT: You must feed a value for placeholder tensor 'gradients/split_grad/concat/split/split_dim' with dtype int32\n",
      "\t [[{{node gradients/split_grad/concat/split/split_dim}}]]\n",
      "2023-05-06 18:41:21.937521: I tensorflow/core/common_runtime/executor.cc:1197] [/device:CPU:0] (DEBUG INFO) Executor start aborting (this does not indicate an error and you can ignore this message): INVALID_ARGUMENT: You must feed a value for placeholder tensor 'gradients/split_1_grad/concat/split_1/split_dim' with dtype int32\n",
      "\t [[{{node gradients/split_1_grad/concat/split_1/split_dim}}]]\n",
      "2023-05-06 18:41:23.499111: I tensorflow/core/common_runtime/executor.cc:1197] [/device:CPU:0] (DEBUG INFO) Executor start aborting (this does not indicate an error and you can ignore this message): INVALID_ARGUMENT: You must feed a value for placeholder tensor 'gradients/split_2_grad/concat/split_2/split_dim' with dtype int32\n",
      "\t [[{{node gradients/split_2_grad/concat/split_2/split_dim}}]]\n",
      "2023-05-06 18:41:23.506945: I tensorflow/core/common_runtime/executor.cc:1197] [/device:CPU:0] (DEBUG INFO) Executor start aborting (this does not indicate an error and you can ignore this message): INVALID_ARGUMENT: You must feed a value for placeholder tensor 'gradients/split_grad/concat/split/split_dim' with dtype int32\n",
      "\t [[{{node gradients/split_grad/concat/split/split_dim}}]]\n",
      "2023-05-06 18:41:23.510601: I tensorflow/core/common_runtime/executor.cc:1197] [/device:CPU:0] (DEBUG INFO) Executor start aborting (this does not indicate an error and you can ignore this message): INVALID_ARGUMENT: You must feed a value for placeholder tensor 'gradients/split_1_grad/concat/split_1/split_dim' with dtype int32\n",
      "\t [[{{node gradients/split_1_grad/concat/split_1/split_dim}}]]\n",
      "2023-05-06 18:41:24.418839: I tensorflow/core/common_runtime/executor.cc:1197] [/device:CPU:0] (DEBUG INFO) Executor start aborting (this does not indicate an error and you can ignore this message): INVALID_ARGUMENT: You must feed a value for placeholder tensor 'gradients/split_2_grad/concat/split_2/split_dim' with dtype int32\n",
      "\t [[{{node gradients/split_2_grad/concat/split_2/split_dim}}]]\n",
      "2023-05-06 18:41:24.424169: I tensorflow/core/common_runtime/executor.cc:1197] [/device:CPU:0] (DEBUG INFO) Executor start aborting (this does not indicate an error and you can ignore this message): INVALID_ARGUMENT: You must feed a value for placeholder tensor 'gradients/split_grad/concat/split/split_dim' with dtype int32\n",
      "\t [[{{node gradients/split_grad/concat/split/split_dim}}]]\n",
      "2023-05-06 18:41:24.437597: I tensorflow/core/common_runtime/executor.cc:1197] [/device:CPU:0] (DEBUG INFO) Executor start aborting (this does not indicate an error and you can ignore this message): INVALID_ARGUMENT: You must feed a value for placeholder tensor 'gradients/split_1_grad/concat/split_1/split_dim' with dtype int32\n",
      "\t [[{{node gradients/split_1_grad/concat/split_1/split_dim}}]]\n",
      "2023-05-06 18:41:29.397124: I tensorflow/core/common_runtime/executor.cc:1197] [/device:CPU:0] (DEBUG INFO) Executor start aborting (this does not indicate an error and you can ignore this message): INVALID_ARGUMENT: You must feed a value for placeholder tensor 'gradients/split_2_grad/concat/split_2/split_dim' with dtype int32\n",
      "\t [[{{node gradients/split_2_grad/concat/split_2/split_dim}}]]\n",
      "2023-05-06 18:41:29.406681: I tensorflow/core/common_runtime/executor.cc:1197] [/device:CPU:0] (DEBUG INFO) Executor start aborting (this does not indicate an error and you can ignore this message): INVALID_ARGUMENT: You must feed a value for placeholder tensor 'gradients/split_grad/concat/split/split_dim' with dtype int32\n",
      "\t [[{{node gradients/split_grad/concat/split/split_dim}}]]\n",
      "2023-05-06 18:41:29.412634: I tensorflow/core/common_runtime/executor.cc:1197] [/device:CPU:0] (DEBUG INFO) Executor start aborting (this does not indicate an error and you can ignore this message): INVALID_ARGUMENT: You must feed a value for placeholder tensor 'gradients/split_1_grad/concat/split_1/split_dim' with dtype int32\n",
      "\t [[{{node gradients/split_1_grad/concat/split_1/split_dim}}]]\n",
      "2023-05-06 18:41:32.369325: I tensorflow/core/common_runtime/executor.cc:1197] [/device:CPU:0] (DEBUG INFO) Executor start aborting (this does not indicate an error and you can ignore this message): INVALID_ARGUMENT: You must feed a value for placeholder tensor 'gradients/split_2_grad/concat/split_2/split_dim' with dtype int32\n",
      "\t [[{{node gradients/split_2_grad/concat/split_2/split_dim}}]]\n",
      "2023-05-06 18:41:32.376083: I tensorflow/core/common_runtime/executor.cc:1197] [/device:CPU:0] (DEBUG INFO) Executor start aborting (this does not indicate an error and you can ignore this message): INVALID_ARGUMENT: You must feed a value for placeholder tensor 'gradients/split_grad/concat/split/split_dim' with dtype int32\n",
      "\t [[{{node gradients/split_grad/concat/split/split_dim}}]]\n",
      "2023-05-06 18:41:32.385120: I tensorflow/core/common_runtime/executor.cc:1197] [/device:CPU:0] (DEBUG INFO) Executor start aborting (this does not indicate an error and you can ignore this message): INVALID_ARGUMENT: You must feed a value for placeholder tensor 'gradients/split_1_grad/concat/split_1/split_dim' with dtype int32\n",
      "\t [[{{node gradients/split_1_grad/concat/split_1/split_dim}}]]\n"
     ]
    },
    {
     "name": "stdout",
     "output_type": "stream",
     "text": [
      "247/248 [============================>.] - ETA: 0s - loss: 0.4972 - accuracy: 0.7971"
     ]
    },
    {
     "name": "stderr",
     "output_type": "stream",
     "text": [
      "2023-05-06 18:41:42.642122: I tensorflow/core/common_runtime/executor.cc:1197] [/device:CPU:0] (DEBUG INFO) Executor start aborting (this does not indicate an error and you can ignore this message): INVALID_ARGUMENT: You must feed a value for placeholder tensor 'gradients/split_2_grad/concat/split_2/split_dim' with dtype int32\n",
      "\t [[{{node gradients/split_2_grad/concat/split_2/split_dim}}]]\n",
      "2023-05-06 18:41:42.655967: I tensorflow/core/common_runtime/executor.cc:1197] [/device:CPU:0] (DEBUG INFO) Executor start aborting (this does not indicate an error and you can ignore this message): INVALID_ARGUMENT: You must feed a value for placeholder tensor 'gradients/split_grad/concat/split/split_dim' with dtype int32\n",
      "\t [[{{node gradients/split_grad/concat/split/split_dim}}]]\n",
      "2023-05-06 18:41:42.660399: I tensorflow/core/common_runtime/executor.cc:1197] [/device:CPU:0] (DEBUG INFO) Executor start aborting (this does not indicate an error and you can ignore this message): INVALID_ARGUMENT: You must feed a value for placeholder tensor 'gradients/split_1_grad/concat/split_1/split_dim' with dtype int32\n",
      "\t [[{{node gradients/split_1_grad/concat/split_1/split_dim}}]]\n",
      "2023-05-06 18:41:43.479816: I tensorflow/core/common_runtime/executor.cc:1197] [/device:CPU:0] (DEBUG INFO) Executor start aborting (this does not indicate an error and you can ignore this message): INVALID_ARGUMENT: You must feed a value for placeholder tensor 'gradients/split_2_grad/concat/split_2/split_dim' with dtype int32\n",
      "\t [[{{node gradients/split_2_grad/concat/split_2/split_dim}}]]\n",
      "2023-05-06 18:41:43.488175: I tensorflow/core/common_runtime/executor.cc:1197] [/device:CPU:0] (DEBUG INFO) Executor start aborting (this does not indicate an error and you can ignore this message): INVALID_ARGUMENT: You must feed a value for placeholder tensor 'gradients/split_grad/concat/split/split_dim' with dtype int32\n",
      "\t [[{{node gradients/split_grad/concat/split/split_dim}}]]\n",
      "2023-05-06 18:41:43.491471: I tensorflow/core/common_runtime/executor.cc:1197] [/device:CPU:0] (DEBUG INFO) Executor start aborting (this does not indicate an error and you can ignore this message): INVALID_ARGUMENT: You must feed a value for placeholder tensor 'gradients/split_1_grad/concat/split_1/split_dim' with dtype int32\n",
      "\t [[{{node gradients/split_1_grad/concat/split_1/split_dim}}]]\n"
     ]
    },
    {
     "name": "stdout",
     "output_type": "stream",
     "text": [
      "248/248 [==============================] - 23s 34ms/step - loss: 0.4975 - accuracy: 0.7966 - val_loss: 0.4530 - val_accuracy: 0.8090\n",
      "Epoch 2/100\n",
      "248/248 [==============================] - 5s 19ms/step - loss: 0.4570 - accuracy: 0.7956 - val_loss: 0.4404 - val_accuracy: 0.8080\n",
      "Epoch 3/100\n",
      "248/248 [==============================] - 4s 15ms/step - loss: 0.4431 - accuracy: 0.8004 - val_loss: 0.4403 - val_accuracy: 0.8090\n",
      "Epoch 4/100\n",
      "248/248 [==============================] - 3s 14ms/step - loss: 0.4348 - accuracy: 0.7972 - val_loss: 0.4217 - val_accuracy: 0.8150\n",
      "Epoch 5/100\n",
      "248/248 [==============================] - 4s 15ms/step - loss: 0.4293 - accuracy: 0.8043 - val_loss: 0.4159 - val_accuracy: 0.8210\n",
      "Epoch 6/100\n",
      "248/248 [==============================] - 4s 15ms/step - loss: 0.4247 - accuracy: 0.8162 - val_loss: 0.4110 - val_accuracy: 0.8080\n",
      "Epoch 7/100\n",
      "248/248 [==============================] - 5s 22ms/step - loss: 0.4167 - accuracy: 0.8253 - val_loss: 0.4047 - val_accuracy: 0.8310\n",
      "Epoch 8/100\n",
      "248/248 [==============================] - 6s 23ms/step - loss: 0.4066 - accuracy: 0.8361 - val_loss: 0.4006 - val_accuracy: 0.8390\n",
      "Epoch 9/100\n",
      "248/248 [==============================] - 6s 23ms/step - loss: 0.4005 - accuracy: 0.8356 - val_loss: 0.4008 - val_accuracy: 0.8400\n",
      "Epoch 10/100\n",
      "248/248 [==============================] - 7s 27ms/step - loss: 0.3972 - accuracy: 0.8357 - val_loss: 0.4055 - val_accuracy: 0.8320\n",
      "Epoch 11/100\n",
      "248/248 [==============================] - 5s 21ms/step - loss: 0.3950 - accuracy: 0.8357 - val_loss: 0.4017 - val_accuracy: 0.8380\n",
      "Epoch 12/100\n",
      "248/248 [==============================] - 7s 28ms/step - loss: 0.3974 - accuracy: 0.8361 - val_loss: 0.4054 - val_accuracy: 0.8280\n",
      "Epoch 13/100\n",
      "248/248 [==============================] - 5s 20ms/step - loss: 0.3950 - accuracy: 0.8372 - val_loss: 0.4053 - val_accuracy: 0.8330\n",
      "Epoch 14/100\n",
      "248/248 [==============================] - 4s 14ms/step - loss: 0.3949 - accuracy: 0.8361 - val_loss: 0.4119 - val_accuracy: 0.8280\n",
      "Epoch 15/100\n",
      "248/248 [==============================] - 4s 16ms/step - loss: 0.3942 - accuracy: 0.8381 - val_loss: 0.4008 - val_accuracy: 0.8400\n",
      "Epoch 16/100\n",
      "248/248 [==============================] - 5s 19ms/step - loss: 0.3943 - accuracy: 0.8374 - val_loss: 0.4054 - val_accuracy: 0.8330\n",
      "Epoch 17/100\n",
      "248/248 [==============================] - 5s 19ms/step - loss: 0.3946 - accuracy: 0.8389 - val_loss: 0.4070 - val_accuracy: 0.8340\n",
      "Epoch 18/100\n",
      "248/248 [==============================] - 5s 19ms/step - loss: 0.3950 - accuracy: 0.8367 - val_loss: 0.4119 - val_accuracy: 0.8310\n",
      "Epoch 19/100\n",
      "248/248 [==============================] - 5s 18ms/step - loss: 0.3939 - accuracy: 0.8378 - val_loss: 0.4020 - val_accuracy: 0.8310\n",
      "Epoch 20/100\n",
      "248/248 [==============================] - 4s 14ms/step - loss: 0.3942 - accuracy: 0.8383 - val_loss: 0.4028 - val_accuracy: 0.8340\n",
      "Epoch 21/100\n",
      "248/248 [==============================] - 4s 14ms/step - loss: 0.3929 - accuracy: 0.8393 - val_loss: 0.4062 - val_accuracy: 0.8370\n",
      "Epoch 22/100\n",
      "248/248 [==============================] - 3s 14ms/step - loss: 0.3945 - accuracy: 0.8367 - val_loss: 0.4018 - val_accuracy: 0.8420\n",
      "Epoch 23/100\n",
      "248/248 [==============================] - 4s 18ms/step - loss: 0.3927 - accuracy: 0.8388 - val_loss: 0.4041 - val_accuracy: 0.8310\n",
      "Epoch 24/100\n",
      "248/248 [==============================] - 5s 19ms/step - loss: 0.3934 - accuracy: 0.8378 - val_loss: 0.4028 - val_accuracy: 0.8340\n",
      "Epoch 25/100\n",
      "248/248 [==============================] - 4s 15ms/step - loss: 0.3919 - accuracy: 0.8388 - val_loss: 0.4045 - val_accuracy: 0.8320\n",
      "Epoch 26/100\n",
      "248/248 [==============================] - 5s 19ms/step - loss: 0.3923 - accuracy: 0.8388 - val_loss: 0.4017 - val_accuracy: 0.8320\n",
      "Epoch 27/100\n",
      "248/248 [==============================] - 5s 19ms/step - loss: 0.3927 - accuracy: 0.8362 - val_loss: 0.4031 - val_accuracy: 0.8380\n",
      "Epoch 28/100\n",
      "248/248 [==============================] - 5s 19ms/step - loss: 0.3926 - accuracy: 0.8385 - val_loss: 0.4041 - val_accuracy: 0.8400\n",
      "Epoch 29/100\n",
      "248/248 [==============================] - 6s 26ms/step - loss: 0.3928 - accuracy: 0.8372 - val_loss: 0.4080 - val_accuracy: 0.8340\n",
      "Epoch 30/100\n",
      "248/248 [==============================] - 7s 30ms/step - loss: 0.3921 - accuracy: 0.8386 - val_loss: 0.4040 - val_accuracy: 0.8340\n",
      "Epoch 31/100\n",
      "248/248 [==============================] - 7s 27ms/step - loss: 0.3925 - accuracy: 0.8381 - val_loss: 0.4019 - val_accuracy: 0.8300\n",
      "Epoch 32/100\n",
      "248/248 [==============================] - 7s 29ms/step - loss: 0.3927 - accuracy: 0.8408 - val_loss: 0.4041 - val_accuracy: 0.8330\n",
      "Epoch 33/100\n",
      "248/248 [==============================] - 7s 27ms/step - loss: 0.3914 - accuracy: 0.8357 - val_loss: 0.4031 - val_accuracy: 0.8340\n",
      "Epoch 34/100\n",
      "248/248 [==============================] - 6s 24ms/step - loss: 0.3927 - accuracy: 0.8393 - val_loss: 0.4053 - val_accuracy: 0.8360\n",
      "Epoch 35/100\n",
      "248/248 [==============================] - 6s 23ms/step - loss: 0.3917 - accuracy: 0.8376 - val_loss: 0.4036 - val_accuracy: 0.8370\n",
      "Epoch 36/100\n",
      "248/248 [==============================] - 6s 26ms/step - loss: 0.3915 - accuracy: 0.8386 - val_loss: 0.4053 - val_accuracy: 0.8340\n",
      "Epoch 37/100\n",
      "248/248 [==============================] - 6s 24ms/step - loss: 0.3921 - accuracy: 0.8384 - val_loss: 0.4047 - val_accuracy: 0.8320\n",
      "Epoch 38/100\n",
      "248/248 [==============================] - 6s 24ms/step - loss: 0.3915 - accuracy: 0.8402 - val_loss: 0.4053 - val_accuracy: 0.8280\n",
      "Epoch 39/100\n",
      "248/248 [==============================] - 7s 29ms/step - loss: 0.3908 - accuracy: 0.8404 - val_loss: 0.4046 - val_accuracy: 0.8400\n",
      "Epoch 40/100\n",
      "248/248 [==============================] - 5s 21ms/step - loss: 0.3914 - accuracy: 0.8393 - val_loss: 0.4032 - val_accuracy: 0.8400\n",
      "Epoch 41/100\n",
      "248/248 [==============================] - 5s 19ms/step - loss: 0.3910 - accuracy: 0.8404 - val_loss: 0.4057 - val_accuracy: 0.8370\n",
      "Epoch 42/100\n",
      "248/248 [==============================] - 5s 21ms/step - loss: 0.3909 - accuracy: 0.8381 - val_loss: 0.4037 - val_accuracy: 0.8380\n",
      "Epoch 43/100\n",
      "248/248 [==============================] - 4s 17ms/step - loss: 0.3900 - accuracy: 0.8390 - val_loss: 0.4078 - val_accuracy: 0.8330\n",
      "Epoch 44/100\n",
      "248/248 [==============================] - 5s 21ms/step - loss: 0.3910 - accuracy: 0.8404 - val_loss: 0.4059 - val_accuracy: 0.8370\n",
      "Epoch 45/100\n",
      "248/248 [==============================] - 5s 19ms/step - loss: 0.3902 - accuracy: 0.8402 - val_loss: 0.4072 - val_accuracy: 0.8440\n",
      "Epoch 46/100\n",
      "248/248 [==============================] - 5s 18ms/step - loss: 0.3909 - accuracy: 0.8398 - val_loss: 0.4050 - val_accuracy: 0.8370\n",
      "Epoch 47/100\n",
      "248/248 [==============================] - 4s 17ms/step - loss: 0.3908 - accuracy: 0.8399 - val_loss: 0.4068 - val_accuracy: 0.8420\n",
      "Epoch 48/100\n",
      "248/248 [==============================] - 4s 17ms/step - loss: 0.3904 - accuracy: 0.8403 - val_loss: 0.4040 - val_accuracy: 0.8430\n",
      "Epoch 49/100\n",
      "248/248 [==============================] - 5s 19ms/step - loss: 0.3903 - accuracy: 0.8402 - val_loss: 0.4053 - val_accuracy: 0.8340\n",
      "Epoch 50/100\n",
      "248/248 [==============================] - 4s 16ms/step - loss: 0.3905 - accuracy: 0.8395 - val_loss: 0.4073 - val_accuracy: 0.8390\n",
      "Epoch 51/100\n",
      "248/248 [==============================] - 4s 14ms/step - loss: 0.3904 - accuracy: 0.8388 - val_loss: 0.4044 - val_accuracy: 0.8410\n",
      "Epoch 52/100\n",
      "248/248 [==============================] - 4s 15ms/step - loss: 0.3894 - accuracy: 0.8399 - val_loss: 0.4056 - val_accuracy: 0.8450\n",
      "Epoch 53/100\n",
      "248/248 [==============================] - 5s 19ms/step - loss: 0.3903 - accuracy: 0.8391 - val_loss: 0.4087 - val_accuracy: 0.8360\n",
      "Epoch 54/100\n",
      "248/248 [==============================] - 5s 20ms/step - loss: 0.3900 - accuracy: 0.8408 - val_loss: 0.4064 - val_accuracy: 0.8380\n",
      "Epoch 55/100\n",
      "248/248 [==============================] - 4s 16ms/step - loss: 0.3896 - accuracy: 0.8393 - val_loss: 0.4060 - val_accuracy: 0.8390\n",
      "Epoch 56/100\n",
      "248/248 [==============================] - 4s 14ms/step - loss: 0.3899 - accuracy: 0.8395 - val_loss: 0.4076 - val_accuracy: 0.8410\n",
      "Epoch 57/100\n"
     ]
    },
    {
     "name": "stdout",
     "output_type": "stream",
     "text": [
      "248/248 [==============================] - 4s 16ms/step - loss: 0.3897 - accuracy: 0.8419 - val_loss: 0.4080 - val_accuracy: 0.8320\n",
      "Epoch 58/100\n",
      "248/248 [==============================] - 5s 21ms/step - loss: 0.3896 - accuracy: 0.8393 - val_loss: 0.4050 - val_accuracy: 0.8330\n",
      "Epoch 59/100\n",
      "248/248 [==============================] - 5s 18ms/step - loss: 0.3893 - accuracy: 0.8405 - val_loss: 0.4072 - val_accuracy: 0.8340\n",
      "Epoch 60/100\n",
      "248/248 [==============================] - 4s 17ms/step - loss: 0.3889 - accuracy: 0.8403 - val_loss: 0.4059 - val_accuracy: 0.8370\n",
      "Epoch 61/100\n",
      "248/248 [==============================] - 5s 20ms/step - loss: 0.3898 - accuracy: 0.8410 - val_loss: 0.4055 - val_accuracy: 0.8410\n",
      "Epoch 62/100\n",
      "248/248 [==============================] - 4s 17ms/step - loss: 0.3895 - accuracy: 0.8394 - val_loss: 0.4053 - val_accuracy: 0.8390\n",
      "Epoch 63/100\n",
      "248/248 [==============================] - 4s 15ms/step - loss: 0.3889 - accuracy: 0.8398 - val_loss: 0.4088 - val_accuracy: 0.8500\n",
      "Epoch 64/100\n",
      "248/248 [==============================] - 5s 21ms/step - loss: 0.3889 - accuracy: 0.8405 - val_loss: 0.4097 - val_accuracy: 0.8360\n",
      "Epoch 65/100\n",
      "248/248 [==============================] - 8s 31ms/step - loss: 0.3894 - accuracy: 0.8386 - val_loss: 0.4077 - val_accuracy: 0.8390\n",
      "Epoch 66/100\n",
      "248/248 [==============================] - 6s 26ms/step - loss: 0.3895 - accuracy: 0.8396 - val_loss: 0.4063 - val_accuracy: 0.8370\n",
      "Epoch 67/100\n",
      "248/248 [==============================] - 5s 19ms/step - loss: 0.3886 - accuracy: 0.8393 - val_loss: 0.4064 - val_accuracy: 0.8350\n",
      "Epoch 68/100\n",
      "248/248 [==============================] - 5s 18ms/step - loss: 0.3885 - accuracy: 0.8405 - val_loss: 0.4067 - val_accuracy: 0.8400\n",
      "Epoch 69/100\n",
      "248/248 [==============================] - 5s 20ms/step - loss: 0.3887 - accuracy: 0.8399 - val_loss: 0.4059 - val_accuracy: 0.8410\n",
      "Epoch 70/100\n",
      "248/248 [==============================] - 5s 21ms/step - loss: 0.3884 - accuracy: 0.8398 - val_loss: 0.4084 - val_accuracy: 0.8400\n",
      "Epoch 71/100\n",
      "248/248 [==============================] - 4s 17ms/step - loss: 0.3889 - accuracy: 0.8398 - val_loss: 0.4085 - val_accuracy: 0.8440\n",
      "Epoch 72/100\n",
      "248/248 [==============================] - 4s 15ms/step - loss: 0.3887 - accuracy: 0.8394 - val_loss: 0.4074 - val_accuracy: 0.8410\n",
      "Epoch 73/100\n",
      "248/248 [==============================] - 4s 15ms/step - loss: 0.3883 - accuracy: 0.8413 - val_loss: 0.4062 - val_accuracy: 0.8400\n",
      "Epoch 74/100\n",
      "248/248 [==============================] - 4s 17ms/step - loss: 0.3879 - accuracy: 0.8398 - val_loss: 0.4095 - val_accuracy: 0.8450\n",
      "Epoch 75/100\n",
      "248/248 [==============================] - 5s 20ms/step - loss: 0.3883 - accuracy: 0.8404 - val_loss: 0.4077 - val_accuracy: 0.8410\n",
      "Epoch 76/100\n",
      "248/248 [==============================] - 4s 17ms/step - loss: 0.3879 - accuracy: 0.8402 - val_loss: 0.4093 - val_accuracy: 0.8380\n",
      "Epoch 77/100\n",
      "248/248 [==============================] - 4s 18ms/step - loss: 0.3883 - accuracy: 0.8418 - val_loss: 0.4083 - val_accuracy: 0.8440\n",
      "Epoch 78/100\n",
      "248/248 [==============================] - 5s 19ms/step - loss: 0.3876 - accuracy: 0.8410 - val_loss: 0.4066 - val_accuracy: 0.8390\n",
      "Epoch 79/100\n",
      "248/248 [==============================] - 4s 15ms/step - loss: 0.3879 - accuracy: 0.8409 - val_loss: 0.4073 - val_accuracy: 0.8410\n",
      "Epoch 80/100\n",
      "248/248 [==============================] - 4s 16ms/step - loss: 0.3883 - accuracy: 0.8393 - val_loss: 0.4100 - val_accuracy: 0.8410\n",
      "Epoch 81/100\n",
      "248/248 [==============================] - 4s 15ms/step - loss: 0.3875 - accuracy: 0.8410 - val_loss: 0.4091 - val_accuracy: 0.8420\n",
      "Epoch 82/100\n",
      "248/248 [==============================] - 4s 16ms/step - loss: 0.3879 - accuracy: 0.8405 - val_loss: 0.4115 - val_accuracy: 0.8400\n",
      "Epoch 83/100\n",
      "248/248 [==============================] - 5s 19ms/step - loss: 0.3877 - accuracy: 0.8408 - val_loss: 0.4073 - val_accuracy: 0.8400\n",
      "Epoch 84/100\n",
      "248/248 [==============================] - 4s 15ms/step - loss: 0.3876 - accuracy: 0.8413 - val_loss: 0.4091 - val_accuracy: 0.8350\n",
      "Epoch 85/100\n",
      "248/248 [==============================] - 4s 18ms/step - loss: 0.3878 - accuracy: 0.8396 - val_loss: 0.4082 - val_accuracy: 0.8390\n",
      "Epoch 86/100\n",
      "248/248 [==============================] - 5s 19ms/step - loss: 0.3873 - accuracy: 0.8407 - val_loss: 0.4109 - val_accuracy: 0.8390\n",
      "Epoch 87/100\n",
      "248/248 [==============================] - 4s 16ms/step - loss: 0.3873 - accuracy: 0.8404 - val_loss: 0.4075 - val_accuracy: 0.8390\n",
      "Epoch 88/100\n",
      "248/248 [==============================] - 4s 17ms/step - loss: 0.3877 - accuracy: 0.8400 - val_loss: 0.4119 - val_accuracy: 0.8410\n",
      "Epoch 89/100\n",
      "248/248 [==============================] - 4s 15ms/step - loss: 0.3870 - accuracy: 0.8405 - val_loss: 0.4094 - val_accuracy: 0.8350\n",
      "Epoch 90/100\n",
      "248/248 [==============================] - 6s 24ms/step - loss: 0.3867 - accuracy: 0.8409 - val_loss: 0.4068 - val_accuracy: 0.8330\n",
      "Epoch 91/100\n",
      "248/248 [==============================] - 7s 29ms/step - loss: 0.3871 - accuracy: 0.8398 - val_loss: 0.4095 - val_accuracy: 0.8450\n",
      "Epoch 92/100\n",
      "248/248 [==============================] - 7s 27ms/step - loss: 0.3865 - accuracy: 0.8410 - val_loss: 0.4118 - val_accuracy: 0.8490\n",
      "Epoch 93/100\n",
      "248/248 [==============================] - 7s 27ms/step - loss: 0.3868 - accuracy: 0.8413 - val_loss: 0.4080 - val_accuracy: 0.8430\n",
      "Epoch 94/100\n",
      "248/248 [==============================] - 6s 24ms/step - loss: 0.3863 - accuracy: 0.8407 - val_loss: 0.4095 - val_accuracy: 0.8450\n",
      "Epoch 95/100\n",
      "248/248 [==============================] - 6s 23ms/step - loss: 0.3861 - accuracy: 0.8394 - val_loss: 0.4112 - val_accuracy: 0.8350\n",
      "Epoch 96/100\n",
      "248/248 [==============================] - 6s 22ms/step - loss: 0.3871 - accuracy: 0.8420 - val_loss: 0.4090 - val_accuracy: 0.8450\n",
      "Epoch 97/100\n",
      "248/248 [==============================] - 7s 27ms/step - loss: 0.3862 - accuracy: 0.8415 - val_loss: 0.4079 - val_accuracy: 0.8420\n",
      "Epoch 98/100\n",
      "248/248 [==============================] - 6s 23ms/step - loss: 0.3865 - accuracy: 0.8408 - val_loss: 0.4091 - val_accuracy: 0.8480\n",
      "Epoch 99/100\n",
      "248/248 [==============================] - 6s 24ms/step - loss: 0.3857 - accuracy: 0.8407 - val_loss: 0.4086 - val_accuracy: 0.8380\n",
      "Epoch 100/100\n",
      "248/248 [==============================] - 7s 27ms/step - loss: 0.3863 - accuracy: 0.8402 - val_loss: 0.4091 - val_accuracy: 0.8360\n"
     ]
    }
   ],
   "source": [
    "import tensorflow as tf\n",
    "\n",
    "model = tf.keras.models.Sequential([\n",
    "    tf.keras.layers.LSTM(64, return_sequences=True, input_shape=(5, 1)),\n",
    "    tf.keras.layers.LSTM(64),\n",
    "    tf.keras.layers.Dense(1, activation='sigmoid')\n",
    "])\n",
    "\n",
    "X_train_reshaped = X_train.reshape((X_train.shape[0], X_train.shape[1], 1))\n",
    "X_test_reshaped = X_test.reshape((X_test.shape[0], X_test.shape[1], 1))\n",
    "\n",
    "model.compile(loss='binary_crossentropy', optimizer='adam', metrics=['accuracy'])\n",
    "\n",
    "lolol = model.fit(X_train_reshaped, y_train,  validation_data=(X_test_reshaped, y_test), epochs=100, batch_size=32)"
   ]
  },
  {
   "cell_type": "code",
   "execution_count": 130,
   "metadata": {},
   "outputs": [
    {
     "data": {
      "text/plain": [
       "[<matplotlib.lines.Line2D at 0x7f8910d53b80>]"
      ]
     },
     "execution_count": 130,
     "metadata": {},
     "output_type": "execute_result"
    },
    {
     "data": {
      "text/plain": [
       "[<matplotlib.lines.Line2D at 0x7f8910d63070>]"
      ]
     },
     "execution_count": 130,
     "metadata": {},
     "output_type": "execute_result"
    },
    {
     "data": {
      "text/plain": [
       "Text(0.5, 1.0, 'Training and Validation Accuracy')"
      ]
     },
     "execution_count": 130,
     "metadata": {},
     "output_type": "execute_result"
    },
    {
     "data": {
      "text/plain": [
       "Text(0.5, 0, 'Epoch')"
      ]
     },
     "execution_count": 130,
     "metadata": {},
     "output_type": "execute_result"
    },
    {
     "data": {
      "text/plain": [
       "Text(0, 0.5, 'Accuracy')"
      ]
     },
     "execution_count": 130,
     "metadata": {},
     "output_type": "execute_result"
    },
    {
     "data": {
      "text/plain": [
       "<matplotlib.legend.Legend at 0x7f8910d53dc0>"
      ]
     },
     "execution_count": 130,
     "metadata": {},
     "output_type": "execute_result"
    },
    {
     "data": {
      "text/plain": [
       "[]"
      ]
     },
     "execution_count": 130,
     "metadata": {},
     "output_type": "execute_result"
    },
    {
     "data": {
      "image/png": "[encoded data removed]",
      "text/plain": [
       "<Figure size 432x288 with 1 Axes>"
      ]
     },
     "metadata": {},
     "output_type": "display_data"
    }
   ],
   "source": [
    "acc = lolol.history['accuracy']\n",
    "val = lolol.history['val_accuracy']\n",
    "epochs = range(1, len(acc) + 1)\n",
    " \n",
    "plt.plot(epochs, acc, '-', label='Training accuracy')\n",
    "plt.plot(epochs, val, ':', label='Validation accuracy')\n",
    "plt.title('Training and Validation Accuracy')\n",
    "plt.xlabel('Epoch')\n",
    "plt.ylabel('Accuracy')\n",
    "plt.legend(loc='lower right')\n",
    "plt.plot()"
   ]
  },
  {
   "cell_type": "code",
   "execution_count": 131,
   "metadata": {
    "scrolled": true
   },
   "outputs": [
    {
     "name": "stderr",
     "output_type": "stream",
     "text": [
      "2023-05-06 18:55:13.276721: I tensorflow/core/common_runtime/executor.cc:1197] [/device:CPU:0] (DEBUG INFO) Executor start aborting (this does not indicate an error and you can ignore this message): INVALID_ARGUMENT: You must feed a value for placeholder tensor 'gradients/split_2_grad/concat/split_2/split_dim' with dtype int32\n",
      "\t [[{{node gradients/split_2_grad/concat/split_2/split_dim}}]]\n",
      "2023-05-06 18:55:13.280836: I tensorflow/core/common_runtime/executor.cc:1197] [/device:CPU:0] (DEBUG INFO) Executor start aborting (this does not indicate an error and you can ignore this message): INVALID_ARGUMENT: You must feed a value for placeholder tensor 'gradients/split_grad/concat/split/split_dim' with dtype int32\n",
      "\t [[{{node gradients/split_grad/concat/split/split_dim}}]]\n",
      "2023-05-06 18:55:13.283535: I tensorflow/core/common_runtime/executor.cc:1197] [/device:CPU:0] (DEBUG INFO) Executor start aborting (this does not indicate an error and you can ignore this message): INVALID_ARGUMENT: You must feed a value for placeholder tensor 'gradients/split_1_grad/concat/split_1/split_dim' with dtype int32\n",
      "\t [[{{node gradients/split_1_grad/concat/split_1/split_dim}}]]\n",
      "2023-05-06 18:55:14.333615: I tensorflow/core/common_runtime/executor.cc:1197] [/device:CPU:0] (DEBUG INFO) Executor start aborting (this does not indicate an error and you can ignore this message): INVALID_ARGUMENT: You must feed a value for placeholder tensor 'gradients/split_2_grad/concat/split_2/split_dim' with dtype int32\n",
      "\t [[{{node gradients/split_2_grad/concat/split_2/split_dim}}]]\n",
      "2023-05-06 18:55:14.346534: I tensorflow/core/common_runtime/executor.cc:1197] [/device:CPU:0] (DEBUG INFO) Executor start aborting (this does not indicate an error and you can ignore this message): INVALID_ARGUMENT: You must feed a value for placeholder tensor 'gradients/split_grad/concat/split/split_dim' with dtype int32\n",
      "\t [[{{node gradients/split_grad/concat/split/split_dim}}]]\n",
      "2023-05-06 18:55:14.351454: I tensorflow/core/common_runtime/executor.cc:1197] [/device:CPU:0] (DEBUG INFO) Executor start aborting (this does not indicate an error and you can ignore this message): INVALID_ARGUMENT: You must feed a value for placeholder tensor 'gradients/split_1_grad/concat/split_1/split_dim' with dtype int32\n",
      "\t [[{{node gradients/split_1_grad/concat/split_1/split_dim}}]]\n"
     ]
    },
    {
     "name": "stdout",
     "output_type": "stream",
     "text": [
      "Epoch 1/100\n"
     ]
    },
    {
     "name": "stderr",
     "output_type": "stream",
     "text": [
      "2023-05-06 18:55:15.353965: I tensorflow/core/common_runtime/executor.cc:1197] [/device:CPU:0] (DEBUG INFO) Executor start aborting (this does not indicate an error and you can ignore this message): INVALID_ARGUMENT: You must feed a value for placeholder tensor 'gradients/split_2_grad/concat/split_2/split_dim' with dtype int32\n",
      "\t [[{{node gradients/split_2_grad/concat/split_2/split_dim}}]]\n",
      "2023-05-06 18:55:15.359560: I tensorflow/core/common_runtime/executor.cc:1197] [/device:CPU:0] (DEBUG INFO) Executor start aborting (this does not indicate an error and you can ignore this message): INVALID_ARGUMENT: You must feed a value for placeholder tensor 'gradients/split_grad/concat/split/split_dim' with dtype int32\n",
      "\t [[{{node gradients/split_grad/concat/split/split_dim}}]]\n",
      "2023-05-06 18:55:15.364518: I tensorflow/core/common_runtime/executor.cc:1197] [/device:CPU:0] (DEBUG INFO) Executor start aborting (this does not indicate an error and you can ignore this message): INVALID_ARGUMENT: You must feed a value for placeholder tensor 'gradients/split_1_grad/concat/split_1/split_dim' with dtype int32\n",
      "\t [[{{node gradients/split_1_grad/concat/split_1/split_dim}}]]\n",
      "2023-05-06 18:55:16.459990: I tensorflow/core/common_runtime/executor.cc:1197] [/device:CPU:0] (DEBUG INFO) Executor start aborting (this does not indicate an error and you can ignore this message): INVALID_ARGUMENT: You must feed a value for placeholder tensor 'gradients/split_2_grad/concat/split_2/split_dim' with dtype int32\n",
      "\t [[{{node gradients/split_2_grad/concat/split_2/split_dim}}]]\n",
      "2023-05-06 18:55:16.464376: I tensorflow/core/common_runtime/executor.cc:1197] [/device:CPU:0] (DEBUG INFO) Executor start aborting (this does not indicate an error and you can ignore this message): INVALID_ARGUMENT: You must feed a value for placeholder tensor 'gradients/split_grad/concat/split/split_dim' with dtype int32\n",
      "\t [[{{node gradients/split_grad/concat/split/split_dim}}]]\n",
      "2023-05-06 18:55:16.471507: I tensorflow/core/common_runtime/executor.cc:1197] [/device:CPU:0] (DEBUG INFO) Executor start aborting (this does not indicate an error and you can ignore this message): INVALID_ARGUMENT: You must feed a value for placeholder tensor 'gradients/split_1_grad/concat/split_1/split_dim' with dtype int32\n",
      "\t [[{{node gradients/split_1_grad/concat/split_1/split_dim}}]]\n",
      "2023-05-06 18:55:20.249944: I tensorflow/core/common_runtime/executor.cc:1197] [/device:CPU:0] (DEBUG INFO) Executor start aborting (this does not indicate an error and you can ignore this message): INVALID_ARGUMENT: You must feed a value for placeholder tensor 'gradients/split_2_grad/concat/split_2/split_dim' with dtype int32\n",
      "\t [[{{node gradients/split_2_grad/concat/split_2/split_dim}}]]\n",
      "2023-05-06 18:55:20.256490: I tensorflow/core/common_runtime/executor.cc:1197] [/device:CPU:0] (DEBUG INFO) Executor start aborting (this does not indicate an error and you can ignore this message): INVALID_ARGUMENT: You must feed a value for placeholder tensor 'gradients/split_grad/concat/split/split_dim' with dtype int32\n",
      "\t [[{{node gradients/split_grad/concat/split/split_dim}}]]\n",
      "2023-05-06 18:55:20.262068: I tensorflow/core/common_runtime/executor.cc:1197] [/device:CPU:0] (DEBUG INFO) Executor start aborting (this does not indicate an error and you can ignore this message): INVALID_ARGUMENT: You must feed a value for placeholder tensor 'gradients/split_1_grad/concat/split_1/split_dim' with dtype int32\n",
      "\t [[{{node gradients/split_1_grad/concat/split_1/split_dim}}]]\n",
      "2023-05-06 18:55:20.993292: I tensorflow/core/common_runtime/executor.cc:1197] [/device:CPU:0] (DEBUG INFO) Executor start aborting (this does not indicate an error and you can ignore this message): INVALID_ARGUMENT: You must feed a value for placeholder tensor 'gradients/split_2_grad/concat/split_2/split_dim' with dtype int32\n",
      "\t [[{{node gradients/split_2_grad/concat/split_2/split_dim}}]]\n",
      "2023-05-06 18:55:20.999137: I tensorflow/core/common_runtime/executor.cc:1197] [/device:CPU:0] (DEBUG INFO) Executor start aborting (this does not indicate an error and you can ignore this message): INVALID_ARGUMENT: You must feed a value for placeholder tensor 'gradients/split_grad/concat/split/split_dim' with dtype int32\n",
      "\t [[{{node gradients/split_grad/concat/split/split_dim}}]]\n",
      "2023-05-06 18:55:21.003394: I tensorflow/core/common_runtime/executor.cc:1197] [/device:CPU:0] (DEBUG INFO) Executor start aborting (this does not indicate an error and you can ignore this message): INVALID_ARGUMENT: You must feed a value for placeholder tensor 'gradients/split_1_grad/concat/split_1/split_dim' with dtype int32\n",
      "\t [[{{node gradients/split_1_grad/concat/split_1/split_dim}}]]\n"
     ]
    },
    {
     "name": "stdout",
     "output_type": "stream",
     "text": [
      "79/80 [============================>.] - ETA: 0s - loss: 0.5195 - accuracy: 0.7963"
     ]
    },
    {
     "name": "stderr",
     "output_type": "stream",
     "text": [
      "2023-05-06 18:55:28.035135: I tensorflow/core/common_runtime/executor.cc:1197] [/device:CPU:0] (DEBUG INFO) Executor start aborting (this does not indicate an error and you can ignore this message): INVALID_ARGUMENT: You must feed a value for placeholder tensor 'gradients/split_2_grad/concat/split_2/split_dim' with dtype int32\n",
      "\t [[{{node gradients/split_2_grad/concat/split_2/split_dim}}]]\n",
      "2023-05-06 18:55:28.040279: I tensorflow/core/common_runtime/executor.cc:1197] [/device:CPU:0] (DEBUG INFO) Executor start aborting (this does not indicate an error and you can ignore this message): INVALID_ARGUMENT: You must feed a value for placeholder tensor 'gradients/split_grad/concat/split/split_dim' with dtype int32\n",
      "\t [[{{node gradients/split_grad/concat/split/split_dim}}]]\n",
      "2023-05-06 18:55:28.043029: I tensorflow/core/common_runtime/executor.cc:1197] [/device:CPU:0] (DEBUG INFO) Executor start aborting (this does not indicate an error and you can ignore this message): INVALID_ARGUMENT: You must feed a value for placeholder tensor 'gradients/split_1_grad/concat/split_1/split_dim' with dtype int32\n",
      "\t [[{{node gradients/split_1_grad/concat/split_1/split_dim}}]]\n",
      "2023-05-06 18:55:28.507439: I tensorflow/core/common_runtime/executor.cc:1197] [/device:CPU:0] (DEBUG INFO) Executor start aborting (this does not indicate an error and you can ignore this message): INVALID_ARGUMENT: You must feed a value for placeholder tensor 'gradients/split_2_grad/concat/split_2/split_dim' with dtype int32\n",
      "\t [[{{node gradients/split_2_grad/concat/split_2/split_dim}}]]\n",
      "2023-05-06 18:55:28.510836: I tensorflow/core/common_runtime/executor.cc:1197] [/device:CPU:0] (DEBUG INFO) Executor start aborting (this does not indicate an error and you can ignore this message): INVALID_ARGUMENT: You must feed a value for placeholder tensor 'gradients/split_grad/concat/split/split_dim' with dtype int32\n",
      "\t [[{{node gradients/split_grad/concat/split/split_dim}}]]\n",
      "2023-05-06 18:55:28.514413: I tensorflow/core/common_runtime/executor.cc:1197] [/device:CPU:0] (DEBUG INFO) Executor start aborting (this does not indicate an error and you can ignore this message): INVALID_ARGUMENT: You must feed a value for placeholder tensor 'gradients/split_1_grad/concat/split_1/split_dim' with dtype int32\n",
      "\t [[{{node gradients/split_1_grad/concat/split_1/split_dim}}]]\n"
     ]
    },
    {
     "name": "stdout",
     "output_type": "stream",
     "text": [
      "80/80 [==============================] - 14s 43ms/step - loss: 0.5198 - accuracy: 0.7961 - val_loss: 0.4864 - val_accuracy: 0.8090\n",
      "Epoch 2/100\n",
      "80/80 [==============================] - 4s 47ms/step - loss: 0.4926 - accuracy: 0.7970 - val_loss: 0.4701 - val_accuracy: 0.8090\n",
      "Epoch 3/100\n",
      "80/80 [==============================] - 3s 36ms/step - loss: 0.4832 - accuracy: 0.7939 - val_loss: 0.4857 - val_accuracy: 0.8040\n",
      "Epoch 4/100\n",
      "80/80 [==============================] - 3s 34ms/step - loss: 0.4722 - accuracy: 0.7971 - val_loss: 0.4478 - val_accuracy: 0.8080\n",
      "Epoch 5/100\n",
      "80/80 [==============================] - 3s 34ms/step - loss: 0.4598 - accuracy: 0.7951 - val_loss: 0.4418 - val_accuracy: 0.8020\n",
      "Epoch 6/100\n",
      "80/80 [==============================] - 3s 38ms/step - loss: 0.4714 - accuracy: 0.7910 - val_loss: 0.4690 - val_accuracy: 0.8070\n",
      "Epoch 7/100\n",
      "80/80 [==============================] - 3s 33ms/step - loss: 0.4611 - accuracy: 0.7944 - val_loss: 0.4460 - val_accuracy: 0.8060\n",
      "Epoch 8/100\n",
      "80/80 [==============================] - 2s 31ms/step - loss: 0.4852 - accuracy: 0.7832 - val_loss: 0.4832 - val_accuracy: 0.8090\n",
      "Epoch 9/100\n",
      "80/80 [==============================] - 2s 27ms/step - loss: 0.4932 - accuracy: 0.7970 - val_loss: 0.4672 - val_accuracy: 0.8090\n",
      "Epoch 10/100\n",
      "80/80 [==============================] - 2s 28ms/step - loss: 0.4717 - accuracy: 0.7970 - val_loss: 0.4480 - val_accuracy: 0.8090\n",
      "Epoch 11/100\n",
      "80/80 [==============================] - 3s 33ms/step - loss: 0.4546 - accuracy: 0.7967 - val_loss: 0.4307 - val_accuracy: 0.8080\n",
      "Epoch 12/100\n",
      "80/80 [==============================] - 3s 41ms/step - loss: 0.4491 - accuracy: 0.7994 - val_loss: 0.4288 - val_accuracy: 0.8100\n",
      "Epoch 13/100\n",
      "80/80 [==============================] - 3s 43ms/step - loss: 0.4505 - accuracy: 0.8001 - val_loss: 0.4377 - val_accuracy: 0.8120\n",
      "Epoch 14/100\n",
      "80/80 [==============================] - 4s 47ms/step - loss: 0.4648 - accuracy: 0.7996 - val_loss: 0.4345 - val_accuracy: 0.8130\n",
      "Epoch 15/100\n",
      "80/80 [==============================] - 4s 45ms/step - loss: 0.4410 - accuracy: 0.8028 - val_loss: 0.4347 - val_accuracy: 0.8150\n",
      "Epoch 16/100\n",
      "80/80 [==============================] - 3s 40ms/step - loss: 0.4343 - accuracy: 0.8067 - val_loss: 0.4241 - val_accuracy: 0.8180\n",
      "Epoch 17/100\n",
      "80/80 [==============================] - 3s 38ms/step - loss: 0.4322 - accuracy: 0.8131 - val_loss: 0.4218 - val_accuracy: 0.8190\n",
      "Epoch 18/100\n",
      "80/80 [==============================] - 4s 48ms/step - loss: 0.4262 - accuracy: 0.8153 - val_loss: 0.4161 - val_accuracy: 0.8230\n",
      "Epoch 19/100\n",
      "80/80 [==============================] - 4s 45ms/step - loss: 0.4216 - accuracy: 0.8218 - val_loss: 0.4270 - val_accuracy: 0.8280\n",
      "Epoch 20/100\n",
      "80/80 [==============================] - 3s 36ms/step - loss: 0.4269 - accuracy: 0.8266 - val_loss: 0.4101 - val_accuracy: 0.8280\n",
      "Epoch 21/100\n",
      "80/80 [==============================] - 3s 35ms/step - loss: 0.4164 - accuracy: 0.8313 - val_loss: 0.4345 - val_accuracy: 0.8320\n",
      "Epoch 22/100\n",
      "80/80 [==============================] - 3s 35ms/step - loss: 0.4141 - accuracy: 0.8356 - val_loss: 0.4345 - val_accuracy: 0.8370\n",
      "Epoch 23/100\n",
      "80/80 [==============================] - 3s 37ms/step - loss: 0.4148 - accuracy: 0.8278 - val_loss: 0.4203 - val_accuracy: 0.8190\n",
      "Epoch 24/100\n",
      "80/80 [==============================] - 3s 37ms/step - loss: 0.4157 - accuracy: 0.8346 - val_loss: 0.4195 - val_accuracy: 0.8400\n",
      "Epoch 25/100\n",
      "80/80 [==============================] - 3s 36ms/step - loss: 0.4054 - accuracy: 0.8357 - val_loss: 0.4068 - val_accuracy: 0.8350\n",
      "Epoch 26/100\n",
      "80/80 [==============================] - 3s 37ms/step - loss: 0.4043 - accuracy: 0.8365 - val_loss: 0.4192 - val_accuracy: 0.8370\n",
      "Epoch 27/100\n",
      "80/80 [==============================] - 3s 38ms/step - loss: 0.4100 - accuracy: 0.8346 - val_loss: 0.4042 - val_accuracy: 0.8320\n",
      "Epoch 28/100\n",
      "80/80 [==============================] - 3s 34ms/step - loss: 0.4048 - accuracy: 0.8364 - val_loss: 0.4174 - val_accuracy: 0.8410\n",
      "Epoch 29/100\n",
      "80/80 [==============================] - 3s 35ms/step - loss: 0.4635 - accuracy: 0.8208 - val_loss: 0.4672 - val_accuracy: 0.8090\n",
      "Epoch 30/100\n",
      "80/80 [==============================] - 3s 40ms/step - loss: 0.4530 - accuracy: 0.7986 - val_loss: 0.4304 - val_accuracy: 0.8110\n",
      "Epoch 31/100\n",
      "80/80 [==============================] - 3s 36ms/step - loss: 0.4302 - accuracy: 0.8111 - val_loss: 0.4199 - val_accuracy: 0.8220\n",
      "Epoch 32/100\n",
      "80/80 [==============================] - 3s 34ms/step - loss: 0.4286 - accuracy: 0.8222 - val_loss: 0.4159 - val_accuracy: 0.8210\n",
      "Epoch 33/100\n",
      "80/80 [==============================] - 3s 38ms/step - loss: 0.4158 - accuracy: 0.8284 - val_loss: 0.4240 - val_accuracy: 0.8280\n",
      "Epoch 34/100\n",
      "80/80 [==============================] - 3s 37ms/step - loss: 0.4172 - accuracy: 0.8304 - val_loss: 0.4075 - val_accuracy: 0.8350\n",
      "Epoch 35/100\n",
      "80/80 [==============================] - 3s 39ms/step - loss: 0.4091 - accuracy: 0.8340 - val_loss: 0.4051 - val_accuracy: 0.8340\n",
      "Epoch 36/100\n",
      "80/80 [==============================] - 3s 40ms/step - loss: 0.4056 - accuracy: 0.8347 - val_loss: 0.4084 - val_accuracy: 0.8330\n",
      "Epoch 37/100\n",
      "80/80 [==============================] - 4s 47ms/step - loss: 0.4062 - accuracy: 0.8338 - val_loss: 0.4057 - val_accuracy: 0.8340\n",
      "Epoch 38/100\n",
      "80/80 [==============================] - 3s 44ms/step - loss: 0.4063 - accuracy: 0.8364 - val_loss: 0.4003 - val_accuracy: 0.8350\n",
      "Epoch 39/100\n",
      "80/80 [==============================] - 3s 37ms/step - loss: 0.4044 - accuracy: 0.8372 - val_loss: 0.4153 - val_accuracy: 0.8380\n",
      "Epoch 40/100\n",
      "80/80 [==============================] - 4s 45ms/step - loss: 0.4026 - accuracy: 0.8354 - val_loss: 0.4020 - val_accuracy: 0.8370\n",
      "Epoch 41/100\n",
      "80/80 [==============================] - 3s 43ms/step - loss: 0.4009 - accuracy: 0.8369 - val_loss: 0.4131 - val_accuracy: 0.8340\n",
      "Epoch 42/100\n",
      "80/80 [==============================] - 3s 36ms/step - loss: 0.4008 - accuracy: 0.8380 - val_loss: 0.4146 - val_accuracy: 0.8320\n",
      "Epoch 43/100\n",
      "80/80 [==============================] - 3s 31ms/step - loss: 0.4002 - accuracy: 0.8374 - val_loss: 0.4159 - val_accuracy: 0.8360\n",
      "Epoch 44/100\n",
      "80/80 [==============================] - 2s 21ms/step - loss: 0.3989 - accuracy: 0.8380 - val_loss: 0.4123 - val_accuracy: 0.8340\n",
      "Epoch 45/100\n",
      "80/80 [==============================] - 1s 14ms/step - loss: 0.4041 - accuracy: 0.8383 - val_loss: 0.4239 - val_accuracy: 0.8380\n",
      "Epoch 46/100\n",
      "80/80 [==============================] - 1s 12ms/step - loss: 0.4029 - accuracy: 0.8370 - val_loss: 0.4071 - val_accuracy: 0.8310\n",
      "Epoch 47/100\n",
      "80/80 [==============================] - 1s 12ms/step - loss: 0.4027 - accuracy: 0.8376 - val_loss: 0.4380 - val_accuracy: 0.8280\n",
      "Epoch 48/100\n",
      "80/80 [==============================] - 1s 12ms/step - loss: 0.4021 - accuracy: 0.8393 - val_loss: 0.4317 - val_accuracy: 0.8350\n",
      "Epoch 49/100\n",
      "80/80 [==============================] - 1s 15ms/step - loss: 0.4006 - accuracy: 0.8390 - val_loss: 0.4261 - val_accuracy: 0.8310\n",
      "Epoch 50/100\n",
      "80/80 [==============================] - 1s 12ms/step - loss: 0.4004 - accuracy: 0.8385 - val_loss: 0.4418 - val_accuracy: 0.8360\n",
      "Epoch 51/100\n",
      "80/80 [==============================] - 1s 12ms/step - loss: 0.4053 - accuracy: 0.8395 - val_loss: 0.4357 - val_accuracy: 0.8360\n",
      "Epoch 52/100\n",
      "80/80 [==============================] - 1s 12ms/step - loss: 0.4019 - accuracy: 0.8400 - val_loss: 0.4408 - val_accuracy: 0.8360\n",
      "Epoch 53/100\n",
      "80/80 [==============================] - 1s 12ms/step - loss: 0.3999 - accuracy: 0.8380 - val_loss: 0.4301 - val_accuracy: 0.8330\n",
      "Epoch 54/100\n",
      "80/80 [==============================] - 1s 11ms/step - loss: 0.3984 - accuracy: 0.8380 - val_loss: 0.4297 - val_accuracy: 0.8320\n",
      "Epoch 55/100\n",
      "80/80 [==============================] - 1s 15ms/step - loss: 0.4006 - accuracy: 0.8395 - val_loss: 0.4163 - val_accuracy: 0.8330\n",
      "Epoch 56/100\n",
      "80/80 [==============================] - 1s 16ms/step - loss: 0.3982 - accuracy: 0.8389 - val_loss: 0.4282 - val_accuracy: 0.8340\n",
      "Epoch 57/100\n",
      "80/80 [==============================] - 1s 14ms/step - loss: 0.3975 - accuracy: 0.8367 - val_loss: 0.4367 - val_accuracy: 0.8320\n",
      "Epoch 58/100\n"
     ]
    },
    {
     "name": "stdout",
     "output_type": "stream",
     "text": [
      "80/80 [==============================] - 1s 11ms/step - loss: 0.3980 - accuracy: 0.8389 - val_loss: 0.4308 - val_accuracy: 0.8340\n",
      "Epoch 59/100\n",
      "80/80 [==============================] - 1s 12ms/step - loss: 0.3998 - accuracy: 0.8394 - val_loss: 0.4289 - val_accuracy: 0.8320\n",
      "Epoch 60/100\n",
      "80/80 [==============================] - 1s 12ms/step - loss: 0.4170 - accuracy: 0.8279 - val_loss: 0.4762 - val_accuracy: 0.8090\n",
      "Epoch 61/100\n",
      "80/80 [==============================] - 1s 12ms/step - loss: 0.4110 - accuracy: 0.8235 - val_loss: 0.4138 - val_accuracy: 0.8320\n",
      "Epoch 62/100\n",
      "80/80 [==============================] - 1s 11ms/step - loss: 0.4006 - accuracy: 0.8375 - val_loss: 0.4344 - val_accuracy: 0.8350\n",
      "Epoch 63/100\n",
      "80/80 [==============================] - 1s 12ms/step - loss: 0.4021 - accuracy: 0.8390 - val_loss: 0.4374 - val_accuracy: 0.8370\n",
      "Epoch 64/100\n",
      "80/80 [==============================] - 1s 11ms/step - loss: 0.4049 - accuracy: 0.8385 - val_loss: 0.4440 - val_accuracy: 0.8380\n",
      "Epoch 65/100\n",
      "80/80 [==============================] - 1s 15ms/step - loss: 0.3985 - accuracy: 0.8388 - val_loss: 0.4153 - val_accuracy: 0.8330\n",
      "Epoch 66/100\n",
      "80/80 [==============================] - 1s 17ms/step - loss: 0.3986 - accuracy: 0.8390 - val_loss: 0.4277 - val_accuracy: 0.8330\n",
      "Epoch 67/100\n",
      "80/80 [==============================] - 1s 14ms/step - loss: 0.3982 - accuracy: 0.8384 - val_loss: 0.4307 - val_accuracy: 0.8370\n",
      "Epoch 68/100\n",
      "80/80 [==============================] - 1s 12ms/step - loss: 0.3975 - accuracy: 0.8385 - val_loss: 0.4299 - val_accuracy: 0.8350\n",
      "Epoch 69/100\n",
      "80/80 [==============================] - 1s 13ms/step - loss: 0.3968 - accuracy: 0.8385 - val_loss: 0.4414 - val_accuracy: 0.8340\n",
      "Epoch 70/100\n",
      "80/80 [==============================] - 1s 14ms/step - loss: 0.3963 - accuracy: 0.8391 - val_loss: 0.4514 - val_accuracy: 0.8360\n",
      "Epoch 71/100\n",
      "80/80 [==============================] - 1s 17ms/step - loss: 0.3967 - accuracy: 0.8378 - val_loss: 0.4410 - val_accuracy: 0.8340\n",
      "Epoch 72/100\n",
      "80/80 [==============================] - 1s 11ms/step - loss: 0.3954 - accuracy: 0.8383 - val_loss: 0.4216 - val_accuracy: 0.8280\n",
      "Epoch 73/100\n",
      "80/80 [==============================] - 1s 12ms/step - loss: 0.4061 - accuracy: 0.8319 - val_loss: 0.4204 - val_accuracy: 0.8310\n",
      "Epoch 74/100\n",
      "80/80 [==============================] - 1s 12ms/step - loss: 0.3998 - accuracy: 0.8393 - val_loss: 0.4520 - val_accuracy: 0.8300\n",
      "Epoch 75/100\n",
      "80/80 [==============================] - 1s 12ms/step - loss: 0.3980 - accuracy: 0.8389 - val_loss: 0.4425 - val_accuracy: 0.8300\n",
      "Epoch 76/100\n",
      "80/80 [==============================] - 1s 12ms/step - loss: 0.3970 - accuracy: 0.8393 - val_loss: 0.4293 - val_accuracy: 0.8300\n",
      "Epoch 77/100\n",
      "80/80 [==============================] - 1s 11ms/step - loss: 0.3984 - accuracy: 0.8396 - val_loss: 0.4358 - val_accuracy: 0.8320\n",
      "Epoch 78/100\n",
      "80/80 [==============================] - 1s 11ms/step - loss: 0.3970 - accuracy: 0.8395 - val_loss: 0.4292 - val_accuracy: 0.8310\n",
      "Epoch 79/100\n",
      "80/80 [==============================] - 1s 16ms/step - loss: 0.3988 - accuracy: 0.8395 - val_loss: 0.4357 - val_accuracy: 0.8320\n",
      "Epoch 80/100\n",
      "80/80 [==============================] - 1s 16ms/step - loss: 0.3972 - accuracy: 0.8385 - val_loss: 0.4518 - val_accuracy: 0.8330\n",
      "Epoch 81/100\n",
      "80/80 [==============================] - 2s 20ms/step - loss: 0.3972 - accuracy: 0.8404 - val_loss: 0.4240 - val_accuracy: 0.8280\n",
      "Epoch 82/100\n",
      "80/80 [==============================] - 1s 11ms/step - loss: 0.3981 - accuracy: 0.8390 - val_loss: 0.4406 - val_accuracy: 0.8350\n",
      "Epoch 83/100\n",
      "80/80 [==============================] - 1s 11ms/step - loss: 0.3969 - accuracy: 0.8396 - val_loss: 0.4381 - val_accuracy: 0.8380\n",
      "Epoch 84/100\n",
      "80/80 [==============================] - 1s 11ms/step - loss: 0.3971 - accuracy: 0.8380 - val_loss: 0.4411 - val_accuracy: 0.8340\n",
      "Epoch 85/100\n",
      "80/80 [==============================] - 1s 12ms/step - loss: 0.3978 - accuracy: 0.8375 - val_loss: 0.4467 - val_accuracy: 0.8380\n",
      "Epoch 86/100\n",
      "80/80 [==============================] - 1s 11ms/step - loss: 0.3973 - accuracy: 0.8394 - val_loss: 0.4304 - val_accuracy: 0.8360\n",
      "Epoch 87/100\n",
      "80/80 [==============================] - 1s 11ms/step - loss: 0.3969 - accuracy: 0.8379 - val_loss: 0.4416 - val_accuracy: 0.8360\n",
      "Epoch 88/100\n",
      "80/80 [==============================] - 1s 11ms/step - loss: 0.3959 - accuracy: 0.8386 - val_loss: 0.4413 - val_accuracy: 0.8350\n",
      "Epoch 89/100\n",
      "80/80 [==============================] - 1s 11ms/step - loss: 0.3974 - accuracy: 0.8400 - val_loss: 0.4396 - val_accuracy: 0.8350\n",
      "Epoch 90/100\n",
      "80/80 [==============================] - 1s 12ms/step - loss: 0.3968 - accuracy: 0.8400 - val_loss: 0.4304 - val_accuracy: 0.8340\n",
      "Epoch 91/100\n",
      "80/80 [==============================] - 1s 12ms/step - loss: 0.3967 - accuracy: 0.8393 - val_loss: 0.4433 - val_accuracy: 0.8310\n",
      "Epoch 92/100\n",
      "80/80 [==============================] - 1s 11ms/step - loss: 0.3973 - accuracy: 0.8391 - val_loss: 0.4523 - val_accuracy: 0.8350\n",
      "Epoch 93/100\n",
      "80/80 [==============================] - 1s 11ms/step - loss: 0.3981 - accuracy: 0.8412 - val_loss: 0.4314 - val_accuracy: 0.8320\n",
      "Epoch 94/100\n",
      "80/80 [==============================] - 1s 11ms/step - loss: 0.3971 - accuracy: 0.8391 - val_loss: 0.4436 - val_accuracy: 0.8330\n",
      "Epoch 95/100\n",
      "80/80 [==============================] - 1s 12ms/step - loss: 0.3974 - accuracy: 0.8393 - val_loss: 0.4176 - val_accuracy: 0.8310\n",
      "Epoch 96/100\n",
      "80/80 [==============================] - 1s 12ms/step - loss: 0.3960 - accuracy: 0.8378 - val_loss: 0.4180 - val_accuracy: 0.8340\n",
      "Epoch 97/100\n",
      "80/80 [==============================] - 1s 12ms/step - loss: 0.3955 - accuracy: 0.8407 - val_loss: 0.4351 - val_accuracy: 0.8340\n",
      "Epoch 98/100\n",
      "80/80 [==============================] - 1s 11ms/step - loss: 0.3967 - accuracy: 0.8376 - val_loss: 0.4167 - val_accuracy: 0.8310\n",
      "Epoch 99/100\n",
      "80/80 [==============================] - 1s 13ms/step - loss: 0.3967 - accuracy: 0.8398 - val_loss: 0.4244 - val_accuracy: 0.8320\n",
      "Epoch 100/100\n",
      "80/80 [==============================] - 1s 17ms/step - loss: 0.3963 - accuracy: 0.8394 - val_loss: 0.4209 - val_accuracy: 0.8280\n"
     ]
    }
   ],
   "source": [
    "import tensorflow as tf\n",
    "\n",
    "model = tf.keras.models.Sequential([\n",
    "    tf.keras.layers.LSTM(64, return_sequences=True, input_shape=(5, 1)),\n",
    "    tf.keras.layers.LSTM(64),\n",
    "    tf.keras.layers.Dense(1, activation='relu')\n",
    "])\n",
    "\n",
    "X_train_reshaped = X_train.reshape((X_train.shape[0], X_train.shape[1], 1))\n",
    "X_test_reshaped = X_test.reshape((X_test.shape[0], X_test.shape[1], 1))\n",
    "\n",
    "model.compile(loss='binary_crossentropy', optimizer='adam', metrics=['accuracy'])\n",
    "\n",
    "lolol = model.fit(X_train_reshaped, y_train,  validation_data=(X_test_reshaped, y_test), epochs=100, batch_size=100)"
   ]
  },
  {
   "cell_type": "code",
   "execution_count": 132,
   "metadata": {},
   "outputs": [
    {
     "data": {
      "text/plain": [
       "[<matplotlib.lines.Line2D at 0x7f891420ff10>]"
      ]
     },
     "execution_count": 132,
     "metadata": {},
     "output_type": "execute_result"
    },
    {
     "data": {
      "text/plain": [
       "[<matplotlib.lines.Line2D at 0x7f891421d430>]"
      ]
     },
     "execution_count": 132,
     "metadata": {},
     "output_type": "execute_result"
    },
    {
     "data": {
      "text/plain": [
       "Text(0.5, 1.0, 'Training and Validation Accuracy')"
      ]
     },
     "execution_count": 132,
     "metadata": {},
     "output_type": "execute_result"
    },
    {
     "data": {
      "text/plain": [
       "Text(0.5, 0, 'Epoch')"
      ]
     },
     "execution_count": 132,
     "metadata": {},
     "output_type": "execute_result"
    },
    {
     "data": {
      "text/plain": [
       "Text(0, 0.5, 'Accuracy')"
      ]
     },
     "execution_count": 132,
     "metadata": {},
     "output_type": "execute_result"
    },
    {
     "data": {
      "text/plain": [
       "<matplotlib.legend.Legend at 0x7f891421d6a0>"
      ]
     },
     "execution_count": 132,
     "metadata": {},
     "output_type": "execute_result"
    },
    {
     "data": {
      "text/plain": [
       "[]"
      ]
     },
     "execution_count": 132,
     "metadata": {},
     "output_type": "execute_result"
    },
    {
     "data": {
      "image/png": "[encoded data removed]",
      "text/plain": [
       "<Figure size 432x288 with 1 Axes>"
      ]
     },
     "metadata": {},
     "output_type": "display_data"
    }
   ],
   "source": [
    "acc = lolol.history['accuracy']\n",
    "val = lolol.history['val_accuracy']\n",
    "epochs = range(1, len(acc) + 1)\n",
    " \n",
    "plt.plot(epochs, acc, '-', label='Training accuracy')\n",
    "plt.plot(epochs, val, ':', label='Validation accuracy')\n",
    "plt.title('Training and Validation Accuracy')\n",
    "plt.xlabel('Epoch')\n",
    "plt.ylabel('Accuracy')\n",
    "plt.legend(loc='lower right')\n",
    "plt.plot()"
   ]
  },
  {
   "cell_type": "markdown",
   "metadata": {},
   "source": [
    "### Train final, best model ; Save model and its parameters"
   ]
  },
  {
   "cell_type": "code",
   "execution_count": 133,
   "metadata": {},
   "outputs": [],
   "source": [
    "import pickle\n",
    "pickle.dump(model,open('model.pkl','wb'))"
   ]
  },
  {
   "cell_type": "code",
   "execution_count": 134,
   "metadata": {},
   "outputs": [
    {
     "name": "stderr",
     "output_type": "stream",
     "text": [
      "2023-05-06 19:14:18.856247: I tensorflow/core/common_runtime/executor.cc:1197] [/device:CPU:0] (DEBUG INFO) Executor start aborting (this does not indicate an error and you can ignore this message): INVALID_ARGUMENT: You must feed a value for placeholder tensor 'gradients/split_2_grad/concat/split_2/split_dim' with dtype int32\n",
      "\t [[{{node gradients/split_2_grad/concat/split_2/split_dim}}]]\n",
      "2023-05-06 19:14:18.859305: I tensorflow/core/common_runtime/executor.cc:1197] [/device:CPU:0] (DEBUG INFO) Executor start aborting (this does not indicate an error and you can ignore this message): INVALID_ARGUMENT: You must feed a value for placeholder tensor 'gradients/split_grad/concat/split/split_dim' with dtype int32\n",
      "\t [[{{node gradients/split_grad/concat/split/split_dim}}]]\n",
      "2023-05-06 19:14:18.861758: I tensorflow/core/common_runtime/executor.cc:1197] [/device:CPU:0] (DEBUG INFO) Executor start aborting (this does not indicate an error and you can ignore this message): INVALID_ARGUMENT: You must feed a value for placeholder tensor 'gradients/split_1_grad/concat/split_1/split_dim' with dtype int32\n",
      "\t [[{{node gradients/split_1_grad/concat/split_1/split_dim}}]]\n",
      "2023-05-06 19:14:19.153897: I tensorflow/core/common_runtime/executor.cc:1197] [/device:CPU:0] (DEBUG INFO) Executor start aborting (this does not indicate an error and you can ignore this message): INVALID_ARGUMENT: You must feed a value for placeholder tensor 'gradients/split_2_grad/concat/split_2/split_dim' with dtype int32\n",
      "\t [[{{node gradients/split_2_grad/concat/split_2/split_dim}}]]\n",
      "2023-05-06 19:14:19.156554: I tensorflow/core/common_runtime/executor.cc:1197] [/device:CPU:0] (DEBUG INFO) Executor start aborting (this does not indicate an error and you can ignore this message): INVALID_ARGUMENT: You must feed a value for placeholder tensor 'gradients/split_grad/concat/split/split_dim' with dtype int32\n",
      "\t [[{{node gradients/split_grad/concat/split/split_dim}}]]\n",
      "2023-05-06 19:14:19.159016: I tensorflow/core/common_runtime/executor.cc:1197] [/device:CPU:0] (DEBUG INFO) Executor start aborting (this does not indicate an error and you can ignore this message): INVALID_ARGUMENT: You must feed a value for placeholder tensor 'gradients/split_1_grad/concat/split_1/split_dim' with dtype int32\n",
      "\t [[{{node gradients/split_1_grad/concat/split_1/split_dim}}]]\n"
     ]
    }
   ],
   "source": [
    "model = pickle.load(open('model.pkl','rb'))"
   ]
  },
  {
   "cell_type": "code",
   "execution_count": null,
   "metadata": {},
   "outputs": [],
   "source": []
  },
  {
   "cell_type": "code",
   "execution_count": null,
   "metadata": {},
   "outputs": [],
   "source": []
  },
  {
   "cell_type": "code",
   "execution_count": null,
   "metadata": {},
   "outputs": [],
   "source": []
  }
 ],
 "metadata": {
  "kernelspec": {
   "display_name": "Python 3 (ipykernel)",
   "language": "python",
   "name": "python3"
  },
  "language_info": {
   "codemirror_mode": {
    "name": "ipython",
    "version": 3
   },
   "file_extension": ".py",
   "mimetype": "text/x-python",
   "name": "python",
   "nbconvert_exporter": "python",
   "pygments_lexer": "ipython3",
   "version": "3.9.12"
  }
 },
 "nbformat": 4,
 "nbformat_minor": 2
}
